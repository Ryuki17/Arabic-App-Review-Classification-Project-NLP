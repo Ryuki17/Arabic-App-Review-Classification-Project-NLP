{
  "nbformat": 4,
  "nbformat_minor": 0,
  "metadata": {
    "colab": {
      "provenance": [],
      "gpuType": "A100",
      "authorship_tag": "ABX9TyNV8MOIoCvl9AFdw9/CIG8U"
    },
    "kernelspec": {
      "name": "python3",
      "display_name": "Python 3"
    },
    "language_info": {
      "name": "python"
    },
    "accelerator": "GPU",
    "widgets": {
      "application/vnd.jupyter.widget-state+json": {
        "0c3266589838437d8f992e455a4d606c": {
          "model_module": "@jupyter-widgets/controls",
          "model_name": "HBoxModel",
          "model_module_version": "1.5.0",
          "state": {
            "_dom_classes": [],
            "_model_module": "@jupyter-widgets/controls",
            "_model_module_version": "1.5.0",
            "_model_name": "HBoxModel",
            "_view_count": null,
            "_view_module": "@jupyter-widgets/controls",
            "_view_module_version": "1.5.0",
            "_view_name": "HBoxView",
            "box_style": "",
            "children": [
              "IPY_MODEL_bfae04a1846e4d358afc8b274765a173",
              "IPY_MODEL_318a8914bc254dc0ab6e1a141d6c9409",
              "IPY_MODEL_48ee67d378e7427db1bd4bc676bcab1a"
            ],
            "layout": "IPY_MODEL_21486a549b8b49c388c678d95d2ea042"
          }
        },
        "bfae04a1846e4d358afc8b274765a173": {
          "model_module": "@jupyter-widgets/controls",
          "model_name": "HTMLModel",
          "model_module_version": "1.5.0",
          "state": {
            "_dom_classes": [],
            "_model_module": "@jupyter-widgets/controls",
            "_model_module_version": "1.5.0",
            "_model_name": "HTMLModel",
            "_view_count": null,
            "_view_module": "@jupyter-widgets/controls",
            "_view_module_version": "1.5.0",
            "_view_name": "HTMLView",
            "description": "",
            "description_tooltip": null,
            "layout": "IPY_MODEL_842d9d26fdd34a6e8ef18026a04047c8",
            "placeholder": "​",
            "style": "IPY_MODEL_2721c5a481974bb8a20dd028a2aa61dc",
            "value": "tokenizer_config.json: 100%"
          }
        },
        "318a8914bc254dc0ab6e1a141d6c9409": {
          "model_module": "@jupyter-widgets/controls",
          "model_name": "FloatProgressModel",
          "model_module_version": "1.5.0",
          "state": {
            "_dom_classes": [],
            "_model_module": "@jupyter-widgets/controls",
            "_model_module_version": "1.5.0",
            "_model_name": "FloatProgressModel",
            "_view_count": null,
            "_view_module": "@jupyter-widgets/controls",
            "_view_module_version": "1.5.0",
            "_view_name": "ProgressView",
            "bar_style": "success",
            "description": "",
            "description_tooltip": null,
            "layout": "IPY_MODEL_23b8c21e7a404479874c3500026c14a4",
            "max": 611,
            "min": 0,
            "orientation": "horizontal",
            "style": "IPY_MODEL_ac51ef8138404dc881da083cf93e9104",
            "value": 611
          }
        },
        "48ee67d378e7427db1bd4bc676bcab1a": {
          "model_module": "@jupyter-widgets/controls",
          "model_name": "HTMLModel",
          "model_module_version": "1.5.0",
          "state": {
            "_dom_classes": [],
            "_model_module": "@jupyter-widgets/controls",
            "_model_module_version": "1.5.0",
            "_model_name": "HTMLModel",
            "_view_count": null,
            "_view_module": "@jupyter-widgets/controls",
            "_view_module_version": "1.5.0",
            "_view_name": "HTMLView",
            "description": "",
            "description_tooltip": null,
            "layout": "IPY_MODEL_ddd9f986b2e643f185355dcb59534b8f",
            "placeholder": "​",
            "style": "IPY_MODEL_230540a3f9c148958c66658d32bbcbb1",
            "value": " 611/611 [00:00&lt;00:00, 67.5kB/s]"
          }
        },
        "21486a549b8b49c388c678d95d2ea042": {
          "model_module": "@jupyter-widgets/base",
          "model_name": "LayoutModel",
          "model_module_version": "1.2.0",
          "state": {
            "_model_module": "@jupyter-widgets/base",
            "_model_module_version": "1.2.0",
            "_model_name": "LayoutModel",
            "_view_count": null,
            "_view_module": "@jupyter-widgets/base",
            "_view_module_version": "1.2.0",
            "_view_name": "LayoutView",
            "align_content": null,
            "align_items": null,
            "align_self": null,
            "border": null,
            "bottom": null,
            "display": null,
            "flex": null,
            "flex_flow": null,
            "grid_area": null,
            "grid_auto_columns": null,
            "grid_auto_flow": null,
            "grid_auto_rows": null,
            "grid_column": null,
            "grid_gap": null,
            "grid_row": null,
            "grid_template_areas": null,
            "grid_template_columns": null,
            "grid_template_rows": null,
            "height": null,
            "justify_content": null,
            "justify_items": null,
            "left": null,
            "margin": null,
            "max_height": null,
            "max_width": null,
            "min_height": null,
            "min_width": null,
            "object_fit": null,
            "object_position": null,
            "order": null,
            "overflow": null,
            "overflow_x": null,
            "overflow_y": null,
            "padding": null,
            "right": null,
            "top": null,
            "visibility": null,
            "width": null
          }
        },
        "842d9d26fdd34a6e8ef18026a04047c8": {
          "model_module": "@jupyter-widgets/base",
          "model_name": "LayoutModel",
          "model_module_version": "1.2.0",
          "state": {
            "_model_module": "@jupyter-widgets/base",
            "_model_module_version": "1.2.0",
            "_model_name": "LayoutModel",
            "_view_count": null,
            "_view_module": "@jupyter-widgets/base",
            "_view_module_version": "1.2.0",
            "_view_name": "LayoutView",
            "align_content": null,
            "align_items": null,
            "align_self": null,
            "border": null,
            "bottom": null,
            "display": null,
            "flex": null,
            "flex_flow": null,
            "grid_area": null,
            "grid_auto_columns": null,
            "grid_auto_flow": null,
            "grid_auto_rows": null,
            "grid_column": null,
            "grid_gap": null,
            "grid_row": null,
            "grid_template_areas": null,
            "grid_template_columns": null,
            "grid_template_rows": null,
            "height": null,
            "justify_content": null,
            "justify_items": null,
            "left": null,
            "margin": null,
            "max_height": null,
            "max_width": null,
            "min_height": null,
            "min_width": null,
            "object_fit": null,
            "object_position": null,
            "order": null,
            "overflow": null,
            "overflow_x": null,
            "overflow_y": null,
            "padding": null,
            "right": null,
            "top": null,
            "visibility": null,
            "width": null
          }
        },
        "2721c5a481974bb8a20dd028a2aa61dc": {
          "model_module": "@jupyter-widgets/controls",
          "model_name": "DescriptionStyleModel",
          "model_module_version": "1.5.0",
          "state": {
            "_model_module": "@jupyter-widgets/controls",
            "_model_module_version": "1.5.0",
            "_model_name": "DescriptionStyleModel",
            "_view_count": null,
            "_view_module": "@jupyter-widgets/base",
            "_view_module_version": "1.2.0",
            "_view_name": "StyleView",
            "description_width": ""
          }
        },
        "23b8c21e7a404479874c3500026c14a4": {
          "model_module": "@jupyter-widgets/base",
          "model_name": "LayoutModel",
          "model_module_version": "1.2.0",
          "state": {
            "_model_module": "@jupyter-widgets/base",
            "_model_module_version": "1.2.0",
            "_model_name": "LayoutModel",
            "_view_count": null,
            "_view_module": "@jupyter-widgets/base",
            "_view_module_version": "1.2.0",
            "_view_name": "LayoutView",
            "align_content": null,
            "align_items": null,
            "align_self": null,
            "border": null,
            "bottom": null,
            "display": null,
            "flex": null,
            "flex_flow": null,
            "grid_area": null,
            "grid_auto_columns": null,
            "grid_auto_flow": null,
            "grid_auto_rows": null,
            "grid_column": null,
            "grid_gap": null,
            "grid_row": null,
            "grid_template_areas": null,
            "grid_template_columns": null,
            "grid_template_rows": null,
            "height": null,
            "justify_content": null,
            "justify_items": null,
            "left": null,
            "margin": null,
            "max_height": null,
            "max_width": null,
            "min_height": null,
            "min_width": null,
            "object_fit": null,
            "object_position": null,
            "order": null,
            "overflow": null,
            "overflow_x": null,
            "overflow_y": null,
            "padding": null,
            "right": null,
            "top": null,
            "visibility": null,
            "width": null
          }
        },
        "ac51ef8138404dc881da083cf93e9104": {
          "model_module": "@jupyter-widgets/controls",
          "model_name": "ProgressStyleModel",
          "model_module_version": "1.5.0",
          "state": {
            "_model_module": "@jupyter-widgets/controls",
            "_model_module_version": "1.5.0",
            "_model_name": "ProgressStyleModel",
            "_view_count": null,
            "_view_module": "@jupyter-widgets/base",
            "_view_module_version": "1.2.0",
            "_view_name": "StyleView",
            "bar_color": null,
            "description_width": ""
          }
        },
        "ddd9f986b2e643f185355dcb59534b8f": {
          "model_module": "@jupyter-widgets/base",
          "model_name": "LayoutModel",
          "model_module_version": "1.2.0",
          "state": {
            "_model_module": "@jupyter-widgets/base",
            "_model_module_version": "1.2.0",
            "_model_name": "LayoutModel",
            "_view_count": null,
            "_view_module": "@jupyter-widgets/base",
            "_view_module_version": "1.2.0",
            "_view_name": "LayoutView",
            "align_content": null,
            "align_items": null,
            "align_self": null,
            "border": null,
            "bottom": null,
            "display": null,
            "flex": null,
            "flex_flow": null,
            "grid_area": null,
            "grid_auto_columns": null,
            "grid_auto_flow": null,
            "grid_auto_rows": null,
            "grid_column": null,
            "grid_gap": null,
            "grid_row": null,
            "grid_template_areas": null,
            "grid_template_columns": null,
            "grid_template_rows": null,
            "height": null,
            "justify_content": null,
            "justify_items": null,
            "left": null,
            "margin": null,
            "max_height": null,
            "max_width": null,
            "min_height": null,
            "min_width": null,
            "object_fit": null,
            "object_position": null,
            "order": null,
            "overflow": null,
            "overflow_x": null,
            "overflow_y": null,
            "padding": null,
            "right": null,
            "top": null,
            "visibility": null,
            "width": null
          }
        },
        "230540a3f9c148958c66658d32bbcbb1": {
          "model_module": "@jupyter-widgets/controls",
          "model_name": "DescriptionStyleModel",
          "model_module_version": "1.5.0",
          "state": {
            "_model_module": "@jupyter-widgets/controls",
            "_model_module_version": "1.5.0",
            "_model_name": "DescriptionStyleModel",
            "_view_count": null,
            "_view_module": "@jupyter-widgets/base",
            "_view_module_version": "1.2.0",
            "_view_name": "StyleView",
            "description_width": ""
          }
        },
        "c4df6bceb4c44e43b00e5495573ec799": {
          "model_module": "@jupyter-widgets/controls",
          "model_name": "HBoxModel",
          "model_module_version": "1.5.0",
          "state": {
            "_dom_classes": [],
            "_model_module": "@jupyter-widgets/controls",
            "_model_module_version": "1.5.0",
            "_model_name": "HBoxModel",
            "_view_count": null,
            "_view_module": "@jupyter-widgets/controls",
            "_view_module_version": "1.5.0",
            "_view_name": "HBoxView",
            "box_style": "",
            "children": [
              "IPY_MODEL_57985ba6ca364d20b17b420f04592828",
              "IPY_MODEL_0b9f3a35117b4439903e648fab4fd745",
              "IPY_MODEL_ce168f5fa3a3443794367bdd7d53ae57"
            ],
            "layout": "IPY_MODEL_6ab9fab6f15545c19a25b216ac1a1d8d"
          }
        },
        "57985ba6ca364d20b17b420f04592828": {
          "model_module": "@jupyter-widgets/controls",
          "model_name": "HTMLModel",
          "model_module_version": "1.5.0",
          "state": {
            "_dom_classes": [],
            "_model_module": "@jupyter-widgets/controls",
            "_model_module_version": "1.5.0",
            "_model_name": "HTMLModel",
            "_view_count": null,
            "_view_module": "@jupyter-widgets/controls",
            "_view_module_version": "1.5.0",
            "_view_name": "HTMLView",
            "description": "",
            "description_tooltip": null,
            "layout": "IPY_MODEL_e3ab8baf13e1442098ba8090e27b60d1",
            "placeholder": "​",
            "style": "IPY_MODEL_e2caa09786714ee3a899dc78f1060c75",
            "value": "config.json: 100%"
          }
        },
        "0b9f3a35117b4439903e648fab4fd745": {
          "model_module": "@jupyter-widgets/controls",
          "model_name": "FloatProgressModel",
          "model_module_version": "1.5.0",
          "state": {
            "_dom_classes": [],
            "_model_module": "@jupyter-widgets/controls",
            "_model_module_version": "1.5.0",
            "_model_name": "FloatProgressModel",
            "_view_count": null,
            "_view_module": "@jupyter-widgets/controls",
            "_view_module_version": "1.5.0",
            "_view_name": "ProgressView",
            "bar_style": "success",
            "description": "",
            "description_tooltip": null,
            "layout": "IPY_MODEL_cfc64005dde347628c8a9aa1ebea9a0b",
            "max": 385,
            "min": 0,
            "orientation": "horizontal",
            "style": "IPY_MODEL_a7ee6114ba7a4b6ebcb6d80d3ed47c38",
            "value": 385
          }
        },
        "ce168f5fa3a3443794367bdd7d53ae57": {
          "model_module": "@jupyter-widgets/controls",
          "model_name": "HTMLModel",
          "model_module_version": "1.5.0",
          "state": {
            "_dom_classes": [],
            "_model_module": "@jupyter-widgets/controls",
            "_model_module_version": "1.5.0",
            "_model_name": "HTMLModel",
            "_view_count": null,
            "_view_module": "@jupyter-widgets/controls",
            "_view_module_version": "1.5.0",
            "_view_name": "HTMLView",
            "description": "",
            "description_tooltip": null,
            "layout": "IPY_MODEL_ae2b935aea134bc8b040c61f18e6545e",
            "placeholder": "​",
            "style": "IPY_MODEL_572ab0be1f2c484cbde2d2913dbfb88f",
            "value": " 385/385 [00:00&lt;00:00, 42.4kB/s]"
          }
        },
        "6ab9fab6f15545c19a25b216ac1a1d8d": {
          "model_module": "@jupyter-widgets/base",
          "model_name": "LayoutModel",
          "model_module_version": "1.2.0",
          "state": {
            "_model_module": "@jupyter-widgets/base",
            "_model_module_version": "1.2.0",
            "_model_name": "LayoutModel",
            "_view_count": null,
            "_view_module": "@jupyter-widgets/base",
            "_view_module_version": "1.2.0",
            "_view_name": "LayoutView",
            "align_content": null,
            "align_items": null,
            "align_self": null,
            "border": null,
            "bottom": null,
            "display": null,
            "flex": null,
            "flex_flow": null,
            "grid_area": null,
            "grid_auto_columns": null,
            "grid_auto_flow": null,
            "grid_auto_rows": null,
            "grid_column": null,
            "grid_gap": null,
            "grid_row": null,
            "grid_template_areas": null,
            "grid_template_columns": null,
            "grid_template_rows": null,
            "height": null,
            "justify_content": null,
            "justify_items": null,
            "left": null,
            "margin": null,
            "max_height": null,
            "max_width": null,
            "min_height": null,
            "min_width": null,
            "object_fit": null,
            "object_position": null,
            "order": null,
            "overflow": null,
            "overflow_x": null,
            "overflow_y": null,
            "padding": null,
            "right": null,
            "top": null,
            "visibility": null,
            "width": null
          }
        },
        "e3ab8baf13e1442098ba8090e27b60d1": {
          "model_module": "@jupyter-widgets/base",
          "model_name": "LayoutModel",
          "model_module_version": "1.2.0",
          "state": {
            "_model_module": "@jupyter-widgets/base",
            "_model_module_version": "1.2.0",
            "_model_name": "LayoutModel",
            "_view_count": null,
            "_view_module": "@jupyter-widgets/base",
            "_view_module_version": "1.2.0",
            "_view_name": "LayoutView",
            "align_content": null,
            "align_items": null,
            "align_self": null,
            "border": null,
            "bottom": null,
            "display": null,
            "flex": null,
            "flex_flow": null,
            "grid_area": null,
            "grid_auto_columns": null,
            "grid_auto_flow": null,
            "grid_auto_rows": null,
            "grid_column": null,
            "grid_gap": null,
            "grid_row": null,
            "grid_template_areas": null,
            "grid_template_columns": null,
            "grid_template_rows": null,
            "height": null,
            "justify_content": null,
            "justify_items": null,
            "left": null,
            "margin": null,
            "max_height": null,
            "max_width": null,
            "min_height": null,
            "min_width": null,
            "object_fit": null,
            "object_position": null,
            "order": null,
            "overflow": null,
            "overflow_x": null,
            "overflow_y": null,
            "padding": null,
            "right": null,
            "top": null,
            "visibility": null,
            "width": null
          }
        },
        "e2caa09786714ee3a899dc78f1060c75": {
          "model_module": "@jupyter-widgets/controls",
          "model_name": "DescriptionStyleModel",
          "model_module_version": "1.5.0",
          "state": {
            "_model_module": "@jupyter-widgets/controls",
            "_model_module_version": "1.5.0",
            "_model_name": "DescriptionStyleModel",
            "_view_count": null,
            "_view_module": "@jupyter-widgets/base",
            "_view_module_version": "1.2.0",
            "_view_name": "StyleView",
            "description_width": ""
          }
        },
        "cfc64005dde347628c8a9aa1ebea9a0b": {
          "model_module": "@jupyter-widgets/base",
          "model_name": "LayoutModel",
          "model_module_version": "1.2.0",
          "state": {
            "_model_module": "@jupyter-widgets/base",
            "_model_module_version": "1.2.0",
            "_model_name": "LayoutModel",
            "_view_count": null,
            "_view_module": "@jupyter-widgets/base",
            "_view_module_version": "1.2.0",
            "_view_name": "LayoutView",
            "align_content": null,
            "align_items": null,
            "align_self": null,
            "border": null,
            "bottom": null,
            "display": null,
            "flex": null,
            "flex_flow": null,
            "grid_area": null,
            "grid_auto_columns": null,
            "grid_auto_flow": null,
            "grid_auto_rows": null,
            "grid_column": null,
            "grid_gap": null,
            "grid_row": null,
            "grid_template_areas": null,
            "grid_template_columns": null,
            "grid_template_rows": null,
            "height": null,
            "justify_content": null,
            "justify_items": null,
            "left": null,
            "margin": null,
            "max_height": null,
            "max_width": null,
            "min_height": null,
            "min_width": null,
            "object_fit": null,
            "object_position": null,
            "order": null,
            "overflow": null,
            "overflow_x": null,
            "overflow_y": null,
            "padding": null,
            "right": null,
            "top": null,
            "visibility": null,
            "width": null
          }
        },
        "a7ee6114ba7a4b6ebcb6d80d3ed47c38": {
          "model_module": "@jupyter-widgets/controls",
          "model_name": "ProgressStyleModel",
          "model_module_version": "1.5.0",
          "state": {
            "_model_module": "@jupyter-widgets/controls",
            "_model_module_version": "1.5.0",
            "_model_name": "ProgressStyleModel",
            "_view_count": null,
            "_view_module": "@jupyter-widgets/base",
            "_view_module_version": "1.2.0",
            "_view_name": "StyleView",
            "bar_color": null,
            "description_width": ""
          }
        },
        "ae2b935aea134bc8b040c61f18e6545e": {
          "model_module": "@jupyter-widgets/base",
          "model_name": "LayoutModel",
          "model_module_version": "1.2.0",
          "state": {
            "_model_module": "@jupyter-widgets/base",
            "_model_module_version": "1.2.0",
            "_model_name": "LayoutModel",
            "_view_count": null,
            "_view_module": "@jupyter-widgets/base",
            "_view_module_version": "1.2.0",
            "_view_name": "LayoutView",
            "align_content": null,
            "align_items": null,
            "align_self": null,
            "border": null,
            "bottom": null,
            "display": null,
            "flex": null,
            "flex_flow": null,
            "grid_area": null,
            "grid_auto_columns": null,
            "grid_auto_flow": null,
            "grid_auto_rows": null,
            "grid_column": null,
            "grid_gap": null,
            "grid_row": null,
            "grid_template_areas": null,
            "grid_template_columns": null,
            "grid_template_rows": null,
            "height": null,
            "justify_content": null,
            "justify_items": null,
            "left": null,
            "margin": null,
            "max_height": null,
            "max_width": null,
            "min_height": null,
            "min_width": null,
            "object_fit": null,
            "object_position": null,
            "order": null,
            "overflow": null,
            "overflow_x": null,
            "overflow_y": null,
            "padding": null,
            "right": null,
            "top": null,
            "visibility": null,
            "width": null
          }
        },
        "572ab0be1f2c484cbde2d2913dbfb88f": {
          "model_module": "@jupyter-widgets/controls",
          "model_name": "DescriptionStyleModel",
          "model_module_version": "1.5.0",
          "state": {
            "_model_module": "@jupyter-widgets/controls",
            "_model_module_version": "1.5.0",
            "_model_name": "DescriptionStyleModel",
            "_view_count": null,
            "_view_module": "@jupyter-widgets/base",
            "_view_module_version": "1.2.0",
            "_view_name": "StyleView",
            "description_width": ""
          }
        },
        "2b2ba77cceff4277b85cfcbe1c65b0c3": {
          "model_module": "@jupyter-widgets/controls",
          "model_name": "HBoxModel",
          "model_module_version": "1.5.0",
          "state": {
            "_dom_classes": [],
            "_model_module": "@jupyter-widgets/controls",
            "_model_module_version": "1.5.0",
            "_model_name": "HBoxModel",
            "_view_count": null,
            "_view_module": "@jupyter-widgets/controls",
            "_view_module_version": "1.5.0",
            "_view_name": "HBoxView",
            "box_style": "",
            "children": [
              "IPY_MODEL_f9ed3eeaaab841bfbfa9e8375e5fd330",
              "IPY_MODEL_a87c8e37ace04164a6edd77d827d8124",
              "IPY_MODEL_30e6cdfda3c5404686bcff15aaae723d"
            ],
            "layout": "IPY_MODEL_89d2b77f5d1c4e63a4bb9e056919dfc3"
          }
        },
        "f9ed3eeaaab841bfbfa9e8375e5fd330": {
          "model_module": "@jupyter-widgets/controls",
          "model_name": "HTMLModel",
          "model_module_version": "1.5.0",
          "state": {
            "_dom_classes": [],
            "_model_module": "@jupyter-widgets/controls",
            "_model_module_version": "1.5.0",
            "_model_name": "HTMLModel",
            "_view_count": null,
            "_view_module": "@jupyter-widgets/controls",
            "_view_module_version": "1.5.0",
            "_view_name": "HTMLView",
            "description": "",
            "description_tooltip": null,
            "layout": "IPY_MODEL_8d19dbf17c724fdf9530c1bd4ee2aeb2",
            "placeholder": "​",
            "style": "IPY_MODEL_99eaa643ae81444e93709891ad97874c",
            "value": "vocab.txt: 100%"
          }
        },
        "a87c8e37ace04164a6edd77d827d8124": {
          "model_module": "@jupyter-widgets/controls",
          "model_name": "FloatProgressModel",
          "model_module_version": "1.5.0",
          "state": {
            "_dom_classes": [],
            "_model_module": "@jupyter-widgets/controls",
            "_model_module_version": "1.5.0",
            "_model_name": "FloatProgressModel",
            "_view_count": null,
            "_view_module": "@jupyter-widgets/controls",
            "_view_module_version": "1.5.0",
            "_view_name": "ProgressView",
            "bar_style": "success",
            "description": "",
            "description_tooltip": null,
            "layout": "IPY_MODEL_1c51f8cbaa934997bf044263ba5b5dc2",
            "max": 655995,
            "min": 0,
            "orientation": "horizontal",
            "style": "IPY_MODEL_7863ed085c814326baa4b081fba7d4b3",
            "value": 655995
          }
        },
        "30e6cdfda3c5404686bcff15aaae723d": {
          "model_module": "@jupyter-widgets/controls",
          "model_name": "HTMLModel",
          "model_module_version": "1.5.0",
          "state": {
            "_dom_classes": [],
            "_model_module": "@jupyter-widgets/controls",
            "_model_module_version": "1.5.0",
            "_model_name": "HTMLModel",
            "_view_count": null,
            "_view_module": "@jupyter-widgets/controls",
            "_view_module_version": "1.5.0",
            "_view_name": "HTMLView",
            "description": "",
            "description_tooltip": null,
            "layout": "IPY_MODEL_539f7f78a1504cd89ef908b1b668c118",
            "placeholder": "​",
            "style": "IPY_MODEL_34af6a92a34143978245621a1eb25023",
            "value": " 656k/656k [00:00&lt;00:00, 995kB/s]"
          }
        },
        "89d2b77f5d1c4e63a4bb9e056919dfc3": {
          "model_module": "@jupyter-widgets/base",
          "model_name": "LayoutModel",
          "model_module_version": "1.2.0",
          "state": {
            "_model_module": "@jupyter-widgets/base",
            "_model_module_version": "1.2.0",
            "_model_name": "LayoutModel",
            "_view_count": null,
            "_view_module": "@jupyter-widgets/base",
            "_view_module_version": "1.2.0",
            "_view_name": "LayoutView",
            "align_content": null,
            "align_items": null,
            "align_self": null,
            "border": null,
            "bottom": null,
            "display": null,
            "flex": null,
            "flex_flow": null,
            "grid_area": null,
            "grid_auto_columns": null,
            "grid_auto_flow": null,
            "grid_auto_rows": null,
            "grid_column": null,
            "grid_gap": null,
            "grid_row": null,
            "grid_template_areas": null,
            "grid_template_columns": null,
            "grid_template_rows": null,
            "height": null,
            "justify_content": null,
            "justify_items": null,
            "left": null,
            "margin": null,
            "max_height": null,
            "max_width": null,
            "min_height": null,
            "min_width": null,
            "object_fit": null,
            "object_position": null,
            "order": null,
            "overflow": null,
            "overflow_x": null,
            "overflow_y": null,
            "padding": null,
            "right": null,
            "top": null,
            "visibility": null,
            "width": null
          }
        },
        "8d19dbf17c724fdf9530c1bd4ee2aeb2": {
          "model_module": "@jupyter-widgets/base",
          "model_name": "LayoutModel",
          "model_module_version": "1.2.0",
          "state": {
            "_model_module": "@jupyter-widgets/base",
            "_model_module_version": "1.2.0",
            "_model_name": "LayoutModel",
            "_view_count": null,
            "_view_module": "@jupyter-widgets/base",
            "_view_module_version": "1.2.0",
            "_view_name": "LayoutView",
            "align_content": null,
            "align_items": null,
            "align_self": null,
            "border": null,
            "bottom": null,
            "display": null,
            "flex": null,
            "flex_flow": null,
            "grid_area": null,
            "grid_auto_columns": null,
            "grid_auto_flow": null,
            "grid_auto_rows": null,
            "grid_column": null,
            "grid_gap": null,
            "grid_row": null,
            "grid_template_areas": null,
            "grid_template_columns": null,
            "grid_template_rows": null,
            "height": null,
            "justify_content": null,
            "justify_items": null,
            "left": null,
            "margin": null,
            "max_height": null,
            "max_width": null,
            "min_height": null,
            "min_width": null,
            "object_fit": null,
            "object_position": null,
            "order": null,
            "overflow": null,
            "overflow_x": null,
            "overflow_y": null,
            "padding": null,
            "right": null,
            "top": null,
            "visibility": null,
            "width": null
          }
        },
        "99eaa643ae81444e93709891ad97874c": {
          "model_module": "@jupyter-widgets/controls",
          "model_name": "DescriptionStyleModel",
          "model_module_version": "1.5.0",
          "state": {
            "_model_module": "@jupyter-widgets/controls",
            "_model_module_version": "1.5.0",
            "_model_name": "DescriptionStyleModel",
            "_view_count": null,
            "_view_module": "@jupyter-widgets/base",
            "_view_module_version": "1.2.0",
            "_view_name": "StyleView",
            "description_width": ""
          }
        },
        "1c51f8cbaa934997bf044263ba5b5dc2": {
          "model_module": "@jupyter-widgets/base",
          "model_name": "LayoutModel",
          "model_module_version": "1.2.0",
          "state": {
            "_model_module": "@jupyter-widgets/base",
            "_model_module_version": "1.2.0",
            "_model_name": "LayoutModel",
            "_view_count": null,
            "_view_module": "@jupyter-widgets/base",
            "_view_module_version": "1.2.0",
            "_view_name": "LayoutView",
            "align_content": null,
            "align_items": null,
            "align_self": null,
            "border": null,
            "bottom": null,
            "display": null,
            "flex": null,
            "flex_flow": null,
            "grid_area": null,
            "grid_auto_columns": null,
            "grid_auto_flow": null,
            "grid_auto_rows": null,
            "grid_column": null,
            "grid_gap": null,
            "grid_row": null,
            "grid_template_areas": null,
            "grid_template_columns": null,
            "grid_template_rows": null,
            "height": null,
            "justify_content": null,
            "justify_items": null,
            "left": null,
            "margin": null,
            "max_height": null,
            "max_width": null,
            "min_height": null,
            "min_width": null,
            "object_fit": null,
            "object_position": null,
            "order": null,
            "overflow": null,
            "overflow_x": null,
            "overflow_y": null,
            "padding": null,
            "right": null,
            "top": null,
            "visibility": null,
            "width": null
          }
        },
        "7863ed085c814326baa4b081fba7d4b3": {
          "model_module": "@jupyter-widgets/controls",
          "model_name": "ProgressStyleModel",
          "model_module_version": "1.5.0",
          "state": {
            "_model_module": "@jupyter-widgets/controls",
            "_model_module_version": "1.5.0",
            "_model_name": "ProgressStyleModel",
            "_view_count": null,
            "_view_module": "@jupyter-widgets/base",
            "_view_module_version": "1.2.0",
            "_view_name": "StyleView",
            "bar_color": null,
            "description_width": ""
          }
        },
        "539f7f78a1504cd89ef908b1b668c118": {
          "model_module": "@jupyter-widgets/base",
          "model_name": "LayoutModel",
          "model_module_version": "1.2.0",
          "state": {
            "_model_module": "@jupyter-widgets/base",
            "_model_module_version": "1.2.0",
            "_model_name": "LayoutModel",
            "_view_count": null,
            "_view_module": "@jupyter-widgets/base",
            "_view_module_version": "1.2.0",
            "_view_name": "LayoutView",
            "align_content": null,
            "align_items": null,
            "align_self": null,
            "border": null,
            "bottom": null,
            "display": null,
            "flex": null,
            "flex_flow": null,
            "grid_area": null,
            "grid_auto_columns": null,
            "grid_auto_flow": null,
            "grid_auto_rows": null,
            "grid_column": null,
            "grid_gap": null,
            "grid_row": null,
            "grid_template_areas": null,
            "grid_template_columns": null,
            "grid_template_rows": null,
            "height": null,
            "justify_content": null,
            "justify_items": null,
            "left": null,
            "margin": null,
            "max_height": null,
            "max_width": null,
            "min_height": null,
            "min_width": null,
            "object_fit": null,
            "object_position": null,
            "order": null,
            "overflow": null,
            "overflow_x": null,
            "overflow_y": null,
            "padding": null,
            "right": null,
            "top": null,
            "visibility": null,
            "width": null
          }
        },
        "34af6a92a34143978245621a1eb25023": {
          "model_module": "@jupyter-widgets/controls",
          "model_name": "DescriptionStyleModel",
          "model_module_version": "1.5.0",
          "state": {
            "_model_module": "@jupyter-widgets/controls",
            "_model_module_version": "1.5.0",
            "_model_name": "DescriptionStyleModel",
            "_view_count": null,
            "_view_module": "@jupyter-widgets/base",
            "_view_module_version": "1.2.0",
            "_view_name": "StyleView",
            "description_width": ""
          }
        },
        "bd1ca5a6758a41319f9e1448052c6516": {
          "model_module": "@jupyter-widgets/controls",
          "model_name": "HBoxModel",
          "model_module_version": "1.5.0",
          "state": {
            "_dom_classes": [],
            "_model_module": "@jupyter-widgets/controls",
            "_model_module_version": "1.5.0",
            "_model_name": "HBoxModel",
            "_view_count": null,
            "_view_module": "@jupyter-widgets/controls",
            "_view_module_version": "1.5.0",
            "_view_name": "HBoxView",
            "box_style": "",
            "children": [
              "IPY_MODEL_c513433fac8e47a2bb81484188b5347f",
              "IPY_MODEL_0b541c338fb446a7b58918d5c568b95f",
              "IPY_MODEL_96a08005a0124d5f84ed0ad16188cd62"
            ],
            "layout": "IPY_MODEL_b4773bcb2e8b47bfb16cf406bd7aaf50"
          }
        },
        "c513433fac8e47a2bb81484188b5347f": {
          "model_module": "@jupyter-widgets/controls",
          "model_name": "HTMLModel",
          "model_module_version": "1.5.0",
          "state": {
            "_dom_classes": [],
            "_model_module": "@jupyter-widgets/controls",
            "_model_module_version": "1.5.0",
            "_model_name": "HTMLModel",
            "_view_count": null,
            "_view_module": "@jupyter-widgets/controls",
            "_view_module_version": "1.5.0",
            "_view_name": "HTMLView",
            "description": "",
            "description_tooltip": null,
            "layout": "IPY_MODEL_638821c7209d4c0483c5fd093676bfd5",
            "placeholder": "​",
            "style": "IPY_MODEL_920582bf9e1040559b1a7207d47f7522",
            "value": "tokenizer.json: 100%"
          }
        },
        "0b541c338fb446a7b58918d5c568b95f": {
          "model_module": "@jupyter-widgets/controls",
          "model_name": "FloatProgressModel",
          "model_module_version": "1.5.0",
          "state": {
            "_dom_classes": [],
            "_model_module": "@jupyter-widgets/controls",
            "_model_module_version": "1.5.0",
            "_model_name": "FloatProgressModel",
            "_view_count": null,
            "_view_module": "@jupyter-widgets/controls",
            "_view_module_version": "1.5.0",
            "_view_name": "ProgressView",
            "bar_style": "success",
            "description": "",
            "description_tooltip": null,
            "layout": "IPY_MODEL_6de4ce5c23544b7b8d01fdebd95dfceb",
            "max": 2306039,
            "min": 0,
            "orientation": "horizontal",
            "style": "IPY_MODEL_487ec47a32984175b76286295a19accb",
            "value": 2306039
          }
        },
        "96a08005a0124d5f84ed0ad16188cd62": {
          "model_module": "@jupyter-widgets/controls",
          "model_name": "HTMLModel",
          "model_module_version": "1.5.0",
          "state": {
            "_dom_classes": [],
            "_model_module": "@jupyter-widgets/controls",
            "_model_module_version": "1.5.0",
            "_model_name": "HTMLModel",
            "_view_count": null,
            "_view_module": "@jupyter-widgets/controls",
            "_view_module_version": "1.5.0",
            "_view_name": "HTMLView",
            "description": "",
            "description_tooltip": null,
            "layout": "IPY_MODEL_9671a49160554ddab59ebf3335736f23",
            "placeholder": "​",
            "style": "IPY_MODEL_f7be8c93606549238e6223c146285393",
            "value": " 2.31M/2.31M [00:00&lt;00:00, 3.57MB/s]"
          }
        },
        "b4773bcb2e8b47bfb16cf406bd7aaf50": {
          "model_module": "@jupyter-widgets/base",
          "model_name": "LayoutModel",
          "model_module_version": "1.2.0",
          "state": {
            "_model_module": "@jupyter-widgets/base",
            "_model_module_version": "1.2.0",
            "_model_name": "LayoutModel",
            "_view_count": null,
            "_view_module": "@jupyter-widgets/base",
            "_view_module_version": "1.2.0",
            "_view_name": "LayoutView",
            "align_content": null,
            "align_items": null,
            "align_self": null,
            "border": null,
            "bottom": null,
            "display": null,
            "flex": null,
            "flex_flow": null,
            "grid_area": null,
            "grid_auto_columns": null,
            "grid_auto_flow": null,
            "grid_auto_rows": null,
            "grid_column": null,
            "grid_gap": null,
            "grid_row": null,
            "grid_template_areas": null,
            "grid_template_columns": null,
            "grid_template_rows": null,
            "height": null,
            "justify_content": null,
            "justify_items": null,
            "left": null,
            "margin": null,
            "max_height": null,
            "max_width": null,
            "min_height": null,
            "min_width": null,
            "object_fit": null,
            "object_position": null,
            "order": null,
            "overflow": null,
            "overflow_x": null,
            "overflow_y": null,
            "padding": null,
            "right": null,
            "top": null,
            "visibility": null,
            "width": null
          }
        },
        "638821c7209d4c0483c5fd093676bfd5": {
          "model_module": "@jupyter-widgets/base",
          "model_name": "LayoutModel",
          "model_module_version": "1.2.0",
          "state": {
            "_model_module": "@jupyter-widgets/base",
            "_model_module_version": "1.2.0",
            "_model_name": "LayoutModel",
            "_view_count": null,
            "_view_module": "@jupyter-widgets/base",
            "_view_module_version": "1.2.0",
            "_view_name": "LayoutView",
            "align_content": null,
            "align_items": null,
            "align_self": null,
            "border": null,
            "bottom": null,
            "display": null,
            "flex": null,
            "flex_flow": null,
            "grid_area": null,
            "grid_auto_columns": null,
            "grid_auto_flow": null,
            "grid_auto_rows": null,
            "grid_column": null,
            "grid_gap": null,
            "grid_row": null,
            "grid_template_areas": null,
            "grid_template_columns": null,
            "grid_template_rows": null,
            "height": null,
            "justify_content": null,
            "justify_items": null,
            "left": null,
            "margin": null,
            "max_height": null,
            "max_width": null,
            "min_height": null,
            "min_width": null,
            "object_fit": null,
            "object_position": null,
            "order": null,
            "overflow": null,
            "overflow_x": null,
            "overflow_y": null,
            "padding": null,
            "right": null,
            "top": null,
            "visibility": null,
            "width": null
          }
        },
        "920582bf9e1040559b1a7207d47f7522": {
          "model_module": "@jupyter-widgets/controls",
          "model_name": "DescriptionStyleModel",
          "model_module_version": "1.5.0",
          "state": {
            "_model_module": "@jupyter-widgets/controls",
            "_model_module_version": "1.5.0",
            "_model_name": "DescriptionStyleModel",
            "_view_count": null,
            "_view_module": "@jupyter-widgets/base",
            "_view_module_version": "1.2.0",
            "_view_name": "StyleView",
            "description_width": ""
          }
        },
        "6de4ce5c23544b7b8d01fdebd95dfceb": {
          "model_module": "@jupyter-widgets/base",
          "model_name": "LayoutModel",
          "model_module_version": "1.2.0",
          "state": {
            "_model_module": "@jupyter-widgets/base",
            "_model_module_version": "1.2.0",
            "_model_name": "LayoutModel",
            "_view_count": null,
            "_view_module": "@jupyter-widgets/base",
            "_view_module_version": "1.2.0",
            "_view_name": "LayoutView",
            "align_content": null,
            "align_items": null,
            "align_self": null,
            "border": null,
            "bottom": null,
            "display": null,
            "flex": null,
            "flex_flow": null,
            "grid_area": null,
            "grid_auto_columns": null,
            "grid_auto_flow": null,
            "grid_auto_rows": null,
            "grid_column": null,
            "grid_gap": null,
            "grid_row": null,
            "grid_template_areas": null,
            "grid_template_columns": null,
            "grid_template_rows": null,
            "height": null,
            "justify_content": null,
            "justify_items": null,
            "left": null,
            "margin": null,
            "max_height": null,
            "max_width": null,
            "min_height": null,
            "min_width": null,
            "object_fit": null,
            "object_position": null,
            "order": null,
            "overflow": null,
            "overflow_x": null,
            "overflow_y": null,
            "padding": null,
            "right": null,
            "top": null,
            "visibility": null,
            "width": null
          }
        },
        "487ec47a32984175b76286295a19accb": {
          "model_module": "@jupyter-widgets/controls",
          "model_name": "ProgressStyleModel",
          "model_module_version": "1.5.0",
          "state": {
            "_model_module": "@jupyter-widgets/controls",
            "_model_module_version": "1.5.0",
            "_model_name": "ProgressStyleModel",
            "_view_count": null,
            "_view_module": "@jupyter-widgets/base",
            "_view_module_version": "1.2.0",
            "_view_name": "StyleView",
            "bar_color": null,
            "description_width": ""
          }
        },
        "9671a49160554ddab59ebf3335736f23": {
          "model_module": "@jupyter-widgets/base",
          "model_name": "LayoutModel",
          "model_module_version": "1.2.0",
          "state": {
            "_model_module": "@jupyter-widgets/base",
            "_model_module_version": "1.2.0",
            "_model_name": "LayoutModel",
            "_view_count": null,
            "_view_module": "@jupyter-widgets/base",
            "_view_module_version": "1.2.0",
            "_view_name": "LayoutView",
            "align_content": null,
            "align_items": null,
            "align_self": null,
            "border": null,
            "bottom": null,
            "display": null,
            "flex": null,
            "flex_flow": null,
            "grid_area": null,
            "grid_auto_columns": null,
            "grid_auto_flow": null,
            "grid_auto_rows": null,
            "grid_column": null,
            "grid_gap": null,
            "grid_row": null,
            "grid_template_areas": null,
            "grid_template_columns": null,
            "grid_template_rows": null,
            "height": null,
            "justify_content": null,
            "justify_items": null,
            "left": null,
            "margin": null,
            "max_height": null,
            "max_width": null,
            "min_height": null,
            "min_width": null,
            "object_fit": null,
            "object_position": null,
            "order": null,
            "overflow": null,
            "overflow_x": null,
            "overflow_y": null,
            "padding": null,
            "right": null,
            "top": null,
            "visibility": null,
            "width": null
          }
        },
        "f7be8c93606549238e6223c146285393": {
          "model_module": "@jupyter-widgets/controls",
          "model_name": "DescriptionStyleModel",
          "model_module_version": "1.5.0",
          "state": {
            "_model_module": "@jupyter-widgets/controls",
            "_model_module_version": "1.5.0",
            "_model_name": "DescriptionStyleModel",
            "_view_count": null,
            "_view_module": "@jupyter-widgets/base",
            "_view_module_version": "1.2.0",
            "_view_name": "StyleView",
            "description_width": ""
          }
        },
        "9f69bcf73cb44ffdbbeebc8934bf37e1": {
          "model_module": "@jupyter-widgets/controls",
          "model_name": "HBoxModel",
          "model_module_version": "1.5.0",
          "state": {
            "_dom_classes": [],
            "_model_module": "@jupyter-widgets/controls",
            "_model_module_version": "1.5.0",
            "_model_name": "HBoxModel",
            "_view_count": null,
            "_view_module": "@jupyter-widgets/controls",
            "_view_module_version": "1.5.0",
            "_view_name": "HBoxView",
            "box_style": "",
            "children": [
              "IPY_MODEL_886912cc9bcb4e769991cf4214543bd1",
              "IPY_MODEL_2b6b9f47ecd44c7fae5321c7735bdf00",
              "IPY_MODEL_4af368fbd1d740d39a12ab6d71c1fbf4"
            ],
            "layout": "IPY_MODEL_d8e11b9fc41044ab807edc9137f9bbd6"
          }
        },
        "886912cc9bcb4e769991cf4214543bd1": {
          "model_module": "@jupyter-widgets/controls",
          "model_name": "HTMLModel",
          "model_module_version": "1.5.0",
          "state": {
            "_dom_classes": [],
            "_model_module": "@jupyter-widgets/controls",
            "_model_module_version": "1.5.0",
            "_model_name": "HTMLModel",
            "_view_count": null,
            "_view_module": "@jupyter-widgets/controls",
            "_view_module_version": "1.5.0",
            "_view_name": "HTMLView",
            "description": "",
            "description_tooltip": null,
            "layout": "IPY_MODEL_27ba3e69b5084ef4841a5bf79a9feff6",
            "placeholder": "​",
            "style": "IPY_MODEL_0654cb854ca940f7b119632fff0a17d0",
            "value": "special_tokens_map.json: 100%"
          }
        },
        "2b6b9f47ecd44c7fae5321c7735bdf00": {
          "model_module": "@jupyter-widgets/controls",
          "model_name": "FloatProgressModel",
          "model_module_version": "1.5.0",
          "state": {
            "_dom_classes": [],
            "_model_module": "@jupyter-widgets/controls",
            "_model_module_version": "1.5.0",
            "_model_name": "FloatProgressModel",
            "_view_count": null,
            "_view_module": "@jupyter-widgets/controls",
            "_view_module_version": "1.5.0",
            "_view_name": "ProgressView",
            "bar_style": "success",
            "description": "",
            "description_tooltip": null,
            "layout": "IPY_MODEL_14541dcba7484f19885ffc66faa6bdce",
            "max": 112,
            "min": 0,
            "orientation": "horizontal",
            "style": "IPY_MODEL_e678041ccc414ea39a825974c79877ad",
            "value": 112
          }
        },
        "4af368fbd1d740d39a12ab6d71c1fbf4": {
          "model_module": "@jupyter-widgets/controls",
          "model_name": "HTMLModel",
          "model_module_version": "1.5.0",
          "state": {
            "_dom_classes": [],
            "_model_module": "@jupyter-widgets/controls",
            "_model_module_version": "1.5.0",
            "_model_name": "HTMLModel",
            "_view_count": null,
            "_view_module": "@jupyter-widgets/controls",
            "_view_module_version": "1.5.0",
            "_view_name": "HTMLView",
            "description": "",
            "description_tooltip": null,
            "layout": "IPY_MODEL_50903c280ba94e75918d45443efc0056",
            "placeholder": "​",
            "style": "IPY_MODEL_d68f295119404789b823eabee94442d3",
            "value": " 112/112 [00:00&lt;00:00, 14.2kB/s]"
          }
        },
        "d8e11b9fc41044ab807edc9137f9bbd6": {
          "model_module": "@jupyter-widgets/base",
          "model_name": "LayoutModel",
          "model_module_version": "1.2.0",
          "state": {
            "_model_module": "@jupyter-widgets/base",
            "_model_module_version": "1.2.0",
            "_model_name": "LayoutModel",
            "_view_count": null,
            "_view_module": "@jupyter-widgets/base",
            "_view_module_version": "1.2.0",
            "_view_name": "LayoutView",
            "align_content": null,
            "align_items": null,
            "align_self": null,
            "border": null,
            "bottom": null,
            "display": null,
            "flex": null,
            "flex_flow": null,
            "grid_area": null,
            "grid_auto_columns": null,
            "grid_auto_flow": null,
            "grid_auto_rows": null,
            "grid_column": null,
            "grid_gap": null,
            "grid_row": null,
            "grid_template_areas": null,
            "grid_template_columns": null,
            "grid_template_rows": null,
            "height": null,
            "justify_content": null,
            "justify_items": null,
            "left": null,
            "margin": null,
            "max_height": null,
            "max_width": null,
            "min_height": null,
            "min_width": null,
            "object_fit": null,
            "object_position": null,
            "order": null,
            "overflow": null,
            "overflow_x": null,
            "overflow_y": null,
            "padding": null,
            "right": null,
            "top": null,
            "visibility": null,
            "width": null
          }
        },
        "27ba3e69b5084ef4841a5bf79a9feff6": {
          "model_module": "@jupyter-widgets/base",
          "model_name": "LayoutModel",
          "model_module_version": "1.2.0",
          "state": {
            "_model_module": "@jupyter-widgets/base",
            "_model_module_version": "1.2.0",
            "_model_name": "LayoutModel",
            "_view_count": null,
            "_view_module": "@jupyter-widgets/base",
            "_view_module_version": "1.2.0",
            "_view_name": "LayoutView",
            "align_content": null,
            "align_items": null,
            "align_self": null,
            "border": null,
            "bottom": null,
            "display": null,
            "flex": null,
            "flex_flow": null,
            "grid_area": null,
            "grid_auto_columns": null,
            "grid_auto_flow": null,
            "grid_auto_rows": null,
            "grid_column": null,
            "grid_gap": null,
            "grid_row": null,
            "grid_template_areas": null,
            "grid_template_columns": null,
            "grid_template_rows": null,
            "height": null,
            "justify_content": null,
            "justify_items": null,
            "left": null,
            "margin": null,
            "max_height": null,
            "max_width": null,
            "min_height": null,
            "min_width": null,
            "object_fit": null,
            "object_position": null,
            "order": null,
            "overflow": null,
            "overflow_x": null,
            "overflow_y": null,
            "padding": null,
            "right": null,
            "top": null,
            "visibility": null,
            "width": null
          }
        },
        "0654cb854ca940f7b119632fff0a17d0": {
          "model_module": "@jupyter-widgets/controls",
          "model_name": "DescriptionStyleModel",
          "model_module_version": "1.5.0",
          "state": {
            "_model_module": "@jupyter-widgets/controls",
            "_model_module_version": "1.5.0",
            "_model_name": "DescriptionStyleModel",
            "_view_count": null,
            "_view_module": "@jupyter-widgets/base",
            "_view_module_version": "1.2.0",
            "_view_name": "StyleView",
            "description_width": ""
          }
        },
        "14541dcba7484f19885ffc66faa6bdce": {
          "model_module": "@jupyter-widgets/base",
          "model_name": "LayoutModel",
          "model_module_version": "1.2.0",
          "state": {
            "_model_module": "@jupyter-widgets/base",
            "_model_module_version": "1.2.0",
            "_model_name": "LayoutModel",
            "_view_count": null,
            "_view_module": "@jupyter-widgets/base",
            "_view_module_version": "1.2.0",
            "_view_name": "LayoutView",
            "align_content": null,
            "align_items": null,
            "align_self": null,
            "border": null,
            "bottom": null,
            "display": null,
            "flex": null,
            "flex_flow": null,
            "grid_area": null,
            "grid_auto_columns": null,
            "grid_auto_flow": null,
            "grid_auto_rows": null,
            "grid_column": null,
            "grid_gap": null,
            "grid_row": null,
            "grid_template_areas": null,
            "grid_template_columns": null,
            "grid_template_rows": null,
            "height": null,
            "justify_content": null,
            "justify_items": null,
            "left": null,
            "margin": null,
            "max_height": null,
            "max_width": null,
            "min_height": null,
            "min_width": null,
            "object_fit": null,
            "object_position": null,
            "order": null,
            "overflow": null,
            "overflow_x": null,
            "overflow_y": null,
            "padding": null,
            "right": null,
            "top": null,
            "visibility": null,
            "width": null
          }
        },
        "e678041ccc414ea39a825974c79877ad": {
          "model_module": "@jupyter-widgets/controls",
          "model_name": "ProgressStyleModel",
          "model_module_version": "1.5.0",
          "state": {
            "_model_module": "@jupyter-widgets/controls",
            "_model_module_version": "1.5.0",
            "_model_name": "ProgressStyleModel",
            "_view_count": null,
            "_view_module": "@jupyter-widgets/base",
            "_view_module_version": "1.2.0",
            "_view_name": "StyleView",
            "bar_color": null,
            "description_width": ""
          }
        },
        "50903c280ba94e75918d45443efc0056": {
          "model_module": "@jupyter-widgets/base",
          "model_name": "LayoutModel",
          "model_module_version": "1.2.0",
          "state": {
            "_model_module": "@jupyter-widgets/base",
            "_model_module_version": "1.2.0",
            "_model_name": "LayoutModel",
            "_view_count": null,
            "_view_module": "@jupyter-widgets/base",
            "_view_module_version": "1.2.0",
            "_view_name": "LayoutView",
            "align_content": null,
            "align_items": null,
            "align_self": null,
            "border": null,
            "bottom": null,
            "display": null,
            "flex": null,
            "flex_flow": null,
            "grid_area": null,
            "grid_auto_columns": null,
            "grid_auto_flow": null,
            "grid_auto_rows": null,
            "grid_column": null,
            "grid_gap": null,
            "grid_row": null,
            "grid_template_areas": null,
            "grid_template_columns": null,
            "grid_template_rows": null,
            "height": null,
            "justify_content": null,
            "justify_items": null,
            "left": null,
            "margin": null,
            "max_height": null,
            "max_width": null,
            "min_height": null,
            "min_width": null,
            "object_fit": null,
            "object_position": null,
            "order": null,
            "overflow": null,
            "overflow_x": null,
            "overflow_y": null,
            "padding": null,
            "right": null,
            "top": null,
            "visibility": null,
            "width": null
          }
        },
        "d68f295119404789b823eabee94442d3": {
          "model_module": "@jupyter-widgets/controls",
          "model_name": "DescriptionStyleModel",
          "model_module_version": "1.5.0",
          "state": {
            "_model_module": "@jupyter-widgets/controls",
            "_model_module_version": "1.5.0",
            "_model_name": "DescriptionStyleModel",
            "_view_count": null,
            "_view_module": "@jupyter-widgets/base",
            "_view_module_version": "1.2.0",
            "_view_name": "StyleView",
            "description_width": ""
          }
        }
      }
    }
  },
  "cells": [
    {
      "cell_type": "code",
      "source": [],
      "metadata": {
        "id": "9w-R4U2gZQQp"
      },
      "execution_count": null,
      "outputs": []
    },
    {
      "cell_type": "markdown",
      "source": [
        "Data Augmentation splitting"
      ],
      "metadata": {
        "id": "9fAtHXiiZQjH"
      }
    },
    {
      "cell_type": "code",
      "source": [
        "import pandas as pd\n",
        "from sklearn.model_selection import train_test_split\n",
        "from IPython.display import FileLink, display\n",
        "\n",
        "# 1) Load your CSV\n",
        "df = pd.read_csv('/content/App Reviews-SingleLabel-Multiclass.csv')\n",
        "\n",
        "# 2) Stratified splits: 80% train, 10% val, 10% test\n",
        "label_col = 'Label'\n",
        "# first split off 10% for test\n",
        "train_val_df, test_df = train_test_split(\n",
        "    df,\n",
        "    test_size=0.2,\n",
        "    stratify=df[label_col],\n",
        "    random_state=777\n",
        ")\n",
        "# then split the 90% into 80/10\n",
        "train_df, val_df = train_test_split(\n",
        "    train_val_df,\n",
        "    test_size=0.15,\n",
        "    stratify=train_val_df[label_col],\n",
        "    random_state=777\n",
        ")\n",
        "\n",
        "# 3) Save each split as CSV\n",
        "train_df.to_csv('train.csv', index=False)\n",
        "val_df.to_csv('val.csv', index=False)\n",
        "test_df.to_csv('test.csv', index=False)\n",
        "\n",
        "# 4) Display download links in notebook\n",
        "print(\"Download your splits:\")\n",
        "display(FileLink('train.csv'))\n",
        "display(FileLink('val.csv'))\n",
        "display(FileLink('test.csv'))"
      ],
      "metadata": {
        "colab": {
          "base_uri": "https://localhost:8080/",
          "height": 86
        },
        "id": "HYfC9abMVYRu",
        "outputId": "f0f172a9-1e63-4b98-d0de-e1f2db2a89bc"
      },
      "execution_count": 1,
      "outputs": [
        {
          "output_type": "stream",
          "name": "stdout",
          "text": [
            "Download your splits:\n"
          ]
        },
        {
          "output_type": "display_data",
          "data": {
            "text/plain": [
              "/content/train.csv"
            ],
            "text/html": [
              "<a href='train.csv' target='_blank'>train.csv</a><br>"
            ]
          },
          "metadata": {}
        },
        {
          "output_type": "display_data",
          "data": {
            "text/plain": [
              "/content/val.csv"
            ],
            "text/html": [
              "<a href='val.csv' target='_blank'>val.csv</a><br>"
            ]
          },
          "metadata": {}
        },
        {
          "output_type": "display_data",
          "data": {
            "text/plain": [
              "/content/test.csv"
            ],
            "text/html": [
              "<a href='test.csv' target='_blank'>test.csv</a><br>"
            ]
          },
          "metadata": {}
        }
      ]
    },
    {
      "cell_type": "markdown",
      "source": [
        "#Part-B [15 points]: Multiclass App Review Classification: from scratch"
      ],
      "metadata": {
        "id": "qhZf-GxkCnDr"
      }
    },
    {
      "cell_type": "markdown",
      "source": [
        "Dataset analysis and report on important statistics."
      ],
      "metadata": {
        "id": "Lqr06n6vCpeB"
      }
    },
    {
      "cell_type": "code",
      "execution_count": 2,
      "metadata": {
        "colab": {
          "base_uri": "https://localhost:8080/",
          "height": 1000
        },
        "id": "JRTlhk7bCil8",
        "outputId": "291355a6-9528-4d8b-c7d0-35ea675b9c07"
      },
      "outputs": [
        {
          "output_type": "display_data",
          "data": {
            "text/plain": [
              "                                              review                Label\n",
              "0                                 يبيله تصليحات كثير           bug_report\n",
              "1                  ماتحملت ابدددددا ونا دفعت فلوس 🤔😕               rating\n",
              "2  اتمنى منكم عمل خيار لتفضيل المسلسل بالكامل عوض...  improvement_request\n",
              "3      ممتاز وبسيط وتشغيله لا يؤثر على سرعة الانترنت               rating\n",
              "4                                تبين م لي ي تم ل يب               others"
            ],
            "text/html": [
              "\n",
              "  <div id=\"df-18e0d3fb-c627-44dc-9816-1ef0084770f2\" class=\"colab-df-container\">\n",
              "    <div>\n",
              "<style scoped>\n",
              "    .dataframe tbody tr th:only-of-type {\n",
              "        vertical-align: middle;\n",
              "    }\n",
              "\n",
              "    .dataframe tbody tr th {\n",
              "        vertical-align: top;\n",
              "    }\n",
              "\n",
              "    .dataframe thead th {\n",
              "        text-align: right;\n",
              "    }\n",
              "</style>\n",
              "<table border=\"1\" class=\"dataframe\">\n",
              "  <thead>\n",
              "    <tr style=\"text-align: right;\">\n",
              "      <th></th>\n",
              "      <th>review</th>\n",
              "      <th>Label</th>\n",
              "    </tr>\n",
              "  </thead>\n",
              "  <tbody>\n",
              "    <tr>\n",
              "      <th>0</th>\n",
              "      <td>يبيله تصليحات كثير</td>\n",
              "      <td>bug_report</td>\n",
              "    </tr>\n",
              "    <tr>\n",
              "      <th>1</th>\n",
              "      <td>ماتحملت ابدددددا ونا دفعت فلوس 🤔😕</td>\n",
              "      <td>rating</td>\n",
              "    </tr>\n",
              "    <tr>\n",
              "      <th>2</th>\n",
              "      <td>اتمنى منكم عمل خيار لتفضيل المسلسل بالكامل عوض...</td>\n",
              "      <td>improvement_request</td>\n",
              "    </tr>\n",
              "    <tr>\n",
              "      <th>3</th>\n",
              "      <td>ممتاز وبسيط وتشغيله لا يؤثر على سرعة الانترنت</td>\n",
              "      <td>rating</td>\n",
              "    </tr>\n",
              "    <tr>\n",
              "      <th>4</th>\n",
              "      <td>تبين م لي ي تم ل يب</td>\n",
              "      <td>others</td>\n",
              "    </tr>\n",
              "  </tbody>\n",
              "</table>\n",
              "</div>\n",
              "    <div class=\"colab-df-buttons\">\n",
              "\n",
              "  <div class=\"colab-df-container\">\n",
              "    <button class=\"colab-df-convert\" onclick=\"convertToInteractive('df-18e0d3fb-c627-44dc-9816-1ef0084770f2')\"\n",
              "            title=\"Convert this dataframe to an interactive table.\"\n",
              "            style=\"display:none;\">\n",
              "\n",
              "  <svg xmlns=\"http://www.w3.org/2000/svg\" height=\"24px\" viewBox=\"0 -960 960 960\">\n",
              "    <path d=\"M120-120v-720h720v720H120Zm60-500h600v-160H180v160Zm220 220h160v-160H400v160Zm0 220h160v-160H400v160ZM180-400h160v-160H180v160Zm440 0h160v-160H620v160ZM180-180h160v-160H180v160Zm440 0h160v-160H620v160Z\"/>\n",
              "  </svg>\n",
              "    </button>\n",
              "\n",
              "  <style>\n",
              "    .colab-df-container {\n",
              "      display:flex;\n",
              "      gap: 12px;\n",
              "    }\n",
              "\n",
              "    .colab-df-convert {\n",
              "      background-color: #E8F0FE;\n",
              "      border: none;\n",
              "      border-radius: 50%;\n",
              "      cursor: pointer;\n",
              "      display: none;\n",
              "      fill: #1967D2;\n",
              "      height: 32px;\n",
              "      padding: 0 0 0 0;\n",
              "      width: 32px;\n",
              "    }\n",
              "\n",
              "    .colab-df-convert:hover {\n",
              "      background-color: #E2EBFA;\n",
              "      box-shadow: 0px 1px 2px rgba(60, 64, 67, 0.3), 0px 1px 3px 1px rgba(60, 64, 67, 0.15);\n",
              "      fill: #174EA6;\n",
              "    }\n",
              "\n",
              "    .colab-df-buttons div {\n",
              "      margin-bottom: 4px;\n",
              "    }\n",
              "\n",
              "    [theme=dark] .colab-df-convert {\n",
              "      background-color: #3B4455;\n",
              "      fill: #D2E3FC;\n",
              "    }\n",
              "\n",
              "    [theme=dark] .colab-df-convert:hover {\n",
              "      background-color: #434B5C;\n",
              "      box-shadow: 0px 1px 3px 1px rgba(0, 0, 0, 0.15);\n",
              "      filter: drop-shadow(0px 1px 2px rgba(0, 0, 0, 0.3));\n",
              "      fill: #FFFFFF;\n",
              "    }\n",
              "  </style>\n",
              "\n",
              "    <script>\n",
              "      const buttonEl =\n",
              "        document.querySelector('#df-18e0d3fb-c627-44dc-9816-1ef0084770f2 button.colab-df-convert');\n",
              "      buttonEl.style.display =\n",
              "        google.colab.kernel.accessAllowed ? 'block' : 'none';\n",
              "\n",
              "      async function convertToInteractive(key) {\n",
              "        const element = document.querySelector('#df-18e0d3fb-c627-44dc-9816-1ef0084770f2');\n",
              "        const dataTable =\n",
              "          await google.colab.kernel.invokeFunction('convertToInteractive',\n",
              "                                                    [key], {});\n",
              "        if (!dataTable) return;\n",
              "\n",
              "        const docLinkHtml = 'Like what you see? Visit the ' +\n",
              "          '<a target=\"_blank\" href=https://colab.research.google.com/notebooks/data_table.ipynb>data table notebook</a>'\n",
              "          + ' to learn more about interactive tables.';\n",
              "        element.innerHTML = '';\n",
              "        dataTable['output_type'] = 'display_data';\n",
              "        await google.colab.output.renderOutput(dataTable, element);\n",
              "        const docLink = document.createElement('div');\n",
              "        docLink.innerHTML = docLinkHtml;\n",
              "        element.appendChild(docLink);\n",
              "      }\n",
              "    </script>\n",
              "  </div>\n",
              "\n",
              "\n",
              "    <div id=\"df-d9921bd1-f4c2-4414-a753-c128a506d6fe\">\n",
              "      <button class=\"colab-df-quickchart\" onclick=\"quickchart('df-d9921bd1-f4c2-4414-a753-c128a506d6fe')\"\n",
              "                title=\"Suggest charts\"\n",
              "                style=\"display:none;\">\n",
              "\n",
              "<svg xmlns=\"http://www.w3.org/2000/svg\" height=\"24px\"viewBox=\"0 0 24 24\"\n",
              "     width=\"24px\">\n",
              "    <g>\n",
              "        <path d=\"M19 3H5c-1.1 0-2 .9-2 2v14c0 1.1.9 2 2 2h14c1.1 0 2-.9 2-2V5c0-1.1-.9-2-2-2zM9 17H7v-7h2v7zm4 0h-2V7h2v10zm4 0h-2v-4h2v4z\"/>\n",
              "    </g>\n",
              "</svg>\n",
              "      </button>\n",
              "\n",
              "<style>\n",
              "  .colab-df-quickchart {\n",
              "      --bg-color: #E8F0FE;\n",
              "      --fill-color: #1967D2;\n",
              "      --hover-bg-color: #E2EBFA;\n",
              "      --hover-fill-color: #174EA6;\n",
              "      --disabled-fill-color: #AAA;\n",
              "      --disabled-bg-color: #DDD;\n",
              "  }\n",
              "\n",
              "  [theme=dark] .colab-df-quickchart {\n",
              "      --bg-color: #3B4455;\n",
              "      --fill-color: #D2E3FC;\n",
              "      --hover-bg-color: #434B5C;\n",
              "      --hover-fill-color: #FFFFFF;\n",
              "      --disabled-bg-color: #3B4455;\n",
              "      --disabled-fill-color: #666;\n",
              "  }\n",
              "\n",
              "  .colab-df-quickchart {\n",
              "    background-color: var(--bg-color);\n",
              "    border: none;\n",
              "    border-radius: 50%;\n",
              "    cursor: pointer;\n",
              "    display: none;\n",
              "    fill: var(--fill-color);\n",
              "    height: 32px;\n",
              "    padding: 0;\n",
              "    width: 32px;\n",
              "  }\n",
              "\n",
              "  .colab-df-quickchart:hover {\n",
              "    background-color: var(--hover-bg-color);\n",
              "    box-shadow: 0 1px 2px rgba(60, 64, 67, 0.3), 0 1px 3px 1px rgba(60, 64, 67, 0.15);\n",
              "    fill: var(--button-hover-fill-color);\n",
              "  }\n",
              "\n",
              "  .colab-df-quickchart-complete:disabled,\n",
              "  .colab-df-quickchart-complete:disabled:hover {\n",
              "    background-color: var(--disabled-bg-color);\n",
              "    fill: var(--disabled-fill-color);\n",
              "    box-shadow: none;\n",
              "  }\n",
              "\n",
              "  .colab-df-spinner {\n",
              "    border: 2px solid var(--fill-color);\n",
              "    border-color: transparent;\n",
              "    border-bottom-color: var(--fill-color);\n",
              "    animation:\n",
              "      spin 1s steps(1) infinite;\n",
              "  }\n",
              "\n",
              "  @keyframes spin {\n",
              "    0% {\n",
              "      border-color: transparent;\n",
              "      border-bottom-color: var(--fill-color);\n",
              "      border-left-color: var(--fill-color);\n",
              "    }\n",
              "    20% {\n",
              "      border-color: transparent;\n",
              "      border-left-color: var(--fill-color);\n",
              "      border-top-color: var(--fill-color);\n",
              "    }\n",
              "    30% {\n",
              "      border-color: transparent;\n",
              "      border-left-color: var(--fill-color);\n",
              "      border-top-color: var(--fill-color);\n",
              "      border-right-color: var(--fill-color);\n",
              "    }\n",
              "    40% {\n",
              "      border-color: transparent;\n",
              "      border-right-color: var(--fill-color);\n",
              "      border-top-color: var(--fill-color);\n",
              "    }\n",
              "    60% {\n",
              "      border-color: transparent;\n",
              "      border-right-color: var(--fill-color);\n",
              "    }\n",
              "    80% {\n",
              "      border-color: transparent;\n",
              "      border-right-color: var(--fill-color);\n",
              "      border-bottom-color: var(--fill-color);\n",
              "    }\n",
              "    90% {\n",
              "      border-color: transparent;\n",
              "      border-bottom-color: var(--fill-color);\n",
              "    }\n",
              "  }\n",
              "</style>\n",
              "\n",
              "      <script>\n",
              "        async function quickchart(key) {\n",
              "          const quickchartButtonEl =\n",
              "            document.querySelector('#' + key + ' button');\n",
              "          quickchartButtonEl.disabled = true;  // To prevent multiple clicks.\n",
              "          quickchartButtonEl.classList.add('colab-df-spinner');\n",
              "          try {\n",
              "            const charts = await google.colab.kernel.invokeFunction(\n",
              "                'suggestCharts', [key], {});\n",
              "          } catch (error) {\n",
              "            console.error('Error during call to suggestCharts:', error);\n",
              "          }\n",
              "          quickchartButtonEl.classList.remove('colab-df-spinner');\n",
              "          quickchartButtonEl.classList.add('colab-df-quickchart-complete');\n",
              "        }\n",
              "        (() => {\n",
              "          let quickchartButtonEl =\n",
              "            document.querySelector('#df-d9921bd1-f4c2-4414-a753-c128a506d6fe button');\n",
              "          quickchartButtonEl.style.display =\n",
              "            google.colab.kernel.accessAllowed ? 'block' : 'none';\n",
              "        })();\n",
              "      </script>\n",
              "    </div>\n",
              "\n",
              "    </div>\n",
              "  </div>\n"
            ],
            "application/vnd.google.colaboratory.intrinsic+json": {
              "type": "dataframe",
              "summary": "{\n  \"name\": \"# we have data inbalance, we could upscale or downscale, it would be better to upscale\",\n  \"rows\": 5,\n  \"fields\": [\n    {\n      \"column\": \"review\",\n      \"properties\": {\n        \"dtype\": \"string\",\n        \"num_unique_values\": 5,\n        \"samples\": [\n          \"\\u0645\\u0627\\u062a\\u062d\\u0645\\u0644\\u062a \\u0627\\u0628\\u062f\\u062f\\u062f\\u062f\\u062f\\u0627 \\u0648\\u0646\\u0627 \\u062f\\u0641\\u0639\\u062a \\u0641\\u0644\\u0648\\u0633 \\ud83e\\udd14\\ud83d\\ude15\",\n          \"\\u062a\\u0628\\u064a\\u0646 \\u0645 \\u0644\\u064a \\u064a \\u062a\\u0645 \\u0644 \\u064a\\u0628\",\n          \"\\u0627\\u062a\\u0645\\u0646\\u0649 \\u0645\\u0646\\u0643\\u0645 \\u0639\\u0645\\u0644 \\u062e\\u064a\\u0627\\u0631 \\u0644\\u062a\\u0641\\u0636\\u064a\\u0644 \\u0627\\u0644\\u0645\\u0633\\u0644\\u0633\\u0644 \\u0628\\u0627\\u0644\\u0643\\u0627\\u0645\\u0644 \\u0639\\u0648\\u0636\\u0627\\u064b \\u0639\\u0646 \\u062a\\u0641\\u0636\\u064a\\u0644 \\u0627\\u0644\\u062d\\u0644\\u0642\\u0627\\u062a \\u0641\\u0642\\u0637\\n\\u0648\\u0634\\u0643\\u0631\\u0627\\u064b\"\n        ],\n        \"semantic_type\": \"\",\n        \"description\": \"\"\n      }\n    },\n    {\n      \"column\": \"Label\",\n      \"properties\": {\n        \"dtype\": \"string\",\n        \"num_unique_values\": 4,\n        \"samples\": [\n          \"rating\",\n          \"others\",\n          \"bug_report\"\n        ],\n        \"semantic_type\": \"\",\n        \"description\": \"\"\n      }\n    }\n  ]\n}"
            }
          },
          "metadata": {}
        },
        {
          "output_type": "stream",
          "name": "stdout",
          "text": [
            "Shape: 2900 rows, 2 columns\n",
            "\n",
            "Data types:\n",
            "review    object\n",
            "Label     object\n",
            "dtype: object\n",
            "\n",
            "Missing values per column:\n",
            "review    0\n",
            "Label     0\n",
            "dtype: int64\n",
            "\n",
            "Review length summary:\n",
            "count    2900.000000\n",
            "mean       74.374828\n",
            "std        87.071689\n",
            "min        10.000000\n",
            "25%        34.000000\n",
            "50%        52.000000\n",
            "75%        85.000000\n",
            "max      3023.000000\n",
            "Name: review_length, dtype: float64\n",
            "       review_length\n",
            "count    2900.000000\n",
            "mean       74.374828\n",
            "std        87.071689\n",
            "min        10.000000\n",
            "25%        34.000000\n",
            "50%        52.000000\n",
            "75%        85.000000\n",
            "max      3023.000000\n",
            "\n",
            "Class distribution:\n",
            "Label\n",
            "rating                 1298\n",
            "bug_report              756\n",
            "improvement_request     442\n",
            "others                  404\n",
            "Name: count, dtype: int64\n",
            "Label\n",
            "rating                 0.447586\n",
            "bug_report             0.260690\n",
            "improvement_request    0.152414\n",
            "others                 0.139310\n",
            "Name: proportion, dtype: float64\n"
          ]
        },
        {
          "output_type": "display_data",
          "data": {
            "text/plain": [
              "<Figure size 640x480 with 1 Axes>"
            ],
            "image/png": "[encoded data removed]"
          },
          "metadata": {}
        }
      ],
      "source": [
        "import pandas as pd\n",
        "import matplotlib.pyplot as plt\n",
        "# read csv into data frame\n",
        "df = pd.read_csv('/content/App Reviews-SingleLabel-Multiclass.csv')\n",
        "display(df.head())\n",
        "# Basic dataset info\n",
        "print(f\"Shape: {df.shape[0]} rows, {df.shape[1]} columns\")\n",
        "print(\"\\nData types:\")\n",
        "print(df.dtypes)\n",
        "print(\"\\nMissing values per column:\")\n",
        "print(df.isnull().sum())\n",
        "\n",
        "# Review‐length feature\n",
        "df['review_length'] = df['review'].str.len()\n",
        "print(\"\\nReview length summary:\")\n",
        "print(df['review_length'].describe())\n",
        "\n",
        "# Provide numeric and categorical summaries.\n",
        "print(df.describe())\n",
        "\n",
        "# view class balance\n",
        "print(\"\\nClass distribution:\")\n",
        "print(df['Label'].value_counts())\n",
        "# view class balance as precentage\n",
        "print(df['Label'].value_counts(normalize=True))\n",
        "\n",
        "# Plot review length histogram\n",
        "plt.figure()\n",
        "df['review_length'].hist(bins=100)\n",
        "plt.title('Histogram of Review Length')\n",
        "plt.xlabel('Characters')\n",
        "plt.ylabel('Frequency')\n",
        "plt.show()\n",
        "\n",
        "# we have a review with 3023 charecters, we could remove it.\n",
        "# we have data inbalance, we could upscale or downscale, it would be better to upscale"
      ]
    },
    {
      "cell_type": "markdown",
      "source": [
        "Implement a from-scratch model\n",
        "o (RNN-based model: LSTM/GRU/Bidirectional/stacked/…)"
      ],
      "metadata": {
        "id": "ixi42gfKCqlP"
      }
    },
    {
      "cell_type": "code",
      "source": [
        "import os\n",
        "import numpy as np\n",
        "import pandas as pd\n",
        "import matplotlib.pyplot as plt\n",
        "from sklearn.model_selection import train_test_split\n",
        "from sklearn.preprocessing import LabelEncoder\n",
        "from sklearn.metrics import classification_report, confusion_matrix\n",
        "import tensorflow as tf\n",
        "from tensorflow.keras.preprocessing.text import Tokenizer\n",
        "from tensorflow.keras.preprocessing.sequence import pad_sequences\n",
        "from tensorflow.keras.layers import Embedding, Bidirectional, LSTM, Dense, Dropout, Conv1D, GlobalMaxPooling1D, SpatialDropout1D, MaxPooling1D, GRU\n",
        "from tensorflow.keras.models import Sequential\n",
        "from tensorflow.keras.callbacks import EarlyStopping, ModelCheckpoint\n",
        "import pickle\n",
        "from tensorflow.keras.preprocessing.text import Tokenizer"
      ],
      "metadata": {
        "id": "l-7xQjjKgbup"
      },
      "execution_count": 1,
      "outputs": []
    },
    {
      "cell_type": "code",
      "source": [
        "# Evaluation & report\n",
        "def eval_and_report(model, seq, true_y, label_encoder):\n",
        "    preds = np.argmax(model.predict(seq), axis=1)\n",
        "    print(classification_report(true_y, preds,\n",
        "          target_names=label_encoder.classes_))\n",
        "    cm = confusion_matrix(true_y, preds)\n",
        "    print(\"Confusion matrix:\\n\", cm)"
      ],
      "metadata": {
        "id": "7Oatg3DShclU"
      },
      "execution_count": 5,
      "outputs": []
    },
    {
      "cell_type": "markdown",
      "source": [
        "Train the word embeddings from scratch"
      ],
      "metadata": {
        "id": "zfHJDmtgCsit"
      }
    },
    {
      "cell_type": "code",
      "source": [
        "from sklearn.utils import class_weight\n",
        "le = LabelEncoder()\n",
        "\n",
        "df_train = pd.read_csv('train.csv')\n",
        "# Extract texts and labels\n",
        "X_train = df_train['review'].astype(str).tolist()\n",
        "y_train = le.fit_transform(df_train['Label'])\n",
        "\n",
        "df_val = pd.read_csv('val.csv')\n",
        "# Extract texts and labels\n",
        "X_val = df_val['review'].astype(str).tolist()\n",
        "y_val = le.transform(df_val['Label'])\n",
        "\n",
        "df_test = pd.read_csv('test.csv')\n",
        "# Extract texts and labels\n",
        "X_test = df_test['review'].astype(str).tolist()\n",
        "y_test = le.transform(df_test['Label'])\n",
        "\n",
        "# Tokenize\n",
        "MAX_VOCAB = 20000\n",
        "MAX_LEN   = 600\n",
        "\n",
        "tokenizer = Tokenizer(num_words=MAX_VOCAB, oov_token=\"<OOV>\")\n",
        "tokenizer.fit_on_texts(X_train)\n",
        "train_seq = pad_sequences(tokenizer.texts_to_sequences(X_train),\n",
        "                          maxlen=MAX_LEN, padding='post')\n",
        "val_seq   = pad_sequences(tokenizer.texts_to_sequences(X_val),\n",
        "                          maxlen=MAX_LEN, padding='post')\n",
        "test_seq  = pad_sequences(tokenizer.texts_to_sequences(X_test),\n",
        "                          maxlen=MAX_LEN, padding='post')\n",
        "\n",
        "# Model A: embeddings from scratch\n",
        "model_scratch = Sequential([\n",
        "    Embedding(input_dim=MAX_VOCAB, output_dim=128, input_length=MAX_LEN),\n",
        "    Bidirectional(LSTM(64, return_sequences=False)),\n",
        "    Dropout(0.5),\n",
        "    Dense( len(le.classes_), activation='softmax')\n",
        "])\n",
        "# model_scratch = Sequential([\n",
        "#     Embedding(\n",
        "#         input_dim=MAX_VOCAB,\n",
        "#         output_dim=128,\n",
        "#         #weights=[embedding_matrix],\n",
        "#         input_length=MAX_LEN,\n",
        "#         trainable=True,\n",
        "#         name='embedding'\n",
        "#     ),\n",
        "#     Bidirectional(\n",
        "#         LSTM(128, return_sequences=False, recurrent_dropout=0.2),\n",
        "#         name='bilstm'\n",
        "#     ),\n",
        "#     Dropout(0.3, name='dropout_1'),\n",
        "#     Dense(64, activation='relu', name='dense_1'),\n",
        "#     Dropout(0.3, name='dropout_2'),\n",
        "#     Dense(len(le.classes_), activation='softmax', name='output')\n",
        "# ], name='multilabel_rnn')\n",
        "model_scratch.compile(\n",
        "    loss='sparse_categorical_crossentropy',\n",
        "    optimizer='adam',\n",
        "    metrics=['accuracy']\n",
        ")\n",
        "# early stopping\n",
        "callbacks = [\n",
        "    EarlyStopping(\n",
        "        #monitor=\"val_loss\",\n",
        "        monitor='val_accuracy',\n",
        "        mode='max',\n",
        "        patience=3,              # stop after 3 epochs w/o improvement\n",
        "        restore_best_weights=True\n",
        "    )\n",
        "]\n",
        "# build to show parameters\n",
        "model_scratch.build(input_shape=(None, MAX_LEN))\n",
        "model_scratch.summary()\n",
        "\n",
        "\n",
        "# class imbalance\n",
        "weights = class_weight.compute_class_weight(\n",
        "    class_weight='balanced',\n",
        "    classes=np.unique(y_train),\n",
        "    y=y_train\n",
        ")\n",
        "class_weight_dict = dict(enumerate(weights))\n",
        "\n",
        "# Train Model A\n",
        "history_a = model_scratch.fit(\n",
        "    train_seq, y_train,\n",
        "    validation_data=(val_seq, y_val),\n",
        "    epochs=20,\n",
        "    batch_size=64,\n",
        "    class_weight=class_weight_dict,\n",
        "    callbacks=callbacks\n",
        ")\n",
        "emb_matrix = model_scratch.layers[0].get_weights()[0]\n",
        "print(\"Embedding matrix shape:\", emb_matrix.shape)  # -> (vocab_size, embed_dim)\n",
        "\n",
        "# save Embeddings\n",
        "np.save('scratch_embeddings.npy', emb_matrix)\n",
        "\n",
        "# save tokenizer\n",
        "with open('tokenizer.pkl', 'wb') as f:\n",
        "    pickle.dump(tokenizer, f)\n",
        "\n",
        "print(\"=== Model A (scratch) ===\")\n",
        "eval_and_report(model_scratch, test_seq, y_test, le)"
      ],
      "metadata": {
        "colab": {
          "base_uri": "https://localhost:8080/",
          "height": 914
        },
        "id": "LzbXFRtnCtqT",
        "outputId": "80eb3327-007d-41c7-c7ed-e05a383a22ed"
      },
      "execution_count": 11,
      "outputs": [
        {
          "output_type": "stream",
          "name": "stderr",
          "text": [
            "/usr/local/lib/python3.11/dist-packages/keras/src/layers/core/embedding.py:90: UserWarning: Argument `input_length` is deprecated. Just remove it.\n",
            "  warnings.warn(\n"
          ]
        },
        {
          "output_type": "display_data",
          "data": {
            "text/plain": [
              "\u001b[1mModel: \"sequential_4\"\u001b[0m\n"
            ],
            "text/html": [
              "<pre style=\"white-space:pre;overflow-x:auto;line-height:normal;font-family:Menlo,'DejaVu Sans Mono',consolas,'Courier New',monospace\"><span style=\"font-weight: bold\">Model: \"sequential_4\"</span>\n",
              "</pre>\n"
            ]
          },
          "metadata": {}
        },
        {
          "output_type": "display_data",
          "data": {
            "text/plain": [
              "┏━━━━━━━━━━━━━━━━━━━━━━━━━━━━━━━━━┳━━━━━━━━━━━━━━━━━━━━━━━━┳━━━━━━━━━━━━━━━┓\n",
              "┃\u001b[1m \u001b[0m\u001b[1mLayer (type)                   \u001b[0m\u001b[1m \u001b[0m┃\u001b[1m \u001b[0m\u001b[1mOutput Shape          \u001b[0m\u001b[1m \u001b[0m┃\u001b[1m \u001b[0m\u001b[1m      Param #\u001b[0m\u001b[1m \u001b[0m┃\n",
              "┡━━━━━━━━━━━━━━━━━━━━━━━━━━━━━━━━━╇━━━━━━━━━━━━━━━━━━━━━━━━╇━━━━━━━━━━━━━━━┩\n",
              "│ embedding_4 (\u001b[38;5;33mEmbedding\u001b[0m)         │ (\u001b[38;5;45mNone\u001b[0m, \u001b[38;5;34m600\u001b[0m, \u001b[38;5;34m128\u001b[0m)       │     \u001b[38;5;34m2,560,000\u001b[0m │\n",
              "├─────────────────────────────────┼────────────────────────┼───────────────┤\n",
              "│ bidirectional_4 (\u001b[38;5;33mBidirectional\u001b[0m) │ (\u001b[38;5;45mNone\u001b[0m, \u001b[38;5;34m128\u001b[0m)            │        \u001b[38;5;34m98,816\u001b[0m │\n",
              "├─────────────────────────────────┼────────────────────────┼───────────────┤\n",
              "│ dropout_4 (\u001b[38;5;33mDropout\u001b[0m)             │ (\u001b[38;5;45mNone\u001b[0m, \u001b[38;5;34m128\u001b[0m)            │             \u001b[38;5;34m0\u001b[0m │\n",
              "├─────────────────────────────────┼────────────────────────┼───────────────┤\n",
              "│ dense_4 (\u001b[38;5;33mDense\u001b[0m)                 │ (\u001b[38;5;45mNone\u001b[0m, \u001b[38;5;34m4\u001b[0m)              │           \u001b[38;5;34m516\u001b[0m │\n",
              "└─────────────────────────────────┴────────────────────────┴───────────────┘\n"
            ],
            "text/html": [
              "<pre style=\"white-space:pre;overflow-x:auto;line-height:normal;font-family:Menlo,'DejaVu Sans Mono',consolas,'Courier New',monospace\">┏━━━━━━━━━━━━━━━━━━━━━━━━━━━━━━━━━┳━━━━━━━━━━━━━━━━━━━━━━━━┳━━━━━━━━━━━━━━━┓\n",
              "┃<span style=\"font-weight: bold\"> Layer (type)                    </span>┃<span style=\"font-weight: bold\"> Output Shape           </span>┃<span style=\"font-weight: bold\">       Param # </span>┃\n",
              "┡━━━━━━━━━━━━━━━━━━━━━━━━━━━━━━━━━╇━━━━━━━━━━━━━━━━━━━━━━━━╇━━━━━━━━━━━━━━━┩\n",
              "│ embedding_4 (<span style=\"color: #0087ff; text-decoration-color: #0087ff\">Embedding</span>)         │ (<span style=\"color: #00d7ff; text-decoration-color: #00d7ff\">None</span>, <span style=\"color: #00af00; text-decoration-color: #00af00\">600</span>, <span style=\"color: #00af00; text-decoration-color: #00af00\">128</span>)       │     <span style=\"color: #00af00; text-decoration-color: #00af00\">2,560,000</span> │\n",
              "├─────────────────────────────────┼────────────────────────┼───────────────┤\n",
              "│ bidirectional_4 (<span style=\"color: #0087ff; text-decoration-color: #0087ff\">Bidirectional</span>) │ (<span style=\"color: #00d7ff; text-decoration-color: #00d7ff\">None</span>, <span style=\"color: #00af00; text-decoration-color: #00af00\">128</span>)            │        <span style=\"color: #00af00; text-decoration-color: #00af00\">98,816</span> │\n",
              "├─────────────────────────────────┼────────────────────────┼───────────────┤\n",
              "│ dropout_4 (<span style=\"color: #0087ff; text-decoration-color: #0087ff\">Dropout</span>)             │ (<span style=\"color: #00d7ff; text-decoration-color: #00d7ff\">None</span>, <span style=\"color: #00af00; text-decoration-color: #00af00\">128</span>)            │             <span style=\"color: #00af00; text-decoration-color: #00af00\">0</span> │\n",
              "├─────────────────────────────────┼────────────────────────┼───────────────┤\n",
              "│ dense_4 (<span style=\"color: #0087ff; text-decoration-color: #0087ff\">Dense</span>)                 │ (<span style=\"color: #00d7ff; text-decoration-color: #00d7ff\">None</span>, <span style=\"color: #00af00; text-decoration-color: #00af00\">4</span>)              │           <span style=\"color: #00af00; text-decoration-color: #00af00\">516</span> │\n",
              "└─────────────────────────────────┴────────────────────────┴───────────────┘\n",
              "</pre>\n"
            ]
          },
          "metadata": {}
        },
        {
          "output_type": "display_data",
          "data": {
            "text/plain": [
              "\u001b[1m Total params: \u001b[0m\u001b[38;5;34m2,659,332\u001b[0m (10.14 MB)\n"
            ],
            "text/html": [
              "<pre style=\"white-space:pre;overflow-x:auto;line-height:normal;font-family:Menlo,'DejaVu Sans Mono',consolas,'Courier New',monospace\"><span style=\"font-weight: bold\"> Total params: </span><span style=\"color: #00af00; text-decoration-color: #00af00\">2,659,332</span> (10.14 MB)\n",
              "</pre>\n"
            ]
          },
          "metadata": {}
        },
        {
          "output_type": "display_data",
          "data": {
            "text/plain": [
              "\u001b[1m Trainable params: \u001b[0m\u001b[38;5;34m2,659,332\u001b[0m (10.14 MB)\n"
            ],
            "text/html": [
              "<pre style=\"white-space:pre;overflow-x:auto;line-height:normal;font-family:Menlo,'DejaVu Sans Mono',consolas,'Courier New',monospace\"><span style=\"font-weight: bold\"> Trainable params: </span><span style=\"color: #00af00; text-decoration-color: #00af00\">2,659,332</span> (10.14 MB)\n",
              "</pre>\n"
            ]
          },
          "metadata": {}
        },
        {
          "output_type": "display_data",
          "data": {
            "text/plain": [
              "\u001b[1m Non-trainable params: \u001b[0m\u001b[38;5;34m0\u001b[0m (0.00 B)\n"
            ],
            "text/html": [
              "<pre style=\"white-space:pre;overflow-x:auto;line-height:normal;font-family:Menlo,'DejaVu Sans Mono',consolas,'Courier New',monospace\"><span style=\"font-weight: bold\"> Non-trainable params: </span><span style=\"color: #00af00; text-decoration-color: #00af00\">0</span> (0.00 B)\n",
              "</pre>\n"
            ]
          },
          "metadata": {}
        },
        {
          "output_type": "stream",
          "name": "stdout",
          "text": [
            "Epoch 1/20\n",
            "\u001b[1m31/31\u001b[0m \u001b[32m━━━━━━━━━━━━━━━━━━━━\u001b[0m\u001b[37m\u001b[0m \u001b[1m4s\u001b[0m 59ms/step - accuracy: 0.3223 - loss: 1.3831 - val_accuracy: 0.4655 - val_loss: 1.3252\n",
            "Epoch 2/20\n",
            "\u001b[1m31/31\u001b[0m \u001b[32m━━━━━━━━━━━━━━━━━━━━\u001b[0m\u001b[37m\u001b[0m \u001b[1m1s\u001b[0m 43ms/step - accuracy: 0.5407 - loss: 1.2935 - val_accuracy: 0.5747 - val_loss: 1.1821\n",
            "Epoch 3/20\n",
            "\u001b[1m31/31\u001b[0m \u001b[32m━━━━━━━━━━━━━━━━━━━━\u001b[0m\u001b[37m\u001b[0m \u001b[1m1s\u001b[0m 43ms/step - accuracy: 0.7757 - loss: 0.9776 - val_accuracy: 0.6494 - val_loss: 0.9574\n",
            "Epoch 4/20\n",
            "\u001b[1m31/31\u001b[0m \u001b[32m━━━━━━━━━━━━━━━━━━━━\u001b[0m\u001b[37m\u001b[0m \u001b[1m1s\u001b[0m 42ms/step - accuracy: 0.8531 - loss: 0.5617 - val_accuracy: 0.6178 - val_loss: 0.9877\n",
            "Epoch 5/20\n",
            "\u001b[1m31/31\u001b[0m \u001b[32m━━━━━━━━━━━━━━━━━━━━\u001b[0m\u001b[37m\u001b[0m \u001b[1m1s\u001b[0m 43ms/step - accuracy: 0.8804 - loss: 0.3857 - val_accuracy: 0.6466 - val_loss: 0.9220\n",
            "Epoch 6/20\n",
            "\u001b[1m31/31\u001b[0m \u001b[32m━━━━━━━━━━━━━━━━━━━━\u001b[0m\u001b[37m\u001b[0m \u001b[1m1s\u001b[0m 42ms/step - accuracy: 0.9676 - loss: 0.1400 - val_accuracy: 0.6523 - val_loss: 0.9506\n",
            "Epoch 7/20\n",
            "\u001b[1m31/31\u001b[0m \u001b[32m━━━━━━━━━━━━━━━━━━━━\u001b[0m\u001b[37m\u001b[0m \u001b[1m1s\u001b[0m 42ms/step - accuracy: 0.9872 - loss: 0.0691 - val_accuracy: 0.6236 - val_loss: 1.2042\n",
            "Epoch 8/20\n",
            "\u001b[1m31/31\u001b[0m \u001b[32m━━━━━━━━━━━━━━━━━━━━\u001b[0m\u001b[37m\u001b[0m \u001b[1m1s\u001b[0m 42ms/step - accuracy: 0.9921 - loss: 0.0422 - val_accuracy: 0.6351 - val_loss: 1.1318\n",
            "Embedding matrix shape: (20000, 128)\n",
            "=== Model A (scratch) ===\n",
            "\u001b[1m19/19\u001b[0m \u001b[32m━━━━━━━━━━━━━━━━━━━━\u001b[0m\u001b[37m\u001b[0m \u001b[1m1s\u001b[0m 26ms/step\n",
            "                     precision    recall  f1-score   support\n",
            "\n",
            "         bug_report       0.67      0.69      0.68       151\n",
            "improvement_request       0.43      0.57      0.49        88\n",
            "             others       0.51      0.62      0.56        81\n",
            "             rating       0.81      0.65      0.72       260\n",
            "\n",
            "           accuracy                           0.64       580\n",
            "          macro avg       0.60      0.63      0.61       580\n",
            "       weighted avg       0.67      0.64      0.65       580\n",
            "\n",
            "Confusion matrix:\n",
            " [[104  22  11  14]\n",
            " [ 13  50   8  17]\n",
            " [ 12  11  50   8]\n",
            " [ 27  33  30 170]]\n"
          ]
        }
      ]
    },
    {
      "cell_type": "markdown",
      "source": [
        "#with augmentations"
      ],
      "metadata": {
        "id": "0pFdncz3ZcMo"
      }
    },
    {
      "cell_type": "code",
      "source": [
        "le = LabelEncoder()\n",
        "#y = le.fit_transform(labels)\n",
        "\n",
        "df_train = pd.read_csv('train_augmented.csv')\n",
        "print(\"Augmented data shape: \",df_train.shape)\n",
        "# 2) Extract texts and labels\n",
        "X_train = df_train['review'].astype(str).tolist()\n",
        "y_train = le.fit_transform(df_train['Label'])\n",
        "\n",
        "df_val = pd.read_csv('val.csv')\n",
        "# 2) Extract texts and labels\n",
        "X_val = df_val['review'].astype(str).tolist()\n",
        "y_val = le.transform(df_val['Label'])\n",
        "\n",
        "df_test = pd.read_csv('test.csv')\n",
        "# 2) Extract texts and labels\n",
        "X_test = df_test['review'].astype(str).tolist()\n",
        "y_test = le.transform(df_test['Label'])\n",
        "\n",
        "# Tokenize\n",
        "MAX_VOCAB = 20000\n",
        "MAX_LEN   = 600\n",
        "\n",
        "tokenizer = Tokenizer(num_words=MAX_VOCAB, oov_token=\"<OOV>\")\n",
        "tokenizer.fit_on_texts(X_train)\n",
        "train_seq = pad_sequences(tokenizer.texts_to_sequences(X_train),\n",
        "                          maxlen=MAX_LEN, padding='post')\n",
        "val_seq   = pad_sequences(tokenizer.texts_to_sequences(X_val),\n",
        "                          maxlen=MAX_LEN, padding='post')\n",
        "test_seq  = pad_sequences(tokenizer.texts_to_sequences(X_test),\n",
        "                          maxlen=MAX_LEN, padding='post')\n",
        "\n",
        "# Model A: embeddings from scratch with augmentation data\n",
        "model_scratch = Sequential([\n",
        "    Embedding(input_dim=MAX_VOCAB, output_dim=128, input_length=MAX_LEN),\n",
        "    Bidirectional(LSTM(64, return_sequences=False)),\n",
        "    Dropout(0.5),\n",
        "    Dense( len(le.classes_), activation='softmax')\n",
        "])\n",
        "# model_scratch = Sequential([\n",
        "#     Embedding(\n",
        "#         input_dim=MAX_VOCAB,\n",
        "#         output_dim=128,\n",
        "#         #weights=[embedding_matrix],\n",
        "#         input_length=MAX_LEN,\n",
        "#         trainable=True,\n",
        "#         name='embedding'\n",
        "#     ),\n",
        "#     Bidirectional(\n",
        "#         LSTM(128, return_sequences=False, recurrent_dropout=0.2),\n",
        "#         name='bilstm'\n",
        "#     ),\n",
        "#     Dropout(0.3, name='dropout_1'),\n",
        "#     Dense(64, activation='relu', name='dense_1'),\n",
        "#     Dropout(0.3, name='dropout_2'),\n",
        "#     Dense(len(le.classes_), activation='softmax', name='output')\n",
        "# ], name='multilabel_rnn')\n",
        "model_scratch.compile(\n",
        "    loss='sparse_categorical_crossentropy',\n",
        "    optimizer='adam',\n",
        "    metrics=['accuracy']\n",
        ")\n",
        "callbacks = [\n",
        "    EarlyStopping(\n",
        "        #monitor=\"val_loss\",\n",
        "        monitor='val_accuracy',\n",
        "        mode='max',\n",
        "        patience=3,              # stop after 3 epochs w/o improvement\n",
        "        restore_best_weights=True\n",
        "    )\n",
        "]\n",
        "\n",
        "model_scratch.build(input_shape=(None, MAX_LEN))\n",
        "model_scratch.summary()\n",
        "\n",
        "# Train Model A\n",
        "history_a = model_scratch.fit(\n",
        "    train_seq, y_train,\n",
        "    validation_data=(val_seq, y_val),\n",
        "    epochs=20,\n",
        "    batch_size=64,\n",
        "    callbacks=callbacks\n",
        ")\n",
        "emb_matrix = model_scratch.layers[0].get_weights()[0]\n",
        "print(\"Embedding matrix shape:\", emb_matrix.shape)  # -> (vocab_size, embed_dim)\n",
        "\n",
        "# save Embeddings\n",
        "np.save('scratch_embeddings_aug.npy', emb_matrix)\n",
        "\n",
        "# save tokenizer\n",
        "with open('tokenizer_aug.pkl', 'wb') as f:\n",
        "    pickle.dump(tokenizer, f)\n",
        "\n",
        "# Evaluation & report\n",
        "def eval_and_report(model, seq, true_y, label_encoder):\n",
        "    preds = np.argmax(model.predict(seq), axis=1)\n",
        "    print(classification_report(true_y, preds,\n",
        "          target_names=label_encoder.classes_))\n",
        "    cm = confusion_matrix(true_y, preds)\n",
        "    print(\"Confusion matrix:\\n\", cm)\n",
        "\n",
        "print(\"=== Model A (scratch) ===\")\n",
        "eval_and_report(model_scratch, test_seq, y_test, le)"
      ],
      "metadata": {
        "colab": {
          "base_uri": "https://localhost:8080/",
          "height": 828
        },
        "id": "wft4RwH8ZbQY",
        "outputId": "36c27b2e-9afd-41e4-90bb-1ff0f0bf0f8a"
      },
      "execution_count": 13,
      "outputs": [
        {
          "output_type": "stream",
          "name": "stdout",
          "text": [
            "Augmented data shape:  (4800, 2)\n"
          ]
        },
        {
          "output_type": "stream",
          "name": "stderr",
          "text": [
            "/usr/local/lib/python3.11/dist-packages/keras/src/layers/core/embedding.py:90: UserWarning: Argument `input_length` is deprecated. Just remove it.\n",
            "  warnings.warn(\n"
          ]
        },
        {
          "output_type": "display_data",
          "data": {
            "text/plain": [
              "\u001b[1mModel: \"sequential_5\"\u001b[0m\n"
            ],
            "text/html": [
              "<pre style=\"white-space:pre;overflow-x:auto;line-height:normal;font-family:Menlo,'DejaVu Sans Mono',consolas,'Courier New',monospace\"><span style=\"font-weight: bold\">Model: \"sequential_5\"</span>\n",
              "</pre>\n"
            ]
          },
          "metadata": {}
        },
        {
          "output_type": "display_data",
          "data": {
            "text/plain": [
              "┏━━━━━━━━━━━━━━━━━━━━━━━━━━━━━━━━━┳━━━━━━━━━━━━━━━━━━━━━━━━┳━━━━━━━━━━━━━━━┓\n",
              "┃\u001b[1m \u001b[0m\u001b[1mLayer (type)                   \u001b[0m\u001b[1m \u001b[0m┃\u001b[1m \u001b[0m\u001b[1mOutput Shape          \u001b[0m\u001b[1m \u001b[0m┃\u001b[1m \u001b[0m\u001b[1m      Param #\u001b[0m\u001b[1m \u001b[0m┃\n",
              "┡━━━━━━━━━━━━━━━━━━━━━━━━━━━━━━━━━╇━━━━━━━━━━━━━━━━━━━━━━━━╇━━━━━━━━━━━━━━━┩\n",
              "│ embedding_5 (\u001b[38;5;33mEmbedding\u001b[0m)         │ (\u001b[38;5;45mNone\u001b[0m, \u001b[38;5;34m600\u001b[0m, \u001b[38;5;34m128\u001b[0m)       │     \u001b[38;5;34m2,560,000\u001b[0m │\n",
              "├─────────────────────────────────┼────────────────────────┼───────────────┤\n",
              "│ bidirectional_5 (\u001b[38;5;33mBidirectional\u001b[0m) │ (\u001b[38;5;45mNone\u001b[0m, \u001b[38;5;34m128\u001b[0m)            │        \u001b[38;5;34m98,816\u001b[0m │\n",
              "├─────────────────────────────────┼────────────────────────┼───────────────┤\n",
              "│ dropout_5 (\u001b[38;5;33mDropout\u001b[0m)             │ (\u001b[38;5;45mNone\u001b[0m, \u001b[38;5;34m128\u001b[0m)            │             \u001b[38;5;34m0\u001b[0m │\n",
              "├─────────────────────────────────┼────────────────────────┼───────────────┤\n",
              "│ dense_5 (\u001b[38;5;33mDense\u001b[0m)                 │ (\u001b[38;5;45mNone\u001b[0m, \u001b[38;5;34m4\u001b[0m)              │           \u001b[38;5;34m516\u001b[0m │\n",
              "└─────────────────────────────────┴────────────────────────┴───────────────┘\n"
            ],
            "text/html": [
              "<pre style=\"white-space:pre;overflow-x:auto;line-height:normal;font-family:Menlo,'DejaVu Sans Mono',consolas,'Courier New',monospace\">┏━━━━━━━━━━━━━━━━━━━━━━━━━━━━━━━━━┳━━━━━━━━━━━━━━━━━━━━━━━━┳━━━━━━━━━━━━━━━┓\n",
              "┃<span style=\"font-weight: bold\"> Layer (type)                    </span>┃<span style=\"font-weight: bold\"> Output Shape           </span>┃<span style=\"font-weight: bold\">       Param # </span>┃\n",
              "┡━━━━━━━━━━━━━━━━━━━━━━━━━━━━━━━━━╇━━━━━━━━━━━━━━━━━━━━━━━━╇━━━━━━━━━━━━━━━┩\n",
              "│ embedding_5 (<span style=\"color: #0087ff; text-decoration-color: #0087ff\">Embedding</span>)         │ (<span style=\"color: #00d7ff; text-decoration-color: #00d7ff\">None</span>, <span style=\"color: #00af00; text-decoration-color: #00af00\">600</span>, <span style=\"color: #00af00; text-decoration-color: #00af00\">128</span>)       │     <span style=\"color: #00af00; text-decoration-color: #00af00\">2,560,000</span> │\n",
              "├─────────────────────────────────┼────────────────────────┼───────────────┤\n",
              "│ bidirectional_5 (<span style=\"color: #0087ff; text-decoration-color: #0087ff\">Bidirectional</span>) │ (<span style=\"color: #00d7ff; text-decoration-color: #00d7ff\">None</span>, <span style=\"color: #00af00; text-decoration-color: #00af00\">128</span>)            │        <span style=\"color: #00af00; text-decoration-color: #00af00\">98,816</span> │\n",
              "├─────────────────────────────────┼────────────────────────┼───────────────┤\n",
              "│ dropout_5 (<span style=\"color: #0087ff; text-decoration-color: #0087ff\">Dropout</span>)             │ (<span style=\"color: #00d7ff; text-decoration-color: #00d7ff\">None</span>, <span style=\"color: #00af00; text-decoration-color: #00af00\">128</span>)            │             <span style=\"color: #00af00; text-decoration-color: #00af00\">0</span> │\n",
              "├─────────────────────────────────┼────────────────────────┼───────────────┤\n",
              "│ dense_5 (<span style=\"color: #0087ff; text-decoration-color: #0087ff\">Dense</span>)                 │ (<span style=\"color: #00d7ff; text-decoration-color: #00d7ff\">None</span>, <span style=\"color: #00af00; text-decoration-color: #00af00\">4</span>)              │           <span style=\"color: #00af00; text-decoration-color: #00af00\">516</span> │\n",
              "└─────────────────────────────────┴────────────────────────┴───────────────┘\n",
              "</pre>\n"
            ]
          },
          "metadata": {}
        },
        {
          "output_type": "display_data",
          "data": {
            "text/plain": [
              "\u001b[1m Total params: \u001b[0m\u001b[38;5;34m2,659,332\u001b[0m (10.14 MB)\n"
            ],
            "text/html": [
              "<pre style=\"white-space:pre;overflow-x:auto;line-height:normal;font-family:Menlo,'DejaVu Sans Mono',consolas,'Courier New',monospace\"><span style=\"font-weight: bold\"> Total params: </span><span style=\"color: #00af00; text-decoration-color: #00af00\">2,659,332</span> (10.14 MB)\n",
              "</pre>\n"
            ]
          },
          "metadata": {}
        },
        {
          "output_type": "display_data",
          "data": {
            "text/plain": [
              "\u001b[1m Trainable params: \u001b[0m\u001b[38;5;34m2,659,332\u001b[0m (10.14 MB)\n"
            ],
            "text/html": [
              "<pre style=\"white-space:pre;overflow-x:auto;line-height:normal;font-family:Menlo,'DejaVu Sans Mono',consolas,'Courier New',monospace\"><span style=\"font-weight: bold\"> Trainable params: </span><span style=\"color: #00af00; text-decoration-color: #00af00\">2,659,332</span> (10.14 MB)\n",
              "</pre>\n"
            ]
          },
          "metadata": {}
        },
        {
          "output_type": "display_data",
          "data": {
            "text/plain": [
              "\u001b[1m Non-trainable params: \u001b[0m\u001b[38;5;34m0\u001b[0m (0.00 B)\n"
            ],
            "text/html": [
              "<pre style=\"white-space:pre;overflow-x:auto;line-height:normal;font-family:Menlo,'DejaVu Sans Mono',consolas,'Courier New',monospace\"><span style=\"font-weight: bold\"> Non-trainable params: </span><span style=\"color: #00af00; text-decoration-color: #00af00\">0</span> (0.00 B)\n",
              "</pre>\n"
            ]
          },
          "metadata": {}
        },
        {
          "output_type": "stream",
          "name": "stdout",
          "text": [
            "Epoch 1/20\n",
            "\u001b[1m75/75\u001b[0m \u001b[32m━━━━━━━━━━━━━━━━━━━━\u001b[0m\u001b[37m\u001b[0m \u001b[1m5s\u001b[0m 44ms/step - accuracy: 0.5065 - loss: 1.1810 - val_accuracy: 0.5718 - val_loss: 1.0317\n",
            "Epoch 2/20\n",
            "\u001b[1m75/75\u001b[0m \u001b[32m━━━━━━━━━━━━━━━━━━━━\u001b[0m\u001b[37m\u001b[0m \u001b[1m3s\u001b[0m 39ms/step - accuracy: 0.8853 - loss: 0.3294 - val_accuracy: 0.6782 - val_loss: 0.9001\n",
            "Epoch 3/20\n",
            "\u001b[1m75/75\u001b[0m \u001b[32m━━━━━━━━━━━━━━━━━━━━\u001b[0m\u001b[37m\u001b[0m \u001b[1m3s\u001b[0m 39ms/step - accuracy: 0.9559 - loss: 0.1541 - val_accuracy: 0.6753 - val_loss: 0.9594\n",
            "Epoch 4/20\n",
            "\u001b[1m75/75\u001b[0m \u001b[32m━━━━━━━━━━━━━━━━━━━━\u001b[0m\u001b[37m\u001b[0m \u001b[1m3s\u001b[0m 39ms/step - accuracy: 0.9892 - loss: 0.0527 - val_accuracy: 0.6667 - val_loss: 1.0341\n",
            "Epoch 5/20\n",
            "\u001b[1m75/75\u001b[0m \u001b[32m━━━━━━━━━━━━━━━━━━━━\u001b[0m\u001b[37m\u001b[0m \u001b[1m3s\u001b[0m 39ms/step - accuracy: 0.9960 - loss: 0.0230 - val_accuracy: 0.6638 - val_loss: 1.2306\n",
            "Embedding matrix shape: (20000, 128)\n",
            "=== Model A (scratch) ===\n",
            "\u001b[1m19/19\u001b[0m \u001b[32m━━━━━━━━━━━━━━━━━━━━\u001b[0m\u001b[37m\u001b[0m \u001b[1m1s\u001b[0m 26ms/step\n",
            "                     precision    recall  f1-score   support\n",
            "\n",
            "         bug_report       0.62      0.78      0.69       151\n",
            "improvement_request       0.62      0.34      0.44        88\n",
            "             others       0.52      0.27      0.36        81\n",
            "             rating       0.71      0.82      0.76       260\n",
            "\n",
            "           accuracy                           0.66       580\n",
            "          macro avg       0.62      0.55      0.56       580\n",
            "       weighted avg       0.65      0.66      0.64       580\n",
            "\n",
            "Confusion matrix:\n",
            " [[118   5   7  21]\n",
            " [ 20  30   5  33]\n",
            " [ 18   7  22  34]\n",
            " [ 34   6   8 212]]\n"
          ]
        }
      ]
    },
    {
      "cell_type": "markdown",
      "source": [
        "Use precomputed embeddings (similar to word2vec or Glove for Arabic)"
      ],
      "metadata": {
        "id": "NyTb1g0HCt_n"
      }
    },
    {
      "cell_type": "markdown",
      "source": [
        "For ensuring Gensim works"
      ],
      "metadata": {
        "id": "jStC1fKLO-AA"
      }
    },
    {
      "cell_type": "code",
      "source": [
        "# for Gensim to work for AraVec\n",
        "!pip install --upgrade numpy\n",
        "!pip install --upgrade gensim\n",
        "!clear"
      ],
      "metadata": {
        "colab": {
          "base_uri": "https://localhost:8080/"
        },
        "id": "ax169XAn88er",
        "outputId": "6a55db62-5ac0-49ac-e75c-11a23f05946c"
      },
      "execution_count": 14,
      "outputs": [
        {
          "output_type": "stream",
          "name": "stdout",
          "text": [
            "Requirement already satisfied: numpy in /usr/local/lib/python3.11/dist-packages (2.0.2)\n",
            "Collecting numpy\n",
            "  Downloading numpy-2.2.5-cp311-cp311-manylinux_2_17_x86_64.manylinux2014_x86_64.whl.metadata (62 kB)\n",
            "\u001b[2K     \u001b[90m━━━━━━━━━━━━━━━━━━━━━━━━━━━━━━━━━━━━━━━━\u001b[0m \u001b[32m62.0/62.0 kB\u001b[0m \u001b[31m6.1 MB/s\u001b[0m eta \u001b[36m0:00:00\u001b[0m\n",
            "\u001b[?25hDownloading numpy-2.2.5-cp311-cp311-manylinux_2_17_x86_64.manylinux2014_x86_64.whl (16.4 MB)\n",
            "\u001b[2K   \u001b[90m━━━━━━━━━━━━━━━━━━━━━━━━━━━━━━━━━━━━━━━━\u001b[0m \u001b[32m16.4/16.4 MB\u001b[0m \u001b[31m118.3 MB/s\u001b[0m eta \u001b[36m0:00:00\u001b[0m\n",
            "\u001b[?25hInstalling collected packages: numpy\n",
            "  Attempting uninstall: numpy\n",
            "    Found existing installation: numpy 2.0.2\n",
            "    Uninstalling numpy-2.0.2:\n",
            "      Successfully uninstalled numpy-2.0.2\n",
            "\u001b[31mERROR: pip's dependency resolver does not currently take into account all the packages that are installed. This behaviour is the source of the following dependency conflicts.\n",
            "tensorflow 2.18.0 requires numpy<2.1.0,>=1.26.0, but you have numpy 2.2.5 which is incompatible.\n",
            "numba 0.60.0 requires numpy<2.1,>=1.22, but you have numpy 2.2.5 which is incompatible.\u001b[0m\u001b[31m\n",
            "\u001b[0mSuccessfully installed numpy-2.2.5\n",
            "Collecting gensim\n",
            "  Downloading gensim-4.3.3-cp311-cp311-manylinux_2_17_x86_64.manylinux2014_x86_64.whl.metadata (8.1 kB)\n",
            "Collecting numpy<2.0,>=1.18.5 (from gensim)\n",
            "  Downloading numpy-1.26.4-cp311-cp311-manylinux_2_17_x86_64.manylinux2014_x86_64.whl.metadata (61 kB)\n",
            "\u001b[2K     \u001b[90m━━━━━━━━━━━━━━━━━━━━━━━━━━━━━━━━━━━━━━━━\u001b[0m \u001b[32m61.0/61.0 kB\u001b[0m \u001b[31m5.0 MB/s\u001b[0m eta \u001b[36m0:00:00\u001b[0m\n",
            "\u001b[?25hCollecting scipy<1.14.0,>=1.7.0 (from gensim)\n",
            "  Downloading scipy-1.13.1-cp311-cp311-manylinux_2_17_x86_64.manylinux2014_x86_64.whl.metadata (60 kB)\n",
            "\u001b[2K     \u001b[90m━━━━━━━━━━━━━━━━━━━━━━━━━━━━━━━━━━━━━━━━\u001b[0m \u001b[32m60.6/60.6 kB\u001b[0m \u001b[31m5.5 MB/s\u001b[0m eta \u001b[36m0:00:00\u001b[0m\n",
            "\u001b[?25hRequirement already satisfied: smart-open>=1.8.1 in /usr/local/lib/python3.11/dist-packages (from gensim) (7.1.0)\n",
            "Requirement already satisfied: wrapt in /usr/local/lib/python3.11/dist-packages (from smart-open>=1.8.1->gensim) (1.17.2)\n",
            "Downloading gensim-4.3.3-cp311-cp311-manylinux_2_17_x86_64.manylinux2014_x86_64.whl (26.7 MB)\n",
            "\u001b[2K   \u001b[90m━━━━━━━━━━━━━━━━━━━━━━━━━━━━━━━━━━━━━━━━\u001b[0m \u001b[32m26.7/26.7 MB\u001b[0m \u001b[31m95.6 MB/s\u001b[0m eta \u001b[36m0:00:00\u001b[0m\n",
            "\u001b[?25hDownloading numpy-1.26.4-cp311-cp311-manylinux_2_17_x86_64.manylinux2014_x86_64.whl (18.3 MB)\n",
            "\u001b[2K   \u001b[90m━━━━━━━━━━━━━━━━━━━━━━━━━━━━━━━━━━━━━━━━\u001b[0m \u001b[32m18.3/18.3 MB\u001b[0m \u001b[31m115.6 MB/s\u001b[0m eta \u001b[36m0:00:00\u001b[0m\n",
            "\u001b[?25hDownloading scipy-1.13.1-cp311-cp311-manylinux_2_17_x86_64.manylinux2014_x86_64.whl (38.6 MB)\n",
            "\u001b[2K   \u001b[90m━━━━━━━━━━━━━━━━━━━━━━━━━━━━━━━━━━━━━━━━\u001b[0m \u001b[32m38.6/38.6 MB\u001b[0m \u001b[31m62.0 MB/s\u001b[0m eta \u001b[36m0:00:00\u001b[0m\n",
            "\u001b[?25hInstalling collected packages: numpy, scipy, gensim\n",
            "  Attempting uninstall: numpy\n",
            "    Found existing installation: numpy 2.2.5\n",
            "    Uninstalling numpy-2.2.5:\n",
            "      Successfully uninstalled numpy-2.2.5\n",
            "  Attempting uninstall: scipy\n",
            "    Found existing installation: scipy 1.15.2\n",
            "    Uninstalling scipy-1.15.2:\n",
            "      Successfully uninstalled scipy-1.15.2\n",
            "\u001b[31mERROR: pip's dependency resolver does not currently take into account all the packages that are installed. This behaviour is the source of the following dependency conflicts.\n",
            "thinc 8.3.6 requires numpy<3.0.0,>=2.0.0, but you have numpy 1.26.4 which is incompatible.\n",
            "tsfresh 0.21.0 requires scipy>=1.14.0; python_version >= \"3.10\", but you have scipy 1.13.1 which is incompatible.\u001b[0m\u001b[31m\n",
            "\u001b[0mSuccessfully installed gensim-4.3.3 numpy-1.26.4 scipy-1.13.1\n",
            "\u001b[H\u001b[2J"
          ]
        }
      ]
    },
    {
      "cell_type": "code",
      "source": [
        "# Download AraVec embedding\n",
        "!wget \"https://archive.org/download/aravec2.0/tweet_cbow_300.zip\"\n",
        "!unzip \"tweet_cbow_300.zip\""
      ],
      "metadata": {
        "colab": {
          "base_uri": "https://localhost:8080/"
        },
        "id": "brkz2xqU-e2k",
        "outputId": "f97f5a5f-3e63-482a-daac-18305993c114"
      },
      "execution_count": 2,
      "outputs": [
        {
          "output_type": "stream",
          "name": "stdout",
          "text": [
            "--2025-05-12 17:44:50--  https://archive.org/download/aravec2.0/tweet_cbow_300.zip\n",
            "Resolving archive.org (archive.org)... 207.241.224.2\n",
            "Connecting to archive.org (archive.org)|207.241.224.2|:443... connected.\n",
            "HTTP request sent, awaiting response... 302 Found\n",
            "Location: https://ia903107.us.archive.org/0/items/aravec2.0/tweet_cbow_300.zip [following]\n",
            "--2025-05-12 17:44:51--  https://ia903107.us.archive.org/0/items/aravec2.0/tweet_cbow_300.zip\n",
            "Resolving ia903107.us.archive.org (ia903107.us.archive.org)... 207.241.232.147\n",
            "Connecting to ia903107.us.archive.org (ia903107.us.archive.org)|207.241.232.147|:443... connected.\n",
            "HTTP request sent, awaiting response... 200 OK\n",
            "Length: 746111232 (712M) [application/zip]\n",
            "Saving to: ‘tweet_cbow_300.zip’\n",
            "\n",
            "tweet_cbow_300.zip  100%[===================>] 711.55M  2.53MB/s    in 3m 42s  \n",
            "\n",
            "2025-05-12 17:48:34 (3.20 MB/s) - ‘tweet_cbow_300.zip’ saved [746111232/746111232]\n",
            "\n",
            "Archive:  tweet_cbow_300.zip\n",
            "  inflating: tweets_cbow_300         \n",
            "  inflating: tweets_cbow_300.trainables.syn1neg.npy  \n",
            "  inflating: tweets_cbow_300.wv.vectors.npy  \n"
          ]
        }
      ]
    },
    {
      "cell_type": "code",
      "source": [
        "import numpy as np\n",
        "import gensim\n",
        "from tensorflow.keras.layers import Embedding, Bidirectional, LSTM, Dropout, Dense\n",
        "from tensorflow.keras.models import Sequential\n",
        "from sklearn.utils import class_weight\n",
        "\n",
        "le = LabelEncoder()\n",
        "\n",
        "df_train = pd.read_csv('train.csv')\n",
        "X_train = df_train['review'].astype(str).tolist()\n",
        "y_train = le.fit_transform(df_train['Label'])\n",
        "\n",
        "df_val = pd.read_csv('val.csv')\n",
        "X_val = df_val['review'].astype(str).tolist()\n",
        "y_val = le.transform(df_val['Label'])\n",
        "\n",
        "df_test = pd.read_csv('test.csv')\n",
        "X_test = df_test['review'].astype(str).tolist()\n",
        "y_test = le.transform(df_test['Label'])\n",
        "\n",
        "# Cleaning function For aravec\n",
        "import re\n",
        "def clean_str(text):\n",
        "    search = [\"أ\",\"إ\",\"آ\",\"ة\",\"_\",\"-\",\"/\",\".\",\"،\",\" و \",\" يا \",\n",
        "              '\"',\"ـ\",\"'\",\"ى\",\"\\\\\",'\\n','\\t','&quot;','?','؟','!']\n",
        "    replace = [\"ا\",\"ا\",\"ا\",\"ه\",\" \",\" \",\"\",\"\",\"\",\" و\",\" يا\",\n",
        "               \"\",\"\",\"\",\"\",\"ي\",\"\",' ',' ',' ',' ? ',' ؟ ',' ! ']\n",
        "    # remove tashkeel\n",
        "    text = re.sub(r'[\\u0617-\\u061A\\u064B-\\u0652]', \"\", text)\n",
        "    # collapse repeated chars\n",
        "    text = re.sub(r'(.)\\1+', r\"\\1\\1\", text)\n",
        "    # simple normalizations\n",
        "    text = text.replace('وو','و').replace('يي','ي').replace('اا','ا')\n",
        "    for s, r in zip(search, replace):\n",
        "        text = text.replace(s, r)\n",
        "    return text.strip()\n",
        "\n",
        "# Apply cleaning before tokenization\n",
        "X_train = [ clean_str(t) for t in X_train ]\n",
        "X_val   = [ clean_str(t) for t in X_val ]\n",
        "X_test  = [ clean_str(t) for t in X_test ]\n",
        "\n",
        "# Tokenize\n",
        "MAX_VOCAB = 20000\n",
        "MAX_LEN   = 600\n",
        "\n",
        "tokenizer = Tokenizer(num_words=MAX_VOCAB, oov_token=\"<OOV>\")\n",
        "tokenizer.fit_on_texts(X_train)\n",
        "train_seq = pad_sequences(tokenizer.texts_to_sequences(X_train),maxlen=MAX_LEN, padding='post')\n",
        "val_seq   = pad_sequences(tokenizer.texts_to_sequences(X_val),maxlen=MAX_LEN, padding='post')\n",
        "test_seq  = pad_sequences(tokenizer.texts_to_sequences(X_test),maxlen=MAX_LEN, padding='post')\n",
        "\n",
        "# Get Embedding matrix from aravec\n",
        "EMBEDDING_PATH = 'tweets_cbow_300.wv.vectors.npy'\n",
        "embedding_matrix = np.load(EMBEDDING_PATH)\n",
        "print(f'\\nLoaded embedding matrix: {embedding_matrix.shape}')\n",
        "\n",
        "vocab_size, embedding_dim = embedding_matrix.shape\n",
        "#  Define & compile Model B using Aravec\n",
        "model_pretrained = Sequential([\n",
        "    Embedding(\n",
        "        input_dim=vocab_size,\n",
        "        output_dim=embedding_dim,\n",
        "        weights=[embedding_matrix],\n",
        "        input_length=MAX_LEN,\n",
        "        trainable=False\n",
        "    ),\n",
        "    Bidirectional(LSTM(64)),\n",
        "    Dropout(0.5),\n",
        "    Dense(len(le.classes_), activation='softmax')\n",
        "])\n",
        "model_pretrained.compile(\n",
        "    loss='sparse_categorical_crossentropy',\n",
        "    optimizer='adam',\n",
        "    metrics=['accuracy']\n",
        ")\n",
        "callbacks = [\n",
        "    EarlyStopping(\n",
        "        #monitor=\"val_loss\",\n",
        "        monitor='val_accuracy',\n",
        "        mode='max',\n",
        "        patience=3,              # stop after 3 epochs w/o improvement\n",
        "        restore_best_weights=True\n",
        "    )\n",
        "]\n",
        "model_pretrained.build(input_shape=(None, MAX_LEN))\n",
        "model_pretrained.summary()\n",
        "\n",
        "# weights = class_weight.compute_class_weight(\n",
        "#     class_weight='balanced',\n",
        "#     classes=np.unique(y_train),\n",
        "#     y=y_train\n",
        "# )\n",
        "# class_weight_dict = dict(enumerate(weights))\n",
        "\n",
        "# Train Model B\n",
        "history_b = model_pretrained.fit(\n",
        "    train_seq, y_train,\n",
        "    validation_data=(val_seq, y_val),\n",
        "    epochs=20,\n",
        "    batch_size=64,\n",
        "    #class_weight=class_weight_dict,\n",
        "    callbacks=callbacks\n",
        ")\n",
        "\n",
        "print(\"\\n=== Model B (pre-trained embeddings) ===\")\n",
        "eval_and_report(model_pretrained, test_seq, y_test, le)"
      ],
      "metadata": {
        "colab": {
          "base_uri": "https://localhost:8080/",
          "height": 949
        },
        "id": "gEDPr--vCvH-",
        "outputId": "2f4729e4-a420-4afb-c440-d9cd8e92e08e"
      },
      "execution_count": 9,
      "outputs": [
        {
          "output_type": "stream",
          "name": "stdout",
          "text": [
            "\n",
            "Loaded embedding matrix: (331679, 300)\n"
          ]
        },
        {
          "output_type": "stream",
          "name": "stderr",
          "text": [
            "/usr/local/lib/python3.11/dist-packages/keras/src/layers/core/embedding.py:90: UserWarning: Argument `input_length` is deprecated. Just remove it.\n",
            "  warnings.warn(\n"
          ]
        },
        {
          "output_type": "display_data",
          "data": {
            "text/plain": [
              "\u001b[1mModel: \"sequential_4\"\u001b[0m\n"
            ],
            "text/html": [
              "<pre style=\"white-space:pre;overflow-x:auto;line-height:normal;font-family:Menlo,'DejaVu Sans Mono',consolas,'Courier New',monospace\"><span style=\"font-weight: bold\">Model: \"sequential_4\"</span>\n",
              "</pre>\n"
            ]
          },
          "metadata": {}
        },
        {
          "output_type": "display_data",
          "data": {
            "text/plain": [
              "┏━━━━━━━━━━━━━━━━━━━━━━━━━━━━━━━━━┳━━━━━━━━━━━━━━━━━━━━━━━━┳━━━━━━━━━━━━━━━┓\n",
              "┃\u001b[1m \u001b[0m\u001b[1mLayer (type)                   \u001b[0m\u001b[1m \u001b[0m┃\u001b[1m \u001b[0m\u001b[1mOutput Shape          \u001b[0m\u001b[1m \u001b[0m┃\u001b[1m \u001b[0m\u001b[1m      Param #\u001b[0m\u001b[1m \u001b[0m┃\n",
              "┡━━━━━━━━━━━━━━━━━━━━━━━━━━━━━━━━━╇━━━━━━━━━━━━━━━━━━━━━━━━╇━━━━━━━━━━━━━━━┩\n",
              "│ embedding_5 (\u001b[38;5;33mEmbedding\u001b[0m)         │ (\u001b[38;5;45mNone\u001b[0m, \u001b[38;5;34m600\u001b[0m, \u001b[38;5;34m300\u001b[0m)       │    \u001b[38;5;34m99,503,700\u001b[0m │\n",
              "├─────────────────────────────────┼────────────────────────┼───────────────┤\n",
              "│ bidirectional_4 (\u001b[38;5;33mBidirectional\u001b[0m) │ (\u001b[38;5;45mNone\u001b[0m, \u001b[38;5;34m128\u001b[0m)            │       \u001b[38;5;34m186,880\u001b[0m │\n",
              "├─────────────────────────────────┼────────────────────────┼───────────────┤\n",
              "│ dropout_4 (\u001b[38;5;33mDropout\u001b[0m)             │ (\u001b[38;5;45mNone\u001b[0m, \u001b[38;5;34m128\u001b[0m)            │             \u001b[38;5;34m0\u001b[0m │\n",
              "├─────────────────────────────────┼────────────────────────┼───────────────┤\n",
              "│ dense_4 (\u001b[38;5;33mDense\u001b[0m)                 │ (\u001b[38;5;45mNone\u001b[0m, \u001b[38;5;34m4\u001b[0m)              │           \u001b[38;5;34m516\u001b[0m │\n",
              "└─────────────────────────────────┴────────────────────────┴───────────────┘\n"
            ],
            "text/html": [
              "<pre style=\"white-space:pre;overflow-x:auto;line-height:normal;font-family:Menlo,'DejaVu Sans Mono',consolas,'Courier New',monospace\">┏━━━━━━━━━━━━━━━━━━━━━━━━━━━━━━━━━┳━━━━━━━━━━━━━━━━━━━━━━━━┳━━━━━━━━━━━━━━━┓\n",
              "┃<span style=\"font-weight: bold\"> Layer (type)                    </span>┃<span style=\"font-weight: bold\"> Output Shape           </span>┃<span style=\"font-weight: bold\">       Param # </span>┃\n",
              "┡━━━━━━━━━━━━━━━━━━━━━━━━━━━━━━━━━╇━━━━━━━━━━━━━━━━━━━━━━━━╇━━━━━━━━━━━━━━━┩\n",
              "│ embedding_5 (<span style=\"color: #0087ff; text-decoration-color: #0087ff\">Embedding</span>)         │ (<span style=\"color: #00d7ff; text-decoration-color: #00d7ff\">None</span>, <span style=\"color: #00af00; text-decoration-color: #00af00\">600</span>, <span style=\"color: #00af00; text-decoration-color: #00af00\">300</span>)       │    <span style=\"color: #00af00; text-decoration-color: #00af00\">99,503,700</span> │\n",
              "├─────────────────────────────────┼────────────────────────┼───────────────┤\n",
              "│ bidirectional_4 (<span style=\"color: #0087ff; text-decoration-color: #0087ff\">Bidirectional</span>) │ (<span style=\"color: #00d7ff; text-decoration-color: #00d7ff\">None</span>, <span style=\"color: #00af00; text-decoration-color: #00af00\">128</span>)            │       <span style=\"color: #00af00; text-decoration-color: #00af00\">186,880</span> │\n",
              "├─────────────────────────────────┼────────────────────────┼───────────────┤\n",
              "│ dropout_4 (<span style=\"color: #0087ff; text-decoration-color: #0087ff\">Dropout</span>)             │ (<span style=\"color: #00d7ff; text-decoration-color: #00d7ff\">None</span>, <span style=\"color: #00af00; text-decoration-color: #00af00\">128</span>)            │             <span style=\"color: #00af00; text-decoration-color: #00af00\">0</span> │\n",
              "├─────────────────────────────────┼────────────────────────┼───────────────┤\n",
              "│ dense_4 (<span style=\"color: #0087ff; text-decoration-color: #0087ff\">Dense</span>)                 │ (<span style=\"color: #00d7ff; text-decoration-color: #00d7ff\">None</span>, <span style=\"color: #00af00; text-decoration-color: #00af00\">4</span>)              │           <span style=\"color: #00af00; text-decoration-color: #00af00\">516</span> │\n",
              "└─────────────────────────────────┴────────────────────────┴───────────────┘\n",
              "</pre>\n"
            ]
          },
          "metadata": {}
        },
        {
          "output_type": "display_data",
          "data": {
            "text/plain": [
              "\u001b[1m Total params: \u001b[0m\u001b[38;5;34m99,691,096\u001b[0m (380.29 MB)\n"
            ],
            "text/html": [
              "<pre style=\"white-space:pre;overflow-x:auto;line-height:normal;font-family:Menlo,'DejaVu Sans Mono',consolas,'Courier New',monospace\"><span style=\"font-weight: bold\"> Total params: </span><span style=\"color: #00af00; text-decoration-color: #00af00\">99,691,096</span> (380.29 MB)\n",
              "</pre>\n"
            ]
          },
          "metadata": {}
        },
        {
          "output_type": "display_data",
          "data": {
            "text/plain": [
              "\u001b[1m Trainable params: \u001b[0m\u001b[38;5;34m187,396\u001b[0m (732.02 KB)\n"
            ],
            "text/html": [
              "<pre style=\"white-space:pre;overflow-x:auto;line-height:normal;font-family:Menlo,'DejaVu Sans Mono',consolas,'Courier New',monospace\"><span style=\"font-weight: bold\"> Trainable params: </span><span style=\"color: #00af00; text-decoration-color: #00af00\">187,396</span> (732.02 KB)\n",
              "</pre>\n"
            ]
          },
          "metadata": {}
        },
        {
          "output_type": "display_data",
          "data": {
            "text/plain": [
              "\u001b[1m Non-trainable params: \u001b[0m\u001b[38;5;34m99,503,700\u001b[0m (379.58 MB)\n"
            ],
            "text/html": [
              "<pre style=\"white-space:pre;overflow-x:auto;line-height:normal;font-family:Menlo,'DejaVu Sans Mono',consolas,'Courier New',monospace\"><span style=\"font-weight: bold\"> Non-trainable params: </span><span style=\"color: #00af00; text-decoration-color: #00af00\">99,503,700</span> (379.58 MB)\n",
              "</pre>\n"
            ]
          },
          "metadata": {}
        },
        {
          "output_type": "stream",
          "name": "stdout",
          "text": [
            "Epoch 1/20\n",
            "\u001b[1m31/31\u001b[0m \u001b[32m━━━━━━━━━━━━━━━━━━━━\u001b[0m\u001b[37m\u001b[0m \u001b[1m4s\u001b[0m 69ms/step - accuracy: 0.4193 - loss: 1.3375 - val_accuracy: 0.5230 - val_loss: 1.1494\n",
            "Epoch 2/20\n",
            "\u001b[1m31/31\u001b[0m \u001b[32m━━━━━━━━━━━━━━━━━━━━\u001b[0m\u001b[37m\u001b[0m \u001b[1m2s\u001b[0m 49ms/step - accuracy: 0.5754 - loss: 1.0525 - val_accuracy: 0.5603 - val_loss: 1.0860\n",
            "Epoch 3/20\n",
            "\u001b[1m31/31\u001b[0m \u001b[32m━━━━━━━━━━━━━━━━━━━━\u001b[0m\u001b[37m\u001b[0m \u001b[1m2s\u001b[0m 49ms/step - accuracy: 0.6267 - loss: 0.9502 - val_accuracy: 0.5546 - val_loss: 1.0528\n",
            "Epoch 4/20\n",
            "\u001b[1m31/31\u001b[0m \u001b[32m━━━━━━━━━━━━━━━━━━━━\u001b[0m\u001b[37m\u001b[0m \u001b[1m2s\u001b[0m 49ms/step - accuracy: 0.6940 - loss: 0.8060 - val_accuracy: 0.5833 - val_loss: 1.0340\n",
            "Epoch 5/20\n",
            "\u001b[1m31/31\u001b[0m \u001b[32m━━━━━━━━━━━━━━━━━━━━\u001b[0m\u001b[37m\u001b[0m \u001b[1m2s\u001b[0m 49ms/step - accuracy: 0.7343 - loss: 0.7297 - val_accuracy: 0.5920 - val_loss: 1.0062\n",
            "Epoch 6/20\n",
            "\u001b[1m31/31\u001b[0m \u001b[32m━━━━━━━━━━━━━━━━━━━━\u001b[0m\u001b[37m\u001b[0m \u001b[1m1s\u001b[0m 42ms/step - accuracy: 0.7905 - loss: 0.6048 - val_accuracy: 0.6006 - val_loss: 1.0333\n",
            "Epoch 7/20\n",
            "\u001b[1m31/31\u001b[0m \u001b[32m━━━━━━━━━━━━━━━━━━━━\u001b[0m\u001b[37m\u001b[0m \u001b[1m1s\u001b[0m 42ms/step - accuracy: 0.8450 - loss: 0.5234 - val_accuracy: 0.6034 - val_loss: 1.0614\n",
            "Epoch 8/20\n",
            "\u001b[1m31/31\u001b[0m \u001b[32m━━━━━━━━━━━━━━━━━━━━\u001b[0m\u001b[37m\u001b[0m \u001b[1m1s\u001b[0m 42ms/step - accuracy: 0.8807 - loss: 0.4216 - val_accuracy: 0.6092 - val_loss: 1.0925\n",
            "\n",
            "=== Model B (pre-trained embeddings) ===\n",
            "\u001b[1m19/19\u001b[0m \u001b[32m━━━━━━━━━━━━━━━━━━━━\u001b[0m\u001b[37m\u001b[0m \u001b[1m1s\u001b[0m 26ms/step\n",
            "                     precision    recall  f1-score   support\n",
            "\n",
            "         bug_report       0.61      0.72      0.66       151\n",
            "improvement_request       0.79      0.25      0.38        88\n",
            "             others       0.43      0.15      0.22        81\n",
            "             rating       0.63      0.84      0.72       260\n",
            "\n",
            "           accuracy                           0.62       580\n",
            "          macro avg       0.61      0.49      0.49       580\n",
            "       weighted avg       0.62      0.62      0.58       580\n",
            "\n",
            "Confusion matrix:\n",
            " [[108   1   4  38]\n",
            " [ 20  22   6  40]\n",
            " [ 12   5  12  52]\n",
            " [ 36   0   6 218]]\n"
          ]
        }
      ]
    },
    {
      "cell_type": "markdown",
      "source": [
        "#With augmentation (pretrained embedding)"
      ],
      "metadata": {
        "id": "sX8CAKCIenik"
      }
    },
    {
      "cell_type": "code",
      "source": [
        "import numpy as np\n",
        "import gensim\n",
        "from tensorflow.keras.layers import Embedding, Bidirectional, LSTM, Dropout, Dense\n",
        "from tensorflow.keras.models import Sequential\n",
        "\n",
        "le = LabelEncoder()\n",
        "\n",
        "df_train = pd.read_csv('train_augmented.csv')\n",
        "X_train = df_train['review'].astype(str).tolist()\n",
        "y_train = le.fit_transform(df_train['Label'])\n",
        "\n",
        "df_val = pd.read_csv('val.csv')\n",
        "X_val = df_val['review'].astype(str).tolist()\n",
        "y_val = le.transform(df_val['Label'])\n",
        "\n",
        "df_test = pd.read_csv('test.csv')\n",
        "X_test = df_test['review'].astype(str).tolist()\n",
        "y_test = le.transform(df_test['Label'])\n",
        "\n",
        "# Cleaning Text\n",
        "import re\n",
        "def clean_str(text):\n",
        "    search = [\"أ\",\"إ\",\"آ\",\"ة\",\"_\",\"-\",\"/\",\".\",\"،\",\" و \",\" يا \",\n",
        "              '\"',\"ـ\",\"'\",\"ى\",\"\\\\\",'\\n','\\t','&quot;','?','؟','!']\n",
        "    replace = [\"ا\",\"ا\",\"ا\",\"ه\",\" \",\" \",\"\",\"\",\"\",\" و\",\" يا\",\n",
        "               \"\",\"\",\"\",\"\",\"ي\",\"\",' ',' ',' ',' ? ',' ؟ ',' ! ']\n",
        "    # remove tashkeel\n",
        "    text = re.sub(r'[\\u0617-\\u061A\\u064B-\\u0652]', \"\", text)\n",
        "    # collapse repeated chars\n",
        "    text = re.sub(r'(.)\\1+', r\"\\1\\1\", text)\n",
        "    # simple normalizations\n",
        "    text = text.replace('وو','و').replace('يي','ي').replace('اا','ا')\n",
        "    for s, r in zip(search, replace):\n",
        "        text = text.replace(s, r)\n",
        "    return text.strip()\n",
        "\n",
        "# Apply cleaning before tokenization\n",
        "X_train = [ clean_str(t) for t in X_train ]\n",
        "X_val   = [ clean_str(t) for t in X_val ]\n",
        "X_test  = [ clean_str(t) for t in X_test ]\n",
        "\n",
        "# Tokanize\n",
        "MAX_VOCAB = 20000\n",
        "MAX_LEN   = 600\n",
        "\n",
        "tokenizer = Tokenizer(num_words=MAX_VOCAB, oov_token=\"<OOV>\")\n",
        "tokenizer.fit_on_texts(X_train)\n",
        "train_seq = pad_sequences(tokenizer.texts_to_sequences(X_train),maxlen=MAX_LEN, padding='post')\n",
        "val_seq   = pad_sequences(tokenizer.texts_to_sequences(X_val),maxlen=MAX_LEN, padding='post')\n",
        "test_seq  = pad_sequences(tokenizer.texts_to_sequences(X_test),maxlen=MAX_LEN, padding='post')\n",
        "\n",
        "EMBEDDING_PATH = 'tweets_cbow_300.wv.vectors.npy'\n",
        "embedding_matrix = np.load(EMBEDDING_PATH)\n",
        "print(f'\\nLoaded embedding matrix: {embedding_matrix.shape}')\n",
        "\n",
        "vocab_size, embedding_dim = embedding_matrix.shape\n",
        "# Define & compile Model B using AraVec\n",
        "model_pretrained = Sequential([\n",
        "    Embedding(\n",
        "        input_dim=vocab_size,\n",
        "        output_dim=embedding_dim,\n",
        "        weights=[embedding_matrix],\n",
        "        input_length=MAX_LEN,\n",
        "        trainable=False\n",
        "    ),\n",
        "    Bidirectional(LSTM(64)),\n",
        "    Dropout(0.5),\n",
        "    Dense(len(le.classes_), activation='softmax')\n",
        "])\n",
        "model_pretrained.compile(\n",
        "    loss='sparse_categorical_crossentropy',\n",
        "    optimizer='adam',\n",
        "    metrics=['accuracy']\n",
        ")\n",
        "callbacks = [\n",
        "    EarlyStopping(\n",
        "        #monitor=\"val_loss\",\n",
        "        monitor='val_accuracy',  # ← switch from val_loss to val_accuracy\n",
        "        mode='max',              # “higher is better” for accuracy\n",
        "        patience=3,              # stop after 3 epochs w/o improvement\n",
        "        restore_best_weights=True\n",
        "    )\n",
        "]\n",
        "\n",
        "model_pretrained.build(input_shape=(None, MAX_LEN))\n",
        "model_pretrained.summary()\n",
        "\n",
        "# Train Model B\n",
        "history_b = model_pretrained.fit(\n",
        "    train_seq, y_train,\n",
        "    validation_data=(val_seq, y_val),\n",
        "    epochs=20,\n",
        "    batch_size=64,\n",
        "    callbacks=callbacks\n",
        ")\n",
        "\n",
        "print(\"\\n=== Model B (pre-trained embeddings) ===\")\n",
        "eval_and_report(model_pretrained, test_seq, y_test, le)"
      ],
      "metadata": {
        "colab": {
          "base_uri": "https://localhost:8080/",
          "height": 1000
        },
        "id": "wUPULwA0enRw",
        "outputId": "5fd57fbc-33ee-41e5-e04c-ef983210e526"
      },
      "execution_count": 12,
      "outputs": [
        {
          "output_type": "stream",
          "name": "stdout",
          "text": [
            "\n",
            "Loaded embedding matrix: (331679, 300)\n"
          ]
        },
        {
          "output_type": "stream",
          "name": "stderr",
          "text": [
            "/usr/local/lib/python3.11/dist-packages/keras/src/layers/core/embedding.py:90: UserWarning: Argument `input_length` is deprecated. Just remove it.\n",
            "  warnings.warn(\n"
          ]
        },
        {
          "output_type": "display_data",
          "data": {
            "text/plain": [
              "\u001b[1mModel: \"sequential_7\"\u001b[0m\n"
            ],
            "text/html": [
              "<pre style=\"white-space:pre;overflow-x:auto;line-height:normal;font-family:Menlo,'DejaVu Sans Mono',consolas,'Courier New',monospace\"><span style=\"font-weight: bold\">Model: \"sequential_7\"</span>\n",
              "</pre>\n"
            ]
          },
          "metadata": {}
        },
        {
          "output_type": "display_data",
          "data": {
            "text/plain": [
              "┏━━━━━━━━━━━━━━━━━━━━━━━━━━━━━━━━━┳━━━━━━━━━━━━━━━━━━━━━━━━┳━━━━━━━━━━━━━━━┓\n",
              "┃\u001b[1m \u001b[0m\u001b[1mLayer (type)                   \u001b[0m\u001b[1m \u001b[0m┃\u001b[1m \u001b[0m\u001b[1mOutput Shape          \u001b[0m\u001b[1m \u001b[0m┃\u001b[1m \u001b[0m\u001b[1m      Param #\u001b[0m\u001b[1m \u001b[0m┃\n",
              "┡━━━━━━━━━━━━━━━━━━━━━━━━━━━━━━━━━╇━━━━━━━━━━━━━━━━━━━━━━━━╇━━━━━━━━━━━━━━━┩\n",
              "│ embedding_8 (\u001b[38;5;33mEmbedding\u001b[0m)         │ (\u001b[38;5;45mNone\u001b[0m, \u001b[38;5;34m600\u001b[0m, \u001b[38;5;34m300\u001b[0m)       │    \u001b[38;5;34m99,503,700\u001b[0m │\n",
              "├─────────────────────────────────┼────────────────────────┼───────────────┤\n",
              "│ bidirectional_7 (\u001b[38;5;33mBidirectional\u001b[0m) │ (\u001b[38;5;45mNone\u001b[0m, \u001b[38;5;34m128\u001b[0m)            │       \u001b[38;5;34m186,880\u001b[0m │\n",
              "├─────────────────────────────────┼────────────────────────┼───────────────┤\n",
              "│ dropout_7 (\u001b[38;5;33mDropout\u001b[0m)             │ (\u001b[38;5;45mNone\u001b[0m, \u001b[38;5;34m128\u001b[0m)            │             \u001b[38;5;34m0\u001b[0m │\n",
              "├─────────────────────────────────┼────────────────────────┼───────────────┤\n",
              "│ dense_7 (\u001b[38;5;33mDense\u001b[0m)                 │ (\u001b[38;5;45mNone\u001b[0m, \u001b[38;5;34m4\u001b[0m)              │           \u001b[38;5;34m516\u001b[0m │\n",
              "└─────────────────────────────────┴────────────────────────┴───────────────┘\n"
            ],
            "text/html": [
              "<pre style=\"white-space:pre;overflow-x:auto;line-height:normal;font-family:Menlo,'DejaVu Sans Mono',consolas,'Courier New',monospace\">┏━━━━━━━━━━━━━━━━━━━━━━━━━━━━━━━━━┳━━━━━━━━━━━━━━━━━━━━━━━━┳━━━━━━━━━━━━━━━┓\n",
              "┃<span style=\"font-weight: bold\"> Layer (type)                    </span>┃<span style=\"font-weight: bold\"> Output Shape           </span>┃<span style=\"font-weight: bold\">       Param # </span>┃\n",
              "┡━━━━━━━━━━━━━━━━━━━━━━━━━━━━━━━━━╇━━━━━━━━━━━━━━━━━━━━━━━━╇━━━━━━━━━━━━━━━┩\n",
              "│ embedding_8 (<span style=\"color: #0087ff; text-decoration-color: #0087ff\">Embedding</span>)         │ (<span style=\"color: #00d7ff; text-decoration-color: #00d7ff\">None</span>, <span style=\"color: #00af00; text-decoration-color: #00af00\">600</span>, <span style=\"color: #00af00; text-decoration-color: #00af00\">300</span>)       │    <span style=\"color: #00af00; text-decoration-color: #00af00\">99,503,700</span> │\n",
              "├─────────────────────────────────┼────────────────────────┼───────────────┤\n",
              "│ bidirectional_7 (<span style=\"color: #0087ff; text-decoration-color: #0087ff\">Bidirectional</span>) │ (<span style=\"color: #00d7ff; text-decoration-color: #00d7ff\">None</span>, <span style=\"color: #00af00; text-decoration-color: #00af00\">128</span>)            │       <span style=\"color: #00af00; text-decoration-color: #00af00\">186,880</span> │\n",
              "├─────────────────────────────────┼────────────────────────┼───────────────┤\n",
              "│ dropout_7 (<span style=\"color: #0087ff; text-decoration-color: #0087ff\">Dropout</span>)             │ (<span style=\"color: #00d7ff; text-decoration-color: #00d7ff\">None</span>, <span style=\"color: #00af00; text-decoration-color: #00af00\">128</span>)            │             <span style=\"color: #00af00; text-decoration-color: #00af00\">0</span> │\n",
              "├─────────────────────────────────┼────────────────────────┼───────────────┤\n",
              "│ dense_7 (<span style=\"color: #0087ff; text-decoration-color: #0087ff\">Dense</span>)                 │ (<span style=\"color: #00d7ff; text-decoration-color: #00d7ff\">None</span>, <span style=\"color: #00af00; text-decoration-color: #00af00\">4</span>)              │           <span style=\"color: #00af00; text-decoration-color: #00af00\">516</span> │\n",
              "└─────────────────────────────────┴────────────────────────┴───────────────┘\n",
              "</pre>\n"
            ]
          },
          "metadata": {}
        },
        {
          "output_type": "display_data",
          "data": {
            "text/plain": [
              "\u001b[1m Total params: \u001b[0m\u001b[38;5;34m99,691,096\u001b[0m (380.29 MB)\n"
            ],
            "text/html": [
              "<pre style=\"white-space:pre;overflow-x:auto;line-height:normal;font-family:Menlo,'DejaVu Sans Mono',consolas,'Courier New',monospace\"><span style=\"font-weight: bold\"> Total params: </span><span style=\"color: #00af00; text-decoration-color: #00af00\">99,691,096</span> (380.29 MB)\n",
              "</pre>\n"
            ]
          },
          "metadata": {}
        },
        {
          "output_type": "display_data",
          "data": {
            "text/plain": [
              "\u001b[1m Trainable params: \u001b[0m\u001b[38;5;34m187,396\u001b[0m (732.02 KB)\n"
            ],
            "text/html": [
              "<pre style=\"white-space:pre;overflow-x:auto;line-height:normal;font-family:Menlo,'DejaVu Sans Mono',consolas,'Courier New',monospace\"><span style=\"font-weight: bold\"> Trainable params: </span><span style=\"color: #00af00; text-decoration-color: #00af00\">187,396</span> (732.02 KB)\n",
              "</pre>\n"
            ]
          },
          "metadata": {}
        },
        {
          "output_type": "display_data",
          "data": {
            "text/plain": [
              "\u001b[1m Non-trainable params: \u001b[0m\u001b[38;5;34m99,503,700\u001b[0m (379.58 MB)\n"
            ],
            "text/html": [
              "<pre style=\"white-space:pre;overflow-x:auto;line-height:normal;font-family:Menlo,'DejaVu Sans Mono',consolas,'Courier New',monospace\"><span style=\"font-weight: bold\"> Non-trainable params: </span><span style=\"color: #00af00; text-decoration-color: #00af00\">99,503,700</span> (379.58 MB)\n",
              "</pre>\n"
            ]
          },
          "metadata": {}
        },
        {
          "output_type": "stream",
          "name": "stdout",
          "text": [
            "Epoch 1/20\n",
            "\u001b[1m75/75\u001b[0m \u001b[32m━━━━━━━━━━━━━━━━━━━━\u001b[0m\u001b[37m\u001b[0m \u001b[1m5s\u001b[0m 49ms/step - accuracy: 0.6312 - loss: 0.9121 - val_accuracy: 0.5575 - val_loss: 1.1054\n",
            "Epoch 2/20\n",
            "\u001b[1m75/75\u001b[0m \u001b[32m━━━━━━━━━━━━━━━━━━━━\u001b[0m\u001b[37m\u001b[0m \u001b[1m3s\u001b[0m 42ms/step - accuracy: 0.8298 - loss: 0.4426 - val_accuracy: 0.5632 - val_loss: 1.0652\n",
            "Epoch 3/20\n",
            "\u001b[1m75/75\u001b[0m \u001b[32m━━━━━━━━━━━━━━━━━━━━\u001b[0m\u001b[37m\u001b[0m \u001b[1m3s\u001b[0m 42ms/step - accuracy: 0.8713 - loss: 0.3646 - val_accuracy: 0.5891 - val_loss: 1.0478\n",
            "Epoch 4/20\n",
            "\u001b[1m75/75\u001b[0m \u001b[32m━━━━━━━━━━━━━━━━━━━━\u001b[0m\u001b[37m\u001b[0m \u001b[1m3s\u001b[0m 42ms/step - accuracy: 0.9019 - loss: 0.2895 - val_accuracy: 0.6006 - val_loss: 1.0354\n",
            "Epoch 5/20\n",
            "\u001b[1m75/75\u001b[0m \u001b[32m━━━━━━━━━━━━━━━━━━━━\u001b[0m\u001b[37m\u001b[0m \u001b[1m3s\u001b[0m 42ms/step - accuracy: 0.9262 - loss: 0.2326 - val_accuracy: 0.6092 - val_loss: 1.0024\n",
            "Epoch 6/20\n",
            "\u001b[1m75/75\u001b[0m \u001b[32m━━━━━━━━━━━━━━━━━━━━\u001b[0m\u001b[37m\u001b[0m \u001b[1m3s\u001b[0m 39ms/step - accuracy: 0.9477 - loss: 0.1800 - val_accuracy: 0.5920 - val_loss: 1.0303\n",
            "Epoch 7/20\n",
            "\u001b[1m75/75\u001b[0m \u001b[32m━━━━━━━━━━━━━━━━━━━━\u001b[0m\u001b[37m\u001b[0m \u001b[1m3s\u001b[0m 42ms/step - accuracy: 0.9557 - loss: 0.1486 - val_accuracy: 0.6178 - val_loss: 1.0471\n",
            "Epoch 8/20\n",
            "\u001b[1m75/75\u001b[0m \u001b[32m━━━━━━━━━━━━━━━━━━━━\u001b[0m\u001b[37m\u001b[0m \u001b[1m3s\u001b[0m 42ms/step - accuracy: 0.9721 - loss: 0.1104 - val_accuracy: 0.6293 - val_loss: 1.1249\n",
            "Epoch 9/20\n",
            "\u001b[1m75/75\u001b[0m \u001b[32m━━━━━━━━━━━━━━━━━━━━\u001b[0m\u001b[37m\u001b[0m \u001b[1m3s\u001b[0m 42ms/step - accuracy: 0.9815 - loss: 0.0815 - val_accuracy: 0.6408 - val_loss: 1.1361\n",
            "Epoch 10/20\n",
            "\u001b[1m75/75\u001b[0m \u001b[32m━━━━━━━━━━━━━━━━━━━━\u001b[0m\u001b[37m\u001b[0m \u001b[1m3s\u001b[0m 39ms/step - accuracy: 0.9751 - loss: 0.0854 - val_accuracy: 0.6178 - val_loss: 1.1946\n",
            "Epoch 11/20\n",
            "\u001b[1m75/75\u001b[0m \u001b[32m━━━━━━━━━━━━━━━━━━━━\u001b[0m\u001b[37m\u001b[0m \u001b[1m3s\u001b[0m 39ms/step - accuracy: 0.9873 - loss: 0.0606 - val_accuracy: 0.6236 - val_loss: 1.3595\n",
            "Epoch 12/20\n",
            "\u001b[1m75/75\u001b[0m \u001b[32m━━━━━━━━━━━━━━━━━━━━\u001b[0m\u001b[37m\u001b[0m \u001b[1m3s\u001b[0m 39ms/step - accuracy: 0.9892 - loss: 0.0439 - val_accuracy: 0.6063 - val_loss: 1.3252\n",
            "\n",
            "=== Model B (pre-trained embeddings) ===\n",
            "\u001b[1m19/19\u001b[0m \u001b[32m━━━━━━━━━━━━━━━━━━━━\u001b[0m\u001b[37m\u001b[0m \u001b[1m1s\u001b[0m 26ms/step\n",
            "                     precision    recall  f1-score   support\n",
            "\n",
            "         bug_report       0.59      0.72      0.65       151\n",
            "improvement_request       0.58      0.35      0.44        88\n",
            "             others       0.54      0.35      0.42        81\n",
            "             rating       0.71      0.78      0.74       260\n",
            "\n",
            "           accuracy                           0.64       580\n",
            "          macro avg       0.60      0.55      0.56       580\n",
            "       weighted avg       0.63      0.64      0.63       580\n",
            "\n",
            "Confusion matrix:\n",
            " [[109   9   4  29]\n",
            " [ 19  31  10  28]\n",
            " [ 20   5  28  28]\n",
            " [ 38   8  10 204]]\n"
          ]
        }
      ]
    },
    {
      "cell_type": "markdown",
      "source": [
        "Classification analysis and possible improvements."
      ],
      "metadata": {
        "id": "4_UkgLd9CvhY"
      }
    },
    {
      "cell_type": "markdown",
      "source": [
        "We can see that created Embedding preformed sligtly better than AraVec which may be the result of not training AraVec with more data as it is larger than the scratch embedding\n",
        "\n",
        "For classification, the RNN model performance is not that bad as it scores 0,66 f1-score for best of the four and the role of data augmentation did pay off as it boosted the model performce little bit and made it not leave all models.\n",
        "\n",
        "We tried more complex model (commented) but it did not improve the overall performance and takes more time to train so we sticked with simpler model\n"
      ],
      "metadata": {
        "id": "CIBU96-wHzoO"
      }
    },
    {
      "cell_type": "code",
      "source": [],
      "metadata": {
        "id": "hEGjzNfyCwpP"
      },
      "execution_count": 68,
      "outputs": []
    },
    {
      "cell_type": "markdown",
      "source": [
        "#Part-C [15 points]: Multilabel App Review Classification: from scratch"
      ],
      "metadata": {
        "id": "lIGeS34uCyF7"
      }
    },
    {
      "cell_type": "code",
      "source": [
        "import pandas as pd\n",
        "from sklearn.model_selection import train_test_split\n",
        "from IPython.display import FileLink, display\n",
        "\n",
        "# Load data\n",
        "df = pd.read_csv('/content/App Reviews-Multilabel.csv')\n",
        "\n",
        "# splits: 80% train, 20% test\n",
        "#label_col = [\"bug_report\",\t\"improvement_request\",\t\"rating\",\t\"others\"]\n",
        "train_val_df, test_df = train_test_split(\n",
        "    df,\n",
        "    test_size=0.2,\n",
        "    random_state=777\n",
        ")\n",
        "# then split into 85/15\n",
        "train_df, val_df = train_test_split(\n",
        "    train_val_df,\n",
        "    test_size=0.15,\n",
        "    random_state=777\n",
        ")\n",
        "\n",
        "# 3) Save each split as CSV\n",
        "train_df.to_csv('train_multi.csv', index=False)\n",
        "val_df.to_csv('val_multi.csv', index=False)\n",
        "test_df.to_csv('test_multi.csv', index=False)\n",
        "\n",
        "# 4) Display download links in notebook\n",
        "print(\"Download your splits:\")\n",
        "display(FileLink('train_multi.csv'))\n",
        "display(FileLink('val_multi.csv'))\n",
        "display(FileLink('test_multi.csv'))"
      ],
      "metadata": {
        "colab": {
          "base_uri": "https://localhost:8080/",
          "height": 86
        },
        "id": "MvEmb5FWlEn9",
        "outputId": "b690eb4f-7009-4b30-f7c6-fcae390da25d"
      },
      "execution_count": 13,
      "outputs": [
        {
          "output_type": "stream",
          "name": "stdout",
          "text": [
            "Download your splits:\n"
          ]
        },
        {
          "output_type": "display_data",
          "data": {
            "text/plain": [
              "/content/train_multi.csv"
            ],
            "text/html": [
              "<a href='train_multi.csv' target='_blank'>train_multi.csv</a><br>"
            ]
          },
          "metadata": {}
        },
        {
          "output_type": "display_data",
          "data": {
            "text/plain": [
              "/content/val_multi.csv"
            ],
            "text/html": [
              "<a href='val_multi.csv' target='_blank'>val_multi.csv</a><br>"
            ]
          },
          "metadata": {}
        },
        {
          "output_type": "display_data",
          "data": {
            "text/plain": [
              "/content/test_multi.csv"
            ],
            "text/html": [
              "<a href='test_multi.csv' target='_blank'>test_multi.csv</a><br>"
            ]
          },
          "metadata": {}
        }
      ]
    },
    {
      "cell_type": "markdown",
      "source": [
        "Dataset analysis and report on important statistics."
      ],
      "metadata": {
        "id": "JQma3sz5C2N7"
      }
    },
    {
      "cell_type": "code",
      "source": [
        "import pandas as pd\n",
        "import matplotlib.pyplot as plt\n",
        "# read csv into data frame\n",
        "df = pd.read_csv('/content/App Reviews-Multilabel.csv')\n",
        "display(df.head())\n",
        "# Basic dataset info\n",
        "print(f\"Shape: {df.shape[0]} rows, {df.shape[1]} columns\")\n",
        "print(\"\\nData types:\")\n",
        "print(df.dtypes)\n",
        "print(\"\\nMissing values per column:\")\n",
        "print(df.isnull().sum())\n",
        "\n",
        "# Review‐length feature\n",
        "df['review_length'] = df['review'].str.len()\n",
        "print(\"\\nReview length summary:\")\n",
        "print(df['review_length'].describe())\n",
        "\n",
        "# Provide numeric and categorical summaries.\n",
        "print(df.describe())\n",
        "\n",
        "# view class balance\n",
        "print(\"\\nClass distribution:\")\n",
        "bug_report_counts = df['bug_report'].sum()\n",
        "improvement_request_counts = df['improvement_request'].sum()\n",
        "rating_counts = df['rating'].sum()\n",
        "others_counts = df['others'].sum()\n",
        "print(bug_report_counts,\"bug_report\")\n",
        "print(improvement_request_counts,\"improvement_request\")\n",
        "print(rating_counts,\"rating\")\n",
        "print(others_counts,\"others\")\n",
        "\n",
        "# viewing class balance as precentage\n",
        "total_sum = bug_report_counts + improvement_request_counts + rating_counts + others_counts\n",
        "print(\"As precentages\")\n",
        "print((bug_report_counts/total_sum)*100,\"%\",\"bug_report\")\n",
        "print((improvement_request_counts/total_sum)*100,\"%\",\"improvement_request\")\n",
        "print((rating_counts/total_sum)*100,\"%\",\"rating\")\n",
        "print((others_counts/total_sum)*100,\"%\",\"others\")\n",
        "#print(df['Label'].value_counts(normalize=True))\n",
        "\n",
        "# Plot review length histogram\n",
        "plt.figure()\n",
        "df['review_length'].hist(bins=100)\n",
        "plt.title('Histogram of Review Length')\n",
        "plt.xlabel('Characters')\n",
        "plt.ylabel('Frequency')\n",
        "plt.show()"
      ],
      "metadata": {
        "colab": {
          "base_uri": "https://localhost:8080/",
          "height": 1000
        },
        "id": "aA6B5b0YCyg0",
        "outputId": "3879b90d-5801-420f-ea54-8e6efce8b911"
      },
      "execution_count": 14,
      "outputs": [
        {
          "output_type": "display_data",
          "data": {
            "text/plain": [
              "                                              review  bug_report  \\\n",
              "0                                 يبيله تصليحات كثير           1   \n",
              "1                  ماتحملت ابدددددا ونا دفعت فلوس 🤔😕           0   \n",
              "2  اتمنى منكم عمل خيار لتفضيل المسلسل بالكامل عوض...           0   \n",
              "3      ممتاز وبسيط وتشغيله لا يؤثر على سرعة الانترنت           0   \n",
              "4                                تبين م لي ي تم ل يب           0   \n",
              "\n",
              "   improvement_request  rating  others  \n",
              "0                    1       1       0  \n",
              "1                    1       1       1  \n",
              "2                    1       1       0  \n",
              "3                    0       1       0  \n",
              "4                    0       1       1  "
            ],
            "text/html": [
              "\n",
              "  <div id=\"df-5a86b86d-0c53-4333-9571-f339f1313be0\" class=\"colab-df-container\">\n",
              "    <div>\n",
              "<style scoped>\n",
              "    .dataframe tbody tr th:only-of-type {\n",
              "        vertical-align: middle;\n",
              "    }\n",
              "\n",
              "    .dataframe tbody tr th {\n",
              "        vertical-align: top;\n",
              "    }\n",
              "\n",
              "    .dataframe thead th {\n",
              "        text-align: right;\n",
              "    }\n",
              "</style>\n",
              "<table border=\"1\" class=\"dataframe\">\n",
              "  <thead>\n",
              "    <tr style=\"text-align: right;\">\n",
              "      <th></th>\n",
              "      <th>review</th>\n",
              "      <th>bug_report</th>\n",
              "      <th>improvement_request</th>\n",
              "      <th>rating</th>\n",
              "      <th>others</th>\n",
              "    </tr>\n",
              "  </thead>\n",
              "  <tbody>\n",
              "    <tr>\n",
              "      <th>0</th>\n",
              "      <td>يبيله تصليحات كثير</td>\n",
              "      <td>1</td>\n",
              "      <td>1</td>\n",
              "      <td>1</td>\n",
              "      <td>0</td>\n",
              "    </tr>\n",
              "    <tr>\n",
              "      <th>1</th>\n",
              "      <td>ماتحملت ابدددددا ونا دفعت فلوس 🤔😕</td>\n",
              "      <td>0</td>\n",
              "      <td>1</td>\n",
              "      <td>1</td>\n",
              "      <td>1</td>\n",
              "    </tr>\n",
              "    <tr>\n",
              "      <th>2</th>\n",
              "      <td>اتمنى منكم عمل خيار لتفضيل المسلسل بالكامل عوض...</td>\n",
              "      <td>0</td>\n",
              "      <td>1</td>\n",
              "      <td>1</td>\n",
              "      <td>0</td>\n",
              "    </tr>\n",
              "    <tr>\n",
              "      <th>3</th>\n",
              "      <td>ممتاز وبسيط وتشغيله لا يؤثر على سرعة الانترنت</td>\n",
              "      <td>0</td>\n",
              "      <td>0</td>\n",
              "      <td>1</td>\n",
              "      <td>0</td>\n",
              "    </tr>\n",
              "    <tr>\n",
              "      <th>4</th>\n",
              "      <td>تبين م لي ي تم ل يب</td>\n",
              "      <td>0</td>\n",
              "      <td>0</td>\n",
              "      <td>1</td>\n",
              "      <td>1</td>\n",
              "    </tr>\n",
              "  </tbody>\n",
              "</table>\n",
              "</div>\n",
              "    <div class=\"colab-df-buttons\">\n",
              "\n",
              "  <div class=\"colab-df-container\">\n",
              "    <button class=\"colab-df-convert\" onclick=\"convertToInteractive('df-5a86b86d-0c53-4333-9571-f339f1313be0')\"\n",
              "            title=\"Convert this dataframe to an interactive table.\"\n",
              "            style=\"display:none;\">\n",
              "\n",
              "  <svg xmlns=\"http://www.w3.org/2000/svg\" height=\"24px\" viewBox=\"0 -960 960 960\">\n",
              "    <path d=\"M120-120v-720h720v720H120Zm60-500h600v-160H180v160Zm220 220h160v-160H400v160Zm0 220h160v-160H400v160ZM180-400h160v-160H180v160Zm440 0h160v-160H620v160ZM180-180h160v-160H180v160Zm440 0h160v-160H620v160Z\"/>\n",
              "  </svg>\n",
              "    </button>\n",
              "\n",
              "  <style>\n",
              "    .colab-df-container {\n",
              "      display:flex;\n",
              "      gap: 12px;\n",
              "    }\n",
              "\n",
              "    .colab-df-convert {\n",
              "      background-color: #E8F0FE;\n",
              "      border: none;\n",
              "      border-radius: 50%;\n",
              "      cursor: pointer;\n",
              "      display: none;\n",
              "      fill: #1967D2;\n",
              "      height: 32px;\n",
              "      padding: 0 0 0 0;\n",
              "      width: 32px;\n",
              "    }\n",
              "\n",
              "    .colab-df-convert:hover {\n",
              "      background-color: #E2EBFA;\n",
              "      box-shadow: 0px 1px 2px rgba(60, 64, 67, 0.3), 0px 1px 3px 1px rgba(60, 64, 67, 0.15);\n",
              "      fill: #174EA6;\n",
              "    }\n",
              "\n",
              "    .colab-df-buttons div {\n",
              "      margin-bottom: 4px;\n",
              "    }\n",
              "\n",
              "    [theme=dark] .colab-df-convert {\n",
              "      background-color: #3B4455;\n",
              "      fill: #D2E3FC;\n",
              "    }\n",
              "\n",
              "    [theme=dark] .colab-df-convert:hover {\n",
              "      background-color: #434B5C;\n",
              "      box-shadow: 0px 1px 3px 1px rgba(0, 0, 0, 0.15);\n",
              "      filter: drop-shadow(0px 1px 2px rgba(0, 0, 0, 0.3));\n",
              "      fill: #FFFFFF;\n",
              "    }\n",
              "  </style>\n",
              "\n",
              "    <script>\n",
              "      const buttonEl =\n",
              "        document.querySelector('#df-5a86b86d-0c53-4333-9571-f339f1313be0 button.colab-df-convert');\n",
              "      buttonEl.style.display =\n",
              "        google.colab.kernel.accessAllowed ? 'block' : 'none';\n",
              "\n",
              "      async function convertToInteractive(key) {\n",
              "        const element = document.querySelector('#df-5a86b86d-0c53-4333-9571-f339f1313be0');\n",
              "        const dataTable =\n",
              "          await google.colab.kernel.invokeFunction('convertToInteractive',\n",
              "                                                    [key], {});\n",
              "        if (!dataTable) return;\n",
              "\n",
              "        const docLinkHtml = 'Like what you see? Visit the ' +\n",
              "          '<a target=\"_blank\" href=https://colab.research.google.com/notebooks/data_table.ipynb>data table notebook</a>'\n",
              "          + ' to learn more about interactive tables.';\n",
              "        element.innerHTML = '';\n",
              "        dataTable['output_type'] = 'display_data';\n",
              "        await google.colab.output.renderOutput(dataTable, element);\n",
              "        const docLink = document.createElement('div');\n",
              "        docLink.innerHTML = docLinkHtml;\n",
              "        element.appendChild(docLink);\n",
              "      }\n",
              "    </script>\n",
              "  </div>\n",
              "\n",
              "\n",
              "    <div id=\"df-8445d466-01ed-4099-a9f9-57b492268aa0\">\n",
              "      <button class=\"colab-df-quickchart\" onclick=\"quickchart('df-8445d466-01ed-4099-a9f9-57b492268aa0')\"\n",
              "                title=\"Suggest charts\"\n",
              "                style=\"display:none;\">\n",
              "\n",
              "<svg xmlns=\"http://www.w3.org/2000/svg\" height=\"24px\"viewBox=\"0 0 24 24\"\n",
              "     width=\"24px\">\n",
              "    <g>\n",
              "        <path d=\"M19 3H5c-1.1 0-2 .9-2 2v14c0 1.1.9 2 2 2h14c1.1 0 2-.9 2-2V5c0-1.1-.9-2-2-2zM9 17H7v-7h2v7zm4 0h-2V7h2v10zm4 0h-2v-4h2v4z\"/>\n",
              "    </g>\n",
              "</svg>\n",
              "      </button>\n",
              "\n",
              "<style>\n",
              "  .colab-df-quickchart {\n",
              "      --bg-color: #E8F0FE;\n",
              "      --fill-color: #1967D2;\n",
              "      --hover-bg-color: #E2EBFA;\n",
              "      --hover-fill-color: #174EA6;\n",
              "      --disabled-fill-color: #AAA;\n",
              "      --disabled-bg-color: #DDD;\n",
              "  }\n",
              "\n",
              "  [theme=dark] .colab-df-quickchart {\n",
              "      --bg-color: #3B4455;\n",
              "      --fill-color: #D2E3FC;\n",
              "      --hover-bg-color: #434B5C;\n",
              "      --hover-fill-color: #FFFFFF;\n",
              "      --disabled-bg-color: #3B4455;\n",
              "      --disabled-fill-color: #666;\n",
              "  }\n",
              "\n",
              "  .colab-df-quickchart {\n",
              "    background-color: var(--bg-color);\n",
              "    border: none;\n",
              "    border-radius: 50%;\n",
              "    cursor: pointer;\n",
              "    display: none;\n",
              "    fill: var(--fill-color);\n",
              "    height: 32px;\n",
              "    padding: 0;\n",
              "    width: 32px;\n",
              "  }\n",
              "\n",
              "  .colab-df-quickchart:hover {\n",
              "    background-color: var(--hover-bg-color);\n",
              "    box-shadow: 0 1px 2px rgba(60, 64, 67, 0.3), 0 1px 3px 1px rgba(60, 64, 67, 0.15);\n",
              "    fill: var(--button-hover-fill-color);\n",
              "  }\n",
              "\n",
              "  .colab-df-quickchart-complete:disabled,\n",
              "  .colab-df-quickchart-complete:disabled:hover {\n",
              "    background-color: var(--disabled-bg-color);\n",
              "    fill: var(--disabled-fill-color);\n",
              "    box-shadow: none;\n",
              "  }\n",
              "\n",
              "  .colab-df-spinner {\n",
              "    border: 2px solid var(--fill-color);\n",
              "    border-color: transparent;\n",
              "    border-bottom-color: var(--fill-color);\n",
              "    animation:\n",
              "      spin 1s steps(1) infinite;\n",
              "  }\n",
              "\n",
              "  @keyframes spin {\n",
              "    0% {\n",
              "      border-color: transparent;\n",
              "      border-bottom-color: var(--fill-color);\n",
              "      border-left-color: var(--fill-color);\n",
              "    }\n",
              "    20% {\n",
              "      border-color: transparent;\n",
              "      border-left-color: var(--fill-color);\n",
              "      border-top-color: var(--fill-color);\n",
              "    }\n",
              "    30% {\n",
              "      border-color: transparent;\n",
              "      border-left-color: var(--fill-color);\n",
              "      border-top-color: var(--fill-color);\n",
              "      border-right-color: var(--fill-color);\n",
              "    }\n",
              "    40% {\n",
              "      border-color: transparent;\n",
              "      border-right-color: var(--fill-color);\n",
              "      border-top-color: var(--fill-color);\n",
              "    }\n",
              "    60% {\n",
              "      border-color: transparent;\n",
              "      border-right-color: var(--fill-color);\n",
              "    }\n",
              "    80% {\n",
              "      border-color: transparent;\n",
              "      border-right-color: var(--fill-color);\n",
              "      border-bottom-color: var(--fill-color);\n",
              "    }\n",
              "    90% {\n",
              "      border-color: transparent;\n",
              "      border-bottom-color: var(--fill-color);\n",
              "    }\n",
              "  }\n",
              "</style>\n",
              "\n",
              "      <script>\n",
              "        async function quickchart(key) {\n",
              "          const quickchartButtonEl =\n",
              "            document.querySelector('#' + key + ' button');\n",
              "          quickchartButtonEl.disabled = true;  // To prevent multiple clicks.\n",
              "          quickchartButtonEl.classList.add('colab-df-spinner');\n",
              "          try {\n",
              "            const charts = await google.colab.kernel.invokeFunction(\n",
              "                'suggestCharts', [key], {});\n",
              "          } catch (error) {\n",
              "            console.error('Error during call to suggestCharts:', error);\n",
              "          }\n",
              "          quickchartButtonEl.classList.remove('colab-df-spinner');\n",
              "          quickchartButtonEl.classList.add('colab-df-quickchart-complete');\n",
              "        }\n",
              "        (() => {\n",
              "          let quickchartButtonEl =\n",
              "            document.querySelector('#df-8445d466-01ed-4099-a9f9-57b492268aa0 button');\n",
              "          quickchartButtonEl.style.display =\n",
              "            google.colab.kernel.accessAllowed ? 'block' : 'none';\n",
              "        })();\n",
              "      </script>\n",
              "    </div>\n",
              "\n",
              "    </div>\n",
              "  </div>\n"
            ],
            "application/vnd.google.colaboratory.intrinsic+json": {
              "type": "dataframe",
              "summary": "{\n  \"name\": \"# we have a review with 3023 charecters, we could remove!\",\n  \"rows\": 5,\n  \"fields\": [\n    {\n      \"column\": \"review\",\n      \"properties\": {\n        \"dtype\": \"string\",\n        \"num_unique_values\": 5,\n        \"samples\": [\n          \"\\u0645\\u0627\\u062a\\u062d\\u0645\\u0644\\u062a \\u0627\\u0628\\u062f\\u062f\\u062f\\u062f\\u062f\\u0627 \\u0648\\u0646\\u0627 \\u062f\\u0641\\u0639\\u062a \\u0641\\u0644\\u0648\\u0633 \\ud83e\\udd14\\ud83d\\ude15\",\n          \"\\u062a\\u0628\\u064a\\u0646 \\u0645 \\u0644\\u064a \\u064a \\u062a\\u0645 \\u0644 \\u064a\\u0628\",\n          \"\\u0627\\u062a\\u0645\\u0646\\u0649 \\u0645\\u0646\\u0643\\u0645 \\u0639\\u0645\\u0644 \\u062e\\u064a\\u0627\\u0631 \\u0644\\u062a\\u0641\\u0636\\u064a\\u0644 \\u0627\\u0644\\u0645\\u0633\\u0644\\u0633\\u0644 \\u0628\\u0627\\u0644\\u0643\\u0627\\u0645\\u0644 \\u0639\\u0648\\u0636\\u0627\\u064b \\u0639\\u0646 \\u062a\\u0641\\u0636\\u064a\\u0644 \\u0627\\u0644\\u062d\\u0644\\u0642\\u0627\\u062a \\u0641\\u0642\\u0637\\n\\u0648\\u0634\\u0643\\u0631\\u0627\\u064b\"\n        ],\n        \"semantic_type\": \"\",\n        \"description\": \"\"\n      }\n    },\n    {\n      \"column\": \"bug_report\",\n      \"properties\": {\n        \"dtype\": \"number\",\n        \"std\": 0,\n        \"min\": 0,\n        \"max\": 1,\n        \"num_unique_values\": 2,\n        \"samples\": [\n          0,\n          1\n        ],\n        \"semantic_type\": \"\",\n        \"description\": \"\"\n      }\n    },\n    {\n      \"column\": \"improvement_request\",\n      \"properties\": {\n        \"dtype\": \"number\",\n        \"std\": 0,\n        \"min\": 0,\n        \"max\": 1,\n        \"num_unique_values\": 2,\n        \"samples\": [\n          0,\n          1\n        ],\n        \"semantic_type\": \"\",\n        \"description\": \"\"\n      }\n    },\n    {\n      \"column\": \"rating\",\n      \"properties\": {\n        \"dtype\": \"number\",\n        \"std\": 0,\n        \"min\": 1,\n        \"max\": 1,\n        \"num_unique_values\": 1,\n        \"samples\": [\n          1\n        ],\n        \"semantic_type\": \"\",\n        \"description\": \"\"\n      }\n    },\n    {\n      \"column\": \"others\",\n      \"properties\": {\n        \"dtype\": \"number\",\n        \"std\": 0,\n        \"min\": 0,\n        \"max\": 1,\n        \"num_unique_values\": 2,\n        \"samples\": [\n          1\n        ],\n        \"semantic_type\": \"\",\n        \"description\": \"\"\n      }\n    }\n  ]\n}"
            }
          },
          "metadata": {}
        },
        {
          "output_type": "stream",
          "name": "stdout",
          "text": [
            "Shape: 2900 rows, 5 columns\n",
            "\n",
            "Data types:\n",
            "review                 object\n",
            "bug_report              int64\n",
            "improvement_request     int64\n",
            "rating                  int64\n",
            "others                  int64\n",
            "dtype: object\n",
            "\n",
            "Missing values per column:\n",
            "review                 0\n",
            "bug_report             0\n",
            "improvement_request    0\n",
            "rating                 0\n",
            "others                 0\n",
            "dtype: int64\n",
            "\n",
            "Review length summary:\n",
            "count    2900.000000\n",
            "mean       74.374828\n",
            "std        87.071689\n",
            "min        10.000000\n",
            "25%        34.000000\n",
            "50%        52.000000\n",
            "75%        85.000000\n",
            "max      3023.000000\n",
            "Name: review_length, dtype: float64\n",
            "        bug_report  improvement_request       rating       others  \\\n",
            "count  2900.000000          2900.000000  2900.000000  2900.000000   \n",
            "mean      0.401379             0.380345     0.679655     0.282759   \n",
            "std       0.490262             0.485555     0.466690     0.450418   \n",
            "min       0.000000             0.000000     0.000000     0.000000   \n",
            "25%       0.000000             0.000000     0.000000     0.000000   \n",
            "50%       0.000000             0.000000     1.000000     0.000000   \n",
            "75%       1.000000             1.000000     1.000000     1.000000   \n",
            "max       1.000000             1.000000     1.000000     1.000000   \n",
            "\n",
            "       review_length  \n",
            "count    2900.000000  \n",
            "mean       74.374828  \n",
            "std        87.071689  \n",
            "min        10.000000  \n",
            "25%        34.000000  \n",
            "50%        52.000000  \n",
            "75%        85.000000  \n",
            "max      3023.000000  \n",
            "\n",
            "Class distribution:\n",
            "1164 bug_report\n",
            "1103 improvement_request\n",
            "1971 rating\n",
            "820 others\n",
            "As precentages\n",
            "23.013048635824436 % bug_report\n",
            "21.80703835508106 % improvement_request\n",
            "38.967971530249116 % rating\n",
            "16.211941478845393 % others\n"
          ]
        },
        {
          "output_type": "display_data",
          "data": {
            "text/plain": [
              "<Figure size 640x480 with 1 Axes>"
            ],
            "image/png": "[encoded data removed]"
          },
          "metadata": {}
        }
      ]
    },
    {
      "cell_type": "markdown",
      "source": [
        "Implement a from-scratch model\n",
        "o (RNN-based model: LSTM/GRU/Bidirectional/stacked/…)"
      ],
      "metadata": {
        "id": "jWIXRyw8C0fO"
      }
    },
    {
      "cell_type": "code",
      "source": [
        "from sklearn.metrics import (\n",
        "    classification_report,\n",
        "    multilabel_confusion_matrix,\n",
        "    hamming_loss,\n",
        "    accuracy_score,\n",
        "    precision_score,\n",
        "    recall_score,\n",
        "    f1_score,\n",
        "    ConfusionMatrixDisplay\n",
        ")\n",
        "\n",
        "def eval_and_report_multilabel(model, seq, true_y, label_names, threshold=0.5):\n",
        "    # 1) Predict probabilities and binarize\n",
        "    preds_proba = model.predict(seq)\n",
        "    preds = (preds_proba >= threshold).astype(int)\n",
        "\n",
        "    # 2) Per‐label confusion matrices\n",
        "    cms = multilabel_confusion_matrix(true_y, preds)\n",
        "    print(\"=== Per-label Confusion Matrices ===\")\n",
        "    for idx, label in enumerate(label_names):\n",
        "        tn, fp, fn, tp = cms[idx].ravel()\n",
        "        print(f\"{label}:  TN={tn}, FP={fp}, FN={fn}, TP={tp}\")\n",
        "\n",
        "    # 3) Overall multilabel metrics\n",
        "    print(\"\\n=== Overall Multilabel Metrics ===\")\n",
        "    print(f\"Hamming Loss:    {hamming_loss(true_y, preds):.4f}\")\n",
        "    print(f\"Subset Accuracy: {accuracy_score(true_y, preds):.4f}\\n\")\n",
        "\n",
        "    # Full per-label classification report\n",
        "    print(\"\\n=== Classification Report ===\")\n",
        "    print(classification_report(\n",
        "        true_y,\n",
        "        preds,\n",
        "        target_names=label_names,\n",
        "        zero_division=0\n",
        "    ))"
      ],
      "metadata": {
        "id": "ioUg3YkRJl55"
      },
      "execution_count": 22,
      "outputs": []
    },
    {
      "cell_type": "markdown",
      "source": [
        "You can use the best embedding from Part-B"
      ],
      "metadata": {
        "id": "j_InJwBKC5wp"
      }
    },
    {
      "cell_type": "markdown",
      "source": [
        "We will use AraVec ( no noticeble difference )"
      ],
      "metadata": {
        "id": "U_cj0Ir6JMa7"
      }
    },
    {
      "cell_type": "code",
      "source": [
        "import numpy as np\n",
        "import pandas as pd\n",
        "from sklearn.model_selection import train_test_split\n",
        "from sklearn.metrics import classification_report\n",
        "import matplotlib.pyplot as plt\n",
        "import tensorflow as tf\n",
        "from tensorflow.keras.preprocessing.text import Tokenizer\n",
        "from tensorflow.keras.preprocessing.sequence import pad_sequences\n",
        "from tensorflow.keras.layers import Input, Embedding, Bidirectional, LSTM, Dense, Dropout\n",
        "from tensorflow.keras.models import Model\n",
        "import pickle\n",
        "\n",
        "label_cols = [\"bug_report\",\t\"improvement_request\",\t\"rating\",\t\"others\"]\n",
        "df_train = pd.read_csv('train_multi.csv')\n",
        "X_train = df_train['review'].astype(str).tolist()\n",
        "y_train = df_train[label_cols].values.astype(int)\n",
        "\n",
        "df_val = pd.read_csv('val_multi.csv')\n",
        "X_val = df_val['review'].astype(str).tolist()\n",
        "y_val = df_val[label_cols].values.astype(int)\n",
        "\n",
        "df_test = pd.read_csv('test_multi.csv')\n",
        "X_test = df_test['review'].astype(str).tolist()\n",
        "y_test = df_test[label_cols].values.astype(int)\n",
        "\n",
        "# TEXT PREPROCESSING\n",
        "MAX_VOCAB = 20000\n",
        "MAX_LEN    = 600\n",
        "\n",
        "# Convert texts to padded sequences\n",
        "tokenizer = Tokenizer(num_words=MAX_VOCAB, oov_token=\"<OOV>\")\n",
        "tokenizer.fit_on_texts(X_train)\n",
        "train_seq = pad_sequences(\n",
        "    tokenizer.texts_to_sequences(X_train),\n",
        "    maxlen=MAX_LEN, padding='post'\n",
        ")\n",
        "val_seq = pad_sequences(\n",
        "    tokenizer.texts_to_sequences(X_val),\n",
        "    maxlen=MAX_LEN, padding='post'\n",
        ")\n",
        "test_seq = pad_sequences(\n",
        "    tokenizer.texts_to_sequences(X_test),\n",
        "    maxlen=MAX_LEN, padding='post'\n",
        ")\n",
        "\n",
        "# 4) EMBEDDING MATRIX LOADING\n",
        "# Assumes you exported embedding_matrix.npy from Part B\n",
        "EMBEDDING_PATH = 'tweets_cbow_300.wv.vectors.npy'\n",
        "embedding_matrix = np.load(EMBEDDING_PATH)\n",
        "print(f'\\nLoaded embedding matrix: {embedding_matrix.shape}')\n",
        "\n",
        "# 5) BUILD RNN-BASED MULTILABEL MODEL\n",
        "vocab_size, embedding_dim = embedding_matrix.shape\n",
        "num_labels = y_train.shape[1]\n",
        "model = Sequential([\n",
        "    Embedding(input_dim=MAX_VOCAB, output_dim=128, input_length=MAX_LEN),\n",
        "    Bidirectional(LSTM(64, return_sequences=False)),\n",
        "    Dropout(0.5),\n",
        "    Dense(num_labels, activation='sigmoid', name='output')\n",
        "])\n",
        "# model = Sequential([\n",
        "#     Embedding(\n",
        "#         input_dim=vocab_size,\n",
        "#         output_dim=embedding_dim,\n",
        "#         weights=[embedding_matrix],\n",
        "#         input_length=MAX_SEQ_LEN,\n",
        "#         trainable=False,\n",
        "#         name='embedding'\n",
        "#     ),\n",
        "#     Bidirectional(\n",
        "#         LSTM(128, return_sequences=False, recurrent_dropout=0.2),\n",
        "#         name='bilstm'\n",
        "#     ),\n",
        "#     Dropout(0.3, name='dropout_1'),\n",
        "#     Dense(64, activation='relu', name='dense_1'),\n",
        "#     Dropout(0.3, name='dropout_2'),\n",
        "#     Dense(num_labels, activation='sigmoid', name='output')\n",
        "# ], name='multilabel_rnn')\n",
        "model.compile(\n",
        "    optimizer='adam',\n",
        "    loss='binary_crossentropy',\n",
        "    metrics=['accuracy']\n",
        ")\n",
        "model.build(input_shape=(None, MAX_LEN))\n",
        "model.summary()\n",
        "\n",
        "# 6) TRAIN\n",
        "EPOCHS = 20\n",
        "BATCH_SIZE = 32\n",
        "callbacks = [\n",
        "    EarlyStopping(\n",
        "        #monitor=\"val_loss\",\n",
        "        monitor='val_accuracy',\n",
        "        mode='max',\n",
        "        patience=3,              # stop after 3 epochs w/o improvement\n",
        "        restore_best_weights=True\n",
        "    )\n",
        "]\n",
        "history = model.fit(\n",
        "    train_seq, y_train,\n",
        "    validation_data=(val_seq, y_val),\n",
        "    epochs=EPOCHS,\n",
        "    batch_size=BATCH_SIZE,\n",
        "    callbacks=callbacks\n",
        ")\n",
        "eval_and_report_multilabel(\n",
        "    model,\n",
        "    seq=test_seq,\n",
        "    true_y=y_test,\n",
        "    label_names=label_cols,\n",
        "    threshold=0.5\n",
        ")"
      ],
      "metadata": {
        "colab": {
          "base_uri": "https://localhost:8080/",
          "height": 1000
        },
        "id": "swITicRgNlLI",
        "outputId": "fdaf961b-17f3-4f8b-ae4f-9e55eaa9ad51"
      },
      "execution_count": 27,
      "outputs": [
        {
          "output_type": "stream",
          "name": "stdout",
          "text": [
            "\n",
            "Loaded embedding matrix: (331679, 300)\n"
          ]
        },
        {
          "output_type": "stream",
          "name": "stderr",
          "text": [
            "/usr/local/lib/python3.11/dist-packages/keras/src/layers/core/embedding.py:90: UserWarning: Argument `input_length` is deprecated. Just remove it.\n",
            "  warnings.warn(\n"
          ]
        },
        {
          "output_type": "display_data",
          "data": {
            "text/plain": [
              "\u001b[1mModel: \"sequential_15\"\u001b[0m\n"
            ],
            "text/html": [
              "<pre style=\"white-space:pre;overflow-x:auto;line-height:normal;font-family:Menlo,'DejaVu Sans Mono',consolas,'Courier New',monospace\"><span style=\"font-weight: bold\">Model: \"sequential_15\"</span>\n",
              "</pre>\n"
            ]
          },
          "metadata": {}
        },
        {
          "output_type": "display_data",
          "data": {
            "text/plain": [
              "┏━━━━━━━━━━━━━━━━━━━━━━━━━━━━━━━━━┳━━━━━━━━━━━━━━━━━━━━━━━━┳━━━━━━━━━━━━━━━┓\n",
              "┃\u001b[1m \u001b[0m\u001b[1mLayer (type)                   \u001b[0m\u001b[1m \u001b[0m┃\u001b[1m \u001b[0m\u001b[1mOutput Shape          \u001b[0m\u001b[1m \u001b[0m┃\u001b[1m \u001b[0m\u001b[1m      Param #\u001b[0m\u001b[1m \u001b[0m┃\n",
              "┡━━━━━━━━━━━━━━━━━━━━━━━━━━━━━━━━━╇━━━━━━━━━━━━━━━━━━━━━━━━╇━━━━━━━━━━━━━━━┩\n",
              "│ embedding_16 (\u001b[38;5;33mEmbedding\u001b[0m)        │ (\u001b[38;5;45mNone\u001b[0m, \u001b[38;5;34m600\u001b[0m, \u001b[38;5;34m128\u001b[0m)       │     \u001b[38;5;34m2,560,000\u001b[0m │\n",
              "├─────────────────────────────────┼────────────────────────┼───────────────┤\n",
              "│ bidirectional_15                │ (\u001b[38;5;45mNone\u001b[0m, \u001b[38;5;34m128\u001b[0m)            │        \u001b[38;5;34m98,816\u001b[0m │\n",
              "│ (\u001b[38;5;33mBidirectional\u001b[0m)                 │                        │               │\n",
              "├─────────────────────────────────┼────────────────────────┼───────────────┤\n",
              "│ dropout_15 (\u001b[38;5;33mDropout\u001b[0m)            │ (\u001b[38;5;45mNone\u001b[0m, \u001b[38;5;34m128\u001b[0m)            │             \u001b[38;5;34m0\u001b[0m │\n",
              "├─────────────────────────────────┼────────────────────────┼───────────────┤\n",
              "│ output (\u001b[38;5;33mDense\u001b[0m)                  │ (\u001b[38;5;45mNone\u001b[0m, \u001b[38;5;34m4\u001b[0m)              │           \u001b[38;5;34m516\u001b[0m │\n",
              "└─────────────────────────────────┴────────────────────────┴───────────────┘\n"
            ],
            "text/html": [
              "<pre style=\"white-space:pre;overflow-x:auto;line-height:normal;font-family:Menlo,'DejaVu Sans Mono',consolas,'Courier New',monospace\">┏━━━━━━━━━━━━━━━━━━━━━━━━━━━━━━━━━┳━━━━━━━━━━━━━━━━━━━━━━━━┳━━━━━━━━━━━━━━━┓\n",
              "┃<span style=\"font-weight: bold\"> Layer (type)                    </span>┃<span style=\"font-weight: bold\"> Output Shape           </span>┃<span style=\"font-weight: bold\">       Param # </span>┃\n",
              "┡━━━━━━━━━━━━━━━━━━━━━━━━━━━━━━━━━╇━━━━━━━━━━━━━━━━━━━━━━━━╇━━━━━━━━━━━━━━━┩\n",
              "│ embedding_16 (<span style=\"color: #0087ff; text-decoration-color: #0087ff\">Embedding</span>)        │ (<span style=\"color: #00d7ff; text-decoration-color: #00d7ff\">None</span>, <span style=\"color: #00af00; text-decoration-color: #00af00\">600</span>, <span style=\"color: #00af00; text-decoration-color: #00af00\">128</span>)       │     <span style=\"color: #00af00; text-decoration-color: #00af00\">2,560,000</span> │\n",
              "├─────────────────────────────────┼────────────────────────┼───────────────┤\n",
              "│ bidirectional_15                │ (<span style=\"color: #00d7ff; text-decoration-color: #00d7ff\">None</span>, <span style=\"color: #00af00; text-decoration-color: #00af00\">128</span>)            │        <span style=\"color: #00af00; text-decoration-color: #00af00\">98,816</span> │\n",
              "│ (<span style=\"color: #0087ff; text-decoration-color: #0087ff\">Bidirectional</span>)                 │                        │               │\n",
              "├─────────────────────────────────┼────────────────────────┼───────────────┤\n",
              "│ dropout_15 (<span style=\"color: #0087ff; text-decoration-color: #0087ff\">Dropout</span>)            │ (<span style=\"color: #00d7ff; text-decoration-color: #00d7ff\">None</span>, <span style=\"color: #00af00; text-decoration-color: #00af00\">128</span>)            │             <span style=\"color: #00af00; text-decoration-color: #00af00\">0</span> │\n",
              "├─────────────────────────────────┼────────────────────────┼───────────────┤\n",
              "│ output (<span style=\"color: #0087ff; text-decoration-color: #0087ff\">Dense</span>)                  │ (<span style=\"color: #00d7ff; text-decoration-color: #00d7ff\">None</span>, <span style=\"color: #00af00; text-decoration-color: #00af00\">4</span>)              │           <span style=\"color: #00af00; text-decoration-color: #00af00\">516</span> │\n",
              "└─────────────────────────────────┴────────────────────────┴───────────────┘\n",
              "</pre>\n"
            ]
          },
          "metadata": {}
        },
        {
          "output_type": "display_data",
          "data": {
            "text/plain": [
              "\u001b[1m Total params: \u001b[0m\u001b[38;5;34m2,659,332\u001b[0m (10.14 MB)\n"
            ],
            "text/html": [
              "<pre style=\"white-space:pre;overflow-x:auto;line-height:normal;font-family:Menlo,'DejaVu Sans Mono',consolas,'Courier New',monospace\"><span style=\"font-weight: bold\"> Total params: </span><span style=\"color: #00af00; text-decoration-color: #00af00\">2,659,332</span> (10.14 MB)\n",
              "</pre>\n"
            ]
          },
          "metadata": {}
        },
        {
          "output_type": "display_data",
          "data": {
            "text/plain": [
              "\u001b[1m Trainable params: \u001b[0m\u001b[38;5;34m2,659,332\u001b[0m (10.14 MB)\n"
            ],
            "text/html": [
              "<pre style=\"white-space:pre;overflow-x:auto;line-height:normal;font-family:Menlo,'DejaVu Sans Mono',consolas,'Courier New',monospace\"><span style=\"font-weight: bold\"> Trainable params: </span><span style=\"color: #00af00; text-decoration-color: #00af00\">2,659,332</span> (10.14 MB)\n",
              "</pre>\n"
            ]
          },
          "metadata": {}
        },
        {
          "output_type": "display_data",
          "data": {
            "text/plain": [
              "\u001b[1m Non-trainable params: \u001b[0m\u001b[38;5;34m0\u001b[0m (0.00 B)\n"
            ],
            "text/html": [
              "<pre style=\"white-space:pre;overflow-x:auto;line-height:normal;font-family:Menlo,'DejaVu Sans Mono',consolas,'Courier New',monospace\"><span style=\"font-weight: bold\"> Non-trainable params: </span><span style=\"color: #00af00; text-decoration-color: #00af00\">0</span> (0.00 B)\n",
              "</pre>\n"
            ]
          },
          "metadata": {}
        },
        {
          "output_type": "stream",
          "name": "stdout",
          "text": [
            "Epoch 1/20\n",
            "\u001b[1m62/62\u001b[0m \u001b[32m━━━━━━━━━━━━━━━━━━━━\u001b[0m\u001b[37m\u001b[0m \u001b[1m5s\u001b[0m 46ms/step - accuracy: 0.3508 - loss: 0.6484 - val_accuracy: 0.3103 - val_loss: 0.6222\n",
            "Epoch 2/20\n",
            "\u001b[1m62/62\u001b[0m \u001b[32m━━━━━━━━━━━━━━━━━━━━\u001b[0m\u001b[37m\u001b[0m \u001b[1m3s\u001b[0m 40ms/step - accuracy: 0.3998 - loss: 0.5802 - val_accuracy: 0.5172 - val_loss: 0.5344\n",
            "Epoch 3/20\n",
            "\u001b[1m62/62\u001b[0m \u001b[32m━━━━━━━━━━━━━━━━━━━━\u001b[0m\u001b[37m\u001b[0m \u001b[1m3s\u001b[0m 40ms/step - accuracy: 0.5552 - loss: 0.5178 - val_accuracy: 0.5201 - val_loss: 0.5777\n",
            "Epoch 4/20\n",
            "\u001b[1m62/62\u001b[0m \u001b[32m━━━━━━━━━━━━━━━━━━━━\u001b[0m\u001b[37m\u001b[0m \u001b[1m3s\u001b[0m 40ms/step - accuracy: 0.5338 - loss: 0.4976 - val_accuracy: 0.5230 - val_loss: 0.5297\n",
            "Epoch 5/20\n",
            "\u001b[1m62/62\u001b[0m \u001b[32m━━━━━━━━━━━━━━━━━━━━\u001b[0m\u001b[37m\u001b[0m \u001b[1m3s\u001b[0m 40ms/step - accuracy: 0.6333 - loss: 0.4129 - val_accuracy: 0.5316 - val_loss: 0.5204\n",
            "Epoch 6/20\n",
            "\u001b[1m62/62\u001b[0m \u001b[32m━━━━━━━━━━━━━━━━━━━━\u001b[0m\u001b[37m\u001b[0m \u001b[1m3s\u001b[0m 41ms/step - accuracy: 0.6546 - loss: 0.3402 - val_accuracy: 0.5230 - val_loss: 0.5300\n",
            "Epoch 7/20\n",
            "\u001b[1m62/62\u001b[0m \u001b[32m━━━━━━━━━━━━━━━━━━━━\u001b[0m\u001b[37m\u001b[0m \u001b[1m3s\u001b[0m 40ms/step - accuracy: 0.6737 - loss: 0.2731 - val_accuracy: 0.5345 - val_loss: 0.5487\n",
            "Epoch 8/20\n",
            "\u001b[1m62/62\u001b[0m \u001b[32m━━━━━━━━━━━━━━━━━━━━\u001b[0m\u001b[37m\u001b[0m \u001b[1m3s\u001b[0m 40ms/step - accuracy: 0.6911 - loss: 0.2091 - val_accuracy: 0.5345 - val_loss: 0.6032\n",
            "Epoch 9/20\n",
            "\u001b[1m62/62\u001b[0m \u001b[32m━━━━━━━━━━━━━━━━━━━━\u001b[0m\u001b[37m\u001b[0m \u001b[1m3s\u001b[0m 40ms/step - accuracy: 0.7063 - loss: 0.1637 - val_accuracy: 0.5460 - val_loss: 0.6742\n",
            "Epoch 10/20\n",
            "\u001b[1m62/62\u001b[0m \u001b[32m━━━━━━━━━━━━━━━━━━━━\u001b[0m\u001b[37m\u001b[0m \u001b[1m3s\u001b[0m 41ms/step - accuracy: 0.7087 - loss: 0.1361 - val_accuracy: 0.5517 - val_loss: 0.7138\n",
            "Epoch 11/20\n",
            "\u001b[1m62/62\u001b[0m \u001b[32m━━━━━━━━━━━━━━━━━━━━\u001b[0m\u001b[37m\u001b[0m \u001b[1m3s\u001b[0m 40ms/step - accuracy: 0.6982 - loss: 0.1067 - val_accuracy: 0.5489 - val_loss: 0.8052\n",
            "Epoch 12/20\n",
            "\u001b[1m62/62\u001b[0m \u001b[32m━━━━━━━━━━━━━━━━━━━━\u001b[0m\u001b[37m\u001b[0m \u001b[1m3s\u001b[0m 40ms/step - accuracy: 0.6907 - loss: 0.0942 - val_accuracy: 0.5489 - val_loss: 0.8465\n",
            "Epoch 13/20\n",
            "\u001b[1m62/62\u001b[0m \u001b[32m━━━━━━━━━━━━━━━━━━━━\u001b[0m\u001b[37m\u001b[0m \u001b[1m3s\u001b[0m 41ms/step - accuracy: 0.6846 - loss: 0.0792 - val_accuracy: 0.5690 - val_loss: 0.8515\n",
            "Epoch 14/20\n",
            "\u001b[1m62/62\u001b[0m \u001b[32m━━━━━━━━━━━━━━━━━━━━\u001b[0m\u001b[37m\u001b[0m \u001b[1m3s\u001b[0m 40ms/step - accuracy: 0.6923 - loss: 0.0694 - val_accuracy: 0.5517 - val_loss: 0.9513\n",
            "Epoch 15/20\n",
            "\u001b[1m62/62\u001b[0m \u001b[32m━━━━━━━━━━━━━━━━━━━━\u001b[0m\u001b[37m\u001b[0m \u001b[1m3s\u001b[0m 41ms/step - accuracy: 0.7149 - loss: 0.0559 - val_accuracy: 0.5374 - val_loss: 0.9686\n",
            "Epoch 16/20\n",
            "\u001b[1m62/62\u001b[0m \u001b[32m━━━━━━━━━━━━━━━━━━━━\u001b[0m\u001b[37m\u001b[0m \u001b[1m3s\u001b[0m 40ms/step - accuracy: 0.6711 - loss: 0.0472 - val_accuracy: 0.5316 - val_loss: 1.0381\n",
            "\u001b[1m19/19\u001b[0m \u001b[32m━━━━━━━━━━━━━━━━━━━━\u001b[0m\u001b[37m\u001b[0m \u001b[1m1s\u001b[0m 26ms/step\n",
            "=== Per-label Confusion Matrices ===\n",
            "bug_report:  TN=260, FP=81, FN=37, TP=202\n",
            "improvement_request:  TN=270, FP=72, FN=84, TP=154\n",
            "rating:  TN=100, FP=96, FN=64, TP=320\n",
            "others:  TN=378, FP=43, FN=102, TP=57\n",
            "\n",
            "=== Overall Multilabel Metrics ===\n",
            "Hamming Loss:    0.2496\n",
            "Subset Accuracy: 0.3552\n",
            "\n",
            "\n",
            "=== Classification Report ===\n",
            "                     precision    recall  f1-score   support\n",
            "\n",
            "         bug_report       0.71      0.85      0.77       239\n",
            "improvement_request       0.68      0.65      0.66       238\n",
            "             rating       0.77      0.83      0.80       384\n",
            "             others       0.57      0.36      0.44       159\n",
            "\n",
            "          micro avg       0.72      0.72      0.72      1020\n",
            "          macro avg       0.68      0.67      0.67      1020\n",
            "       weighted avg       0.70      0.72      0.71      1020\n",
            "        samples avg       0.75      0.76      0.72      1020\n",
            "\n"
          ]
        }
      ]
    },
    {
      "cell_type": "code",
      "source": [
        "# build a set of all train reviews\n",
        "train_texts = set(df_train['review'])\n",
        "overlap = train_texts.intersection(df_test['review'])\n",
        "print(\"Overlap between train & test:\", len(overlap))"
      ],
      "metadata": {
        "colab": {
          "base_uri": "https://localhost:8080/"
        },
        "id": "FSu4RpIotiIC",
        "outputId": "7bf18623-c5a5-4bd6-b1d8-b9a7589960e5"
      },
      "execution_count": 28,
      "outputs": [
        {
          "output_type": "stream",
          "name": "stdout",
          "text": [
            "Overlap between train & test: 1\n"
          ]
        }
      ]
    },
    {
      "cell_type": "markdown",
      "source": [
        "#With augmentation"
      ],
      "metadata": {
        "id": "ObVeA4HUrlUI"
      }
    },
    {
      "cell_type": "code",
      "source": [
        "import numpy as np\n",
        "import pandas as pd\n",
        "from sklearn.model_selection import train_test_split\n",
        "from sklearn.metrics import classification_report\n",
        "import matplotlib.pyplot as plt\n",
        "import tensorflow as tf\n",
        "from tensorflow.keras.preprocessing.text import Tokenizer\n",
        "from tensorflow.keras.preprocessing.sequence import pad_sequences\n",
        "from tensorflow.keras.layers import Input, Embedding, Bidirectional, LSTM, Dense, Dropout\n",
        "from tensorflow.keras.models import Model\n",
        "import pickle\n",
        "\n",
        "label_cols = [\"bug_report\",\t\"improvement_request\",\t\"rating\",\t\"others\"]\n",
        "df_train = pd.read_csv('eda_full_augmented_train_multi.csv')\n",
        "X_train = df_train['review'].astype(str).tolist()\n",
        "y_train = df_train[label_cols].values.astype(int)\n",
        "\n",
        "df_val = pd.read_csv('val_multi.csv')\n",
        "X_val = df_val['review'].astype(str).tolist()\n",
        "y_val = df_val[label_cols].values.astype(int)\n",
        "\n",
        "df_test = pd.read_csv('test_multi.csv')\n",
        "X_test = df_test['review'].astype(str).tolist()\n",
        "y_test = df_test[label_cols].values.astype(int)\n",
        "\n",
        "# TEXT PREPROCESSING\n",
        "MAX_VOCAB = 20000\n",
        "MAX_LEN    = 600\n",
        "\n",
        "# Convert texts to padded sequences\n",
        "tokenizer = Tokenizer(num_words=MAX_VOCAB, oov_token=\"<OOV>\")\n",
        "tokenizer.fit_on_texts(X_train)\n",
        "train_seq = pad_sequences(\n",
        "    tokenizer.texts_to_sequences(X_train),\n",
        "    maxlen=MAX_LEN, padding='post'\n",
        ")\n",
        "val_seq = pad_sequences(\n",
        "    tokenizer.texts_to_sequences(X_val),\n",
        "    maxlen=MAX_LEN, padding='post'\n",
        ")\n",
        "test_seq = pad_sequences(\n",
        "    tokenizer.texts_to_sequences(X_test),\n",
        "    maxlen=MAX_LEN, padding='post'\n",
        ")\n",
        "\n",
        "# 4) EMBEDDING MATRIX LOADING\n",
        "# Assumes you exported embedding_matrix.npy from Part B\n",
        "EMBEDDING_PATH = 'tweets_cbow_300.wv.vectors.npy'\n",
        "embedding_matrix = np.load(EMBEDDING_PATH)\n",
        "print(f'\\nLoaded embedding matrix: {embedding_matrix.shape}')\n",
        "\n",
        "# 5) BUILD RNN-BASED MULTILABEL MODEL\n",
        "vocab_size, embedding_dim = embedding_matrix.shape\n",
        "num_labels = y_train.shape[1]\n",
        "model = Sequential([\n",
        "    Embedding(input_dim=MAX_VOCAB, output_dim=128, input_length=MAX_LEN),\n",
        "    Bidirectional(LSTM(64, return_sequences=False)),\n",
        "    Dropout(0.5),\n",
        "    Dense(num_labels, activation='sigmoid', name='output')\n",
        "])\n",
        "# model = Sequential([\n",
        "#     Embedding(\n",
        "#         input_dim=vocab_size,\n",
        "#         output_dim=embedding_dim,\n",
        "#         weights=[embedding_matrix],\n",
        "#         input_length=MAX_SEQ_LEN,\n",
        "#         trainable=False,\n",
        "#         name='embedding'\n",
        "#     ),\n",
        "#     Bidirectional(\n",
        "#         LSTM(128, return_sequences=False, recurrent_dropout=0.2),\n",
        "#         name='bilstm'\n",
        "#     ),\n",
        "#     Dropout(0.3, name='dropout_1'),\n",
        "#     Dense(64, activation='relu', name='dense_1'),\n",
        "#     Dropout(0.3, name='dropout_2'),\n",
        "#     Dense(num_labels, activation='sigmoid', name='output')\n",
        "# ], name='multilabel_rnn')\n",
        "model.compile(\n",
        "    optimizer='adam',\n",
        "    loss='binary_crossentropy',\n",
        "    metrics=['accuracy']\n",
        ")\n",
        "model.build(input_shape=(None, MAX_LEN))\n",
        "model.summary()\n",
        "\n",
        "# 6) TRAIN\n",
        "EPOCHS = 20\n",
        "BATCH_SIZE = 32\n",
        "callbacks = [\n",
        "    EarlyStopping(\n",
        "        #monitor=\"val_loss\",\n",
        "        monitor='val_accuracy',\n",
        "        mode='max',\n",
        "        patience=3,              # stop after 3 epochs w/o improvement\n",
        "        restore_best_weights=True\n",
        "    )\n",
        "]\n",
        "history = model.fit(\n",
        "    train_seq, y_train,\n",
        "    validation_data=(val_seq, y_val),\n",
        "    epochs=EPOCHS,\n",
        "    batch_size=BATCH_SIZE,\n",
        "    callbacks=callbacks\n",
        ")\n",
        "eval_and_report_multilabel(\n",
        "    model,\n",
        "    seq=test_seq,\n",
        "    true_y=y_test,\n",
        "    label_names=label_cols,\n",
        "    threshold=0.5\n",
        ")"
      ],
      "metadata": {
        "colab": {
          "base_uri": "https://localhost:8080/",
          "height": 966
        },
        "id": "4tupBPjtrnZ1",
        "outputId": "f6deb542-55c3-4db6-9de2-4b21eeefbaa1"
      },
      "execution_count": 70,
      "outputs": [
        {
          "output_type": "stream",
          "name": "stdout",
          "text": [
            "\n",
            "Loaded embedding matrix: (331679, 300)\n"
          ]
        },
        {
          "output_type": "stream",
          "name": "stderr",
          "text": [
            "/usr/local/lib/python3.11/dist-packages/keras/src/layers/core/embedding.py:90: UserWarning: Argument `input_length` is deprecated. Just remove it.\n",
            "  warnings.warn(\n"
          ]
        },
        {
          "output_type": "display_data",
          "data": {
            "text/plain": [
              "\u001b[1mModel: \"sequential_17\"\u001b[0m\n"
            ],
            "text/html": [
              "<pre style=\"white-space:pre;overflow-x:auto;line-height:normal;font-family:Menlo,'DejaVu Sans Mono',consolas,'Courier New',monospace\"><span style=\"font-weight: bold\">Model: \"sequential_17\"</span>\n",
              "</pre>\n"
            ]
          },
          "metadata": {}
        },
        {
          "output_type": "display_data",
          "data": {
            "text/plain": [
              "┏━━━━━━━━━━━━━━━━━━━━━━━━━━━━━━━━━┳━━━━━━━━━━━━━━━━━━━━━━━━┳━━━━━━━━━━━━━━━┓\n",
              "┃\u001b[1m \u001b[0m\u001b[1mLayer (type)                   \u001b[0m\u001b[1m \u001b[0m┃\u001b[1m \u001b[0m\u001b[1mOutput Shape          \u001b[0m\u001b[1m \u001b[0m┃\u001b[1m \u001b[0m\u001b[1m      Param #\u001b[0m\u001b[1m \u001b[0m┃\n",
              "┡━━━━━━━━━━━━━━━━━━━━━━━━━━━━━━━━━╇━━━━━━━━━━━━━━━━━━━━━━━━╇━━━━━━━━━━━━━━━┩\n",
              "│ embedding_18 (\u001b[38;5;33mEmbedding\u001b[0m)        │ (\u001b[38;5;45mNone\u001b[0m, \u001b[38;5;34m600\u001b[0m, \u001b[38;5;34m128\u001b[0m)       │     \u001b[38;5;34m2,560,000\u001b[0m │\n",
              "├─────────────────────────────────┼────────────────────────┼───────────────┤\n",
              "│ bidirectional_17                │ (\u001b[38;5;45mNone\u001b[0m, \u001b[38;5;34m128\u001b[0m)            │        \u001b[38;5;34m98,816\u001b[0m │\n",
              "│ (\u001b[38;5;33mBidirectional\u001b[0m)                 │                        │               │\n",
              "├─────────────────────────────────┼────────────────────────┼───────────────┤\n",
              "│ dropout_17 (\u001b[38;5;33mDropout\u001b[0m)            │ (\u001b[38;5;45mNone\u001b[0m, \u001b[38;5;34m128\u001b[0m)            │             \u001b[38;5;34m0\u001b[0m │\n",
              "├─────────────────────────────────┼────────────────────────┼───────────────┤\n",
              "│ output (\u001b[38;5;33mDense\u001b[0m)                  │ (\u001b[38;5;45mNone\u001b[0m, \u001b[38;5;34m4\u001b[0m)              │           \u001b[38;5;34m516\u001b[0m │\n",
              "└─────────────────────────────────┴────────────────────────┴───────────────┘\n"
            ],
            "text/html": [
              "<pre style=\"white-space:pre;overflow-x:auto;line-height:normal;font-family:Menlo,'DejaVu Sans Mono',consolas,'Courier New',monospace\">┏━━━━━━━━━━━━━━━━━━━━━━━━━━━━━━━━━┳━━━━━━━━━━━━━━━━━━━━━━━━┳━━━━━━━━━━━━━━━┓\n",
              "┃<span style=\"font-weight: bold\"> Layer (type)                    </span>┃<span style=\"font-weight: bold\"> Output Shape           </span>┃<span style=\"font-weight: bold\">       Param # </span>┃\n",
              "┡━━━━━━━━━━━━━━━━━━━━━━━━━━━━━━━━━╇━━━━━━━━━━━━━━━━━━━━━━━━╇━━━━━━━━━━━━━━━┩\n",
              "│ embedding_18 (<span style=\"color: #0087ff; text-decoration-color: #0087ff\">Embedding</span>)        │ (<span style=\"color: #00d7ff; text-decoration-color: #00d7ff\">None</span>, <span style=\"color: #00af00; text-decoration-color: #00af00\">600</span>, <span style=\"color: #00af00; text-decoration-color: #00af00\">128</span>)       │     <span style=\"color: #00af00; text-decoration-color: #00af00\">2,560,000</span> │\n",
              "├─────────────────────────────────┼────────────────────────┼───────────────┤\n",
              "│ bidirectional_17                │ (<span style=\"color: #00d7ff; text-decoration-color: #00d7ff\">None</span>, <span style=\"color: #00af00; text-decoration-color: #00af00\">128</span>)            │        <span style=\"color: #00af00; text-decoration-color: #00af00\">98,816</span> │\n",
              "│ (<span style=\"color: #0087ff; text-decoration-color: #0087ff\">Bidirectional</span>)                 │                        │               │\n",
              "├─────────────────────────────────┼────────────────────────┼───────────────┤\n",
              "│ dropout_17 (<span style=\"color: #0087ff; text-decoration-color: #0087ff\">Dropout</span>)            │ (<span style=\"color: #00d7ff; text-decoration-color: #00d7ff\">None</span>, <span style=\"color: #00af00; text-decoration-color: #00af00\">128</span>)            │             <span style=\"color: #00af00; text-decoration-color: #00af00\">0</span> │\n",
              "├─────────────────────────────────┼────────────────────────┼───────────────┤\n",
              "│ output (<span style=\"color: #0087ff; text-decoration-color: #0087ff\">Dense</span>)                  │ (<span style=\"color: #00d7ff; text-decoration-color: #00d7ff\">None</span>, <span style=\"color: #00af00; text-decoration-color: #00af00\">4</span>)              │           <span style=\"color: #00af00; text-decoration-color: #00af00\">516</span> │\n",
              "└─────────────────────────────────┴────────────────────────┴───────────────┘\n",
              "</pre>\n"
            ]
          },
          "metadata": {}
        },
        {
          "output_type": "display_data",
          "data": {
            "text/plain": [
              "\u001b[1m Total params: \u001b[0m\u001b[38;5;34m2,659,332\u001b[0m (10.14 MB)\n"
            ],
            "text/html": [
              "<pre style=\"white-space:pre;overflow-x:auto;line-height:normal;font-family:Menlo,'DejaVu Sans Mono',consolas,'Courier New',monospace\"><span style=\"font-weight: bold\"> Total params: </span><span style=\"color: #00af00; text-decoration-color: #00af00\">2,659,332</span> (10.14 MB)\n",
              "</pre>\n"
            ]
          },
          "metadata": {}
        },
        {
          "output_type": "display_data",
          "data": {
            "text/plain": [
              "\u001b[1m Trainable params: \u001b[0m\u001b[38;5;34m2,659,332\u001b[0m (10.14 MB)\n"
            ],
            "text/html": [
              "<pre style=\"white-space:pre;overflow-x:auto;line-height:normal;font-family:Menlo,'DejaVu Sans Mono',consolas,'Courier New',monospace\"><span style=\"font-weight: bold\"> Trainable params: </span><span style=\"color: #00af00; text-decoration-color: #00af00\">2,659,332</span> (10.14 MB)\n",
              "</pre>\n"
            ]
          },
          "metadata": {}
        },
        {
          "output_type": "display_data",
          "data": {
            "text/plain": [
              "\u001b[1m Non-trainable params: \u001b[0m\u001b[38;5;34m0\u001b[0m (0.00 B)\n"
            ],
            "text/html": [
              "<pre style=\"white-space:pre;overflow-x:auto;line-height:normal;font-family:Menlo,'DejaVu Sans Mono',consolas,'Courier New',monospace\"><span style=\"font-weight: bold\"> Non-trainable params: </span><span style=\"color: #00af00; text-decoration-color: #00af00\">0</span> (0.00 B)\n",
              "</pre>\n"
            ]
          },
          "metadata": {}
        },
        {
          "output_type": "stream",
          "name": "stdout",
          "text": [
            "Epoch 1/20\n",
            "\u001b[1m110/110\u001b[0m \u001b[32m━━━━━━━━━━━━━━━━━━━━\u001b[0m\u001b[37m\u001b[0m \u001b[1m7s\u001b[0m 43ms/step - accuracy: 0.2743 - loss: 0.6675 - val_accuracy: 0.5086 - val_loss: 0.5690\n",
            "Epoch 2/20\n",
            "\u001b[1m110/110\u001b[0m \u001b[32m━━━━━━━━━━━━━━━━━━━━\u001b[0m\u001b[37m\u001b[0m \u001b[1m4s\u001b[0m 39ms/step - accuracy: 0.5376 - loss: 0.4730 - val_accuracy: 0.5632 - val_loss: 0.4987\n",
            "Epoch 3/20\n",
            "\u001b[1m110/110\u001b[0m \u001b[32m━━━━━━━━━━━━━━━━━━━━\u001b[0m\u001b[37m\u001b[0m \u001b[1m4s\u001b[0m 39ms/step - accuracy: 0.6188 - loss: 0.2516 - val_accuracy: 0.5632 - val_loss: 0.5826\n",
            "Epoch 4/20\n",
            "\u001b[1m110/110\u001b[0m \u001b[32m━━━━━━━━━━━━━━━━━━━━\u001b[0m\u001b[37m\u001b[0m \u001b[1m4s\u001b[0m 39ms/step - accuracy: 0.6340 - loss: 0.1403 - val_accuracy: 0.5460 - val_loss: 0.6851\n",
            "Epoch 5/20\n",
            "\u001b[1m110/110\u001b[0m \u001b[32m━━━━━━━━━━━━━━━━━━━━\u001b[0m\u001b[37m\u001b[0m \u001b[1m4s\u001b[0m 39ms/step - accuracy: 0.6349 - loss: 0.0807 - val_accuracy: 0.5489 - val_loss: 0.7708\n",
            "\u001b[1m19/19\u001b[0m \u001b[32m━━━━━━━━━━━━━━━━━━━━\u001b[0m\u001b[37m\u001b[0m \u001b[1m1s\u001b[0m 26ms/step\n",
            "=== Per-label Confusion Matrices ===\n",
            "bug_report:  TN=281, FP=60, FN=55, TP=184\n",
            "improvement_request:  TN=286, FP=56, FN=94, TP=144\n",
            "rating:  TN=97, FP=99, FN=54, TP=330\n",
            "others:  TN=373, FP=48, FN=91, TP=68\n",
            "\n",
            "=== Overall Multilabel Metrics ===\n",
            "Hamming Loss:    0.2401\n",
            "Subset Accuracy: 0.3759\n",
            "\n",
            "\n",
            "=== Classification Report ===\n",
            "                     precision    recall  f1-score   support\n",
            "\n",
            "         bug_report       0.75      0.77      0.76       239\n",
            "improvement_request       0.72      0.61      0.66       238\n",
            "             rating       0.77      0.86      0.81       384\n",
            "             others       0.59      0.43      0.49       159\n",
            "\n",
            "          micro avg       0.73      0.71      0.72      1020\n",
            "          macro avg       0.71      0.67      0.68      1020\n",
            "       weighted avg       0.73      0.71      0.71      1020\n",
            "        samples avg       0.76      0.76      0.72      1020\n",
            "\n"
          ]
        }
      ]
    },
    {
      "cell_type": "code",
      "source": [
        "# build a set of all train reviews\n",
        "train_texts = set(df_train['review'])\n",
        "overlap = train_texts.intersection(df_test['review'])\n",
        "print(\"Overlap between train & test:\", len(overlap))"
      ],
      "metadata": {
        "colab": {
          "base_uri": "https://localhost:8080/"
        },
        "id": "aAIevav6ta7p",
        "outputId": "622f9186-00fd-42e3-8597-925a8faafcbb"
      },
      "execution_count": 71,
      "outputs": [
        {
          "output_type": "stream",
          "name": "stdout",
          "text": [
            "Overlap between train & test: 1\n"
          ]
        }
      ]
    },
    {
      "cell_type": "markdown",
      "source": [
        "Classification analysis and possible improvements."
      ],
      "metadata": {
        "id": "pkvECUJdC7h4"
      }
    },
    {
      "cell_type": "markdown",
      "source": [
        "The multilabel models did great compared to multiclass as its f1-score are both above 0.70 compred to lower than 0.70. data augmentation did not improve the mirco f1, which may imply that data augmentation techneque did not benfit the model.\n",
        "\n",
        "possible improvements could be better augmentation as class weight did worse and we may use bigger data set that is balanced"
      ],
      "metadata": {
        "id": "91kNXn3TLCgR"
      }
    },
    {
      "cell_type": "markdown",
      "source": [
        "#Part-D [15 points]: Multiclass App Review Classification: Finetune an MLM\n"
      ],
      "metadata": {
        "id": "qRmq2lmTC853"
      }
    },
    {
      "cell_type": "markdown",
      "source": [
        "Fine-tune a Bert-type model like Arabert or Marbert"
      ],
      "metadata": {
        "id": "N1JCCl2FC-ts"
      }
    },
    {
      "cell_type": "code",
      "source": [
        "# install the AraBERT preprocessor\n",
        "!pip install arabert\n",
        "\n",
        "# install Farasa (required by the preprocessor for v1 & v2 tokenization)\n",
        "!pip install farasapy"
      ],
      "metadata": {
        "colab": {
          "base_uri": "https://localhost:8080/"
        },
        "id": "IabK648LhxLD",
        "outputId": "4da3b902-0609-4c9d-cf80-804dfd70135e"
      },
      "execution_count": 31,
      "outputs": [
        {
          "output_type": "stream",
          "name": "stdout",
          "text": [
            "Collecting arabert\n",
            "  Downloading arabert-1.0.1-py3-none-any.whl.metadata (16 kB)\n",
            "Collecting PyArabic (from arabert)\n",
            "  Downloading PyArabic-0.6.15-py3-none-any.whl.metadata (10 kB)\n",
            "Collecting farasapy (from arabert)\n",
            "  Downloading farasapy-0.0.14-py3-none-any.whl.metadata (8.9 kB)\n",
            "Collecting emoji==1.4.2 (from arabert)\n",
            "  Downloading emoji-1.4.2.tar.gz (184 kB)\n",
            "\u001b[2K     \u001b[90m━━━━━━━━━━━━━━━━━━━━━━━━━━━━━━━━━━━━━━\u001b[0m \u001b[32m185.0/185.0 kB\u001b[0m \u001b[31m17.0 MB/s\u001b[0m eta \u001b[36m0:00:00\u001b[0m\n",
            "\u001b[?25h  Preparing metadata (setup.py) ... \u001b[?25l\u001b[?25hdone\n",
            "Requirement already satisfied: requests in /usr/local/lib/python3.11/dist-packages (from farasapy->arabert) (2.32.3)\n",
            "Requirement already satisfied: tqdm in /usr/local/lib/python3.11/dist-packages (from farasapy->arabert) (4.67.1)\n",
            "Requirement already satisfied: six>=1.14.0 in /usr/local/lib/python3.11/dist-packages (from PyArabic->arabert) (1.17.0)\n",
            "Requirement already satisfied: charset-normalizer<4,>=2 in /usr/local/lib/python3.11/dist-packages (from requests->farasapy->arabert) (3.4.2)\n",
            "Requirement already satisfied: idna<4,>=2.5 in /usr/local/lib/python3.11/dist-packages (from requests->farasapy->arabert) (3.10)\n",
            "Requirement already satisfied: urllib3<3,>=1.21.1 in /usr/local/lib/python3.11/dist-packages (from requests->farasapy->arabert) (2.4.0)\n",
            "Requirement already satisfied: certifi>=2017.4.17 in /usr/local/lib/python3.11/dist-packages (from requests->farasapy->arabert) (2025.4.26)\n",
            "Downloading arabert-1.0.1-py3-none-any.whl (179 kB)\n",
            "\u001b[2K   \u001b[90m━━━━━━━━━━━━━━━━━━━━━━━━━━━━━━━━━━━━━━━━\u001b[0m \u001b[32m179.3/179.3 kB\u001b[0m \u001b[31m17.7 MB/s\u001b[0m eta \u001b[36m0:00:00\u001b[0m\n",
            "\u001b[?25hDownloading farasapy-0.0.14-py3-none-any.whl (11 kB)\n",
            "Downloading PyArabic-0.6.15-py3-none-any.whl (126 kB)\n",
            "\u001b[2K   \u001b[90m━━━━━━━━━━━━━━━━━━━━━━━━━━━━━━━━━━━━━━━━\u001b[0m \u001b[32m126.4/126.4 kB\u001b[0m \u001b[31m13.3 MB/s\u001b[0m eta \u001b[36m0:00:00\u001b[0m\n",
            "\u001b[?25hBuilding wheels for collected packages: emoji\n",
            "  Building wheel for emoji (setup.py) ... \u001b[?25l\u001b[?25hdone\n",
            "  Created wheel for emoji: filename=emoji-1.4.2-py3-none-any.whl size=186456 sha256=8839a75b9b25f2eb0b136f5285bfbec96a9ea105067af4a9a7a520c51faa86d9\n",
            "  Stored in directory: /root/.cache/pip/wheels/94/08/b4/78657b1541bb704b088317b52429ee4016d9888fe47dbb130f\n",
            "Successfully built emoji\n",
            "Installing collected packages: emoji, PyArabic, farasapy, arabert\n",
            "Successfully installed PyArabic-0.6.15 arabert-1.0.1 emoji-1.4.2 farasapy-0.0.14\n",
            "Requirement already satisfied: farasapy in /usr/local/lib/python3.11/dist-packages (0.0.14)\n",
            "Requirement already satisfied: requests in /usr/local/lib/python3.11/dist-packages (from farasapy) (2.32.3)\n",
            "Requirement already satisfied: tqdm in /usr/local/lib/python3.11/dist-packages (from farasapy) (4.67.1)\n",
            "Requirement already satisfied: charset-normalizer<4,>=2 in /usr/local/lib/python3.11/dist-packages (from requests->farasapy) (3.4.2)\n",
            "Requirement already satisfied: idna<4,>=2.5 in /usr/local/lib/python3.11/dist-packages (from requests->farasapy) (3.10)\n",
            "Requirement already satisfied: urllib3<3,>=1.21.1 in /usr/local/lib/python3.11/dist-packages (from requests->farasapy) (2.4.0)\n",
            "Requirement already satisfied: certifi>=2017.4.17 in /usr/local/lib/python3.11/dist-packages (from requests->farasapy) (2025.4.26)\n"
          ]
        }
      ]
    },
    {
      "cell_type": "code",
      "source": [
        "from arabert.preprocess import ArabertPreprocessor\n",
        "import pandas as pd\n",
        "import numpy as np\n",
        "from sklearn.model_selection import train_test_split\n",
        "from sklearn.metrics import classification_report, accuracy_score\n",
        "import torch\n",
        "from torch.utils.data import Dataset\n",
        "from sklearn.preprocessing import LabelEncoder\n",
        "from transformers import (\n",
        "    AutoTokenizer,\n",
        "    AutoModelForSequenceClassification,\n",
        "    Trainer,\n",
        "    TrainingArguments,\n",
        "    DataCollatorWithPadding\n",
        ")\n",
        "from transformers import TrainingArguments"
      ],
      "metadata": {
        "id": "-Y63HfefuXu7"
      },
      "execution_count": 32,
      "outputs": []
    },
    {
      "cell_type": "code",
      "source": [
        "tok = AutoTokenizer.from_pretrained('aubmindlab/bert-large-arabertv2')\n",
        "print(\"Training Sentence Lengths: \")\n",
        "df = pd.read_csv('/content/App Reviews-SingleLabel-Multiclass.csv')\n",
        "plt.hist([ len(tok.tokenize(sentence)) for sentence in df['review'].to_list()],bins=range(0,300,2))"
      ],
      "metadata": {
        "colab": {
          "base_uri": "https://localhost:8080/",
          "height": 1000,
          "referenced_widgets": [
            "0c3266589838437d8f992e455a4d606c",
            "bfae04a1846e4d358afc8b274765a173",
            "318a8914bc254dc0ab6e1a141d6c9409",
            "48ee67d378e7427db1bd4bc676bcab1a",
            "21486a549b8b49c388c678d95d2ea042",
            "842d9d26fdd34a6e8ef18026a04047c8",
            "2721c5a481974bb8a20dd028a2aa61dc",
            "23b8c21e7a404479874c3500026c14a4",
            "ac51ef8138404dc881da083cf93e9104",
            "ddd9f986b2e643f185355dcb59534b8f",
            "230540a3f9c148958c66658d32bbcbb1",
            "c4df6bceb4c44e43b00e5495573ec799",
            "57985ba6ca364d20b17b420f04592828",
            "0b9f3a35117b4439903e648fab4fd745",
            "ce168f5fa3a3443794367bdd7d53ae57",
            "6ab9fab6f15545c19a25b216ac1a1d8d",
            "e3ab8baf13e1442098ba8090e27b60d1",
            "e2caa09786714ee3a899dc78f1060c75",
            "cfc64005dde347628c8a9aa1ebea9a0b",
            "a7ee6114ba7a4b6ebcb6d80d3ed47c38",
            "ae2b935aea134bc8b040c61f18e6545e",
            "572ab0be1f2c484cbde2d2913dbfb88f",
            "2b2ba77cceff4277b85cfcbe1c65b0c3",
            "f9ed3eeaaab841bfbfa9e8375e5fd330",
            "a87c8e37ace04164a6edd77d827d8124",
            "30e6cdfda3c5404686bcff15aaae723d",
            "89d2b77f5d1c4e63a4bb9e056919dfc3",
            "8d19dbf17c724fdf9530c1bd4ee2aeb2",
            "99eaa643ae81444e93709891ad97874c",
            "1c51f8cbaa934997bf044263ba5b5dc2",
            "7863ed085c814326baa4b081fba7d4b3",
            "539f7f78a1504cd89ef908b1b668c118",
            "34af6a92a34143978245621a1eb25023",
            "bd1ca5a6758a41319f9e1448052c6516",
            "c513433fac8e47a2bb81484188b5347f",
            "0b541c338fb446a7b58918d5c568b95f",
            "96a08005a0124d5f84ed0ad16188cd62",
            "b4773bcb2e8b47bfb16cf406bd7aaf50",
            "638821c7209d4c0483c5fd093676bfd5",
            "920582bf9e1040559b1a7207d47f7522",
            "6de4ce5c23544b7b8d01fdebd95dfceb",
            "487ec47a32984175b76286295a19accb",
            "9671a49160554ddab59ebf3335736f23",
            "f7be8c93606549238e6223c146285393",
            "9f69bcf73cb44ffdbbeebc8934bf37e1",
            "886912cc9bcb4e769991cf4214543bd1",
            "2b6b9f47ecd44c7fae5321c7735bdf00",
            "4af368fbd1d740d39a12ab6d71c1fbf4",
            "d8e11b9fc41044ab807edc9137f9bbd6",
            "27ba3e69b5084ef4841a5bf79a9feff6",
            "0654cb854ca940f7b119632fff0a17d0",
            "14541dcba7484f19885ffc66faa6bdce",
            "e678041ccc414ea39a825974c79877ad",
            "50903c280ba94e75918d45443efc0056",
            "d68f295119404789b823eabee94442d3"
          ]
        },
        "id": "8vEOC-Lgi0Ym",
        "outputId": "18f9c5b1-3ba7-4844-9afc-ad45a2fd8c3a"
      },
      "execution_count": 33,
      "outputs": [
        {
          "output_type": "stream",
          "name": "stderr",
          "text": [
            "/usr/local/lib/python3.11/dist-packages/huggingface_hub/utils/_auth.py:94: UserWarning: \n",
            "The secret `HF_TOKEN` does not exist in your Colab secrets.\n",
            "To authenticate with the Hugging Face Hub, create a token in your settings tab (https://huggingface.co/settings/tokens), set it as secret in your Google Colab and restart your session.\n",
            "You will be able to reuse this secret in all of your notebooks.\n",
            "Please note that authentication is recommended but still optional to access public models or datasets.\n",
            "  warnings.warn(\n"
          ]
        },
        {
          "output_type": "display_data",
          "data": {
            "text/plain": [
              "tokenizer_config.json:   0%|          | 0.00/611 [00:00<?, ?B/s]"
            ],
            "application/vnd.jupyter.widget-view+json": {
              "version_major": 2,
              "version_minor": 0,
              "model_id": "0c3266589838437d8f992e455a4d606c"
            }
          },
          "metadata": {}
        },
        {
          "output_type": "display_data",
          "data": {
            "text/plain": [
              "config.json:   0%|          | 0.00/385 [00:00<?, ?B/s]"
            ],
            "application/vnd.jupyter.widget-view+json": {
              "version_major": 2,
              "version_minor": 0,
              "model_id": "c4df6bceb4c44e43b00e5495573ec799"
            }
          },
          "metadata": {}
        },
        {
          "output_type": "display_data",
          "data": {
            "text/plain": [
              "vocab.txt:   0%|          | 0.00/656k [00:00<?, ?B/s]"
            ],
            "application/vnd.jupyter.widget-view+json": {
              "version_major": 2,
              "version_minor": 0,
              "model_id": "2b2ba77cceff4277b85cfcbe1c65b0c3"
            }
          },
          "metadata": {}
        },
        {
          "output_type": "display_data",
          "data": {
            "text/plain": [
              "tokenizer.json:   0%|          | 0.00/2.31M [00:00<?, ?B/s]"
            ],
            "application/vnd.jupyter.widget-view+json": {
              "version_major": 2,
              "version_minor": 0,
              "model_id": "bd1ca5a6758a41319f9e1448052c6516"
            }
          },
          "metadata": {}
        },
        {
          "output_type": "display_data",
          "data": {
            "text/plain": [
              "special_tokens_map.json:   0%|          | 0.00/112 [00:00<?, ?B/s]"
            ],
            "application/vnd.jupyter.widget-view+json": {
              "version_major": 2,
              "version_minor": 0,
              "model_id": "9f69bcf73cb44ffdbbeebc8934bf37e1"
            }
          },
          "metadata": {}
        },
        {
          "output_type": "stream",
          "name": "stderr",
          "text": [
            "Token indices sequence length is longer than the specified maximum sequence length for this model (1008 > 512). Running this sequence through the model will result in indexing errors\n"
          ]
        },
        {
          "output_type": "stream",
          "name": "stdout",
          "text": [
            "Training Sentence Lengths: \n"
          ]
        },
        {
          "output_type": "execute_result",
          "data": {
            "text/plain": [
              "(array([  0.,  28., 132., 195., 274., 307., 264., 217., 189., 166., 146.,\n",
              "        129., 102.,  86.,  57.,  69.,  41.,  40.,  47.,  26.,  36.,  33.,\n",
              "         26.,  22.,  33.,  26.,  12.,  20.,  18.,  10.,   9.,   8.,  12.,\n",
              "          9.,  10.,  11.,   5.,   3.,   7.,   7.,   3.,   1.,   4.,   0.,\n",
              "          1.,   0.,   3.,   2.,   4.,   2.,   2.,   3.,   1.,   2.,   2.,\n",
              "          0.,   4.,   5.,   1.,   1.,   1.,   3.,   1.,   0.,   0.,   0.,\n",
              "          0.,   1.,   0.,   2.,   0.,   5.,   2.,   1.,   2.,   2.,   0.,\n",
              "          1.,   1.,   0.,   0.,   0.,   0.,   0.,   1.,   0.,   0.,   0.,\n",
              "          0.,   0.,   0.,   0.,   0.,   0.,   0.,   0.,   0.,   0.,   0.,\n",
              "          0.,   0.,   0.,   0.,   0.,   0.,   0.,   0.,   0.,   0.,   0.,\n",
              "          0.,   0.,   0.,   0.,   0.,   0.,   0.,   0.,   0.,   0.,   0.,\n",
              "          0.,   0.,   0.,   0.,   0.,   0.,   0.,   0.,   0.,   1.,   0.,\n",
              "          0.,   0.,   0.,   0.,   0.,   0.,   0.,   0.,   0.,   0.,   0.,\n",
              "          0.,   0.,   0.,   0.,   0.,   0.]),\n",
              " array([  0.,   2.,   4.,   6.,   8.,  10.,  12.,  14.,  16.,  18.,  20.,\n",
              "         22.,  24.,  26.,  28.,  30.,  32.,  34.,  36.,  38.,  40.,  42.,\n",
              "         44.,  46.,  48.,  50.,  52.,  54.,  56.,  58.,  60.,  62.,  64.,\n",
              "         66.,  68.,  70.,  72.,  74.,  76.,  78.,  80.,  82.,  84.,  86.,\n",
              "         88.,  90.,  92.,  94.,  96.,  98., 100., 102., 104., 106., 108.,\n",
              "        110., 112., 114., 116., 118., 120., 122., 124., 126., 128., 130.,\n",
              "        132., 134., 136., 138., 140., 142., 144., 146., 148., 150., 152.,\n",
              "        154., 156., 158., 160., 162., 164., 166., 168., 170., 172., 174.,\n",
              "        176., 178., 180., 182., 184., 186., 188., 190., 192., 194., 196.,\n",
              "        198., 200., 202., 204., 206., 208., 210., 212., 214., 216., 218.,\n",
              "        220., 222., 224., 226., 228., 230., 232., 234., 236., 238., 240.,\n",
              "        242., 244., 246., 248., 250., 252., 254., 256., 258., 260., 262.,\n",
              "        264., 266., 268., 270., 272., 274., 276., 278., 280., 282., 284.,\n",
              "        286., 288., 290., 292., 294., 296., 298.]),\n",
              " <BarContainer object of 149 artists>)"
            ]
          },
          "metadata": {},
          "execution_count": 33
        },
        {
          "output_type": "display_data",
          "data": {
            "text/plain": [
              "<Figure size 640x480 with 1 Axes>"
            ],
            "image/png": "[encoded data removed]"
          },
          "metadata": {}
        }
      ]
    },
    {
      "cell_type": "code",
      "source": [
        "print(\"Truncated training sequences: \", sum([len(tok.tokenize(sentence)) > 200 for sentence in df['review'].to_list()]))"
      ],
      "metadata": {
        "colab": {
          "base_uri": "https://localhost:8080/"
        },
        "id": "qZUySQAsjbHY",
        "outputId": "07ca3711-2de9-4694-b85b-eeb34e732337"
      },
      "execution_count": 34,
      "outputs": [
        {
          "output_type": "stream",
          "name": "stdout",
          "text": [
            "Truncated training sequences:  4\n"
          ]
        }
      ]
    },
    {
      "cell_type": "code",
      "source": [
        "import pandas as pd\n",
        "import numpy as np\n",
        "import torch\n",
        "from torch.utils.data import Dataset\n",
        "from sklearn.model_selection import train_test_split\n",
        "from sklearn.metrics import f1_score, accuracy_score\n",
        "\n",
        "from transformers import (\n",
        "    AutoTokenizer,\n",
        "    AutoModelForSequenceClassification,\n",
        "    Trainer,\n",
        "    TrainingArguments,\n",
        "    DataCollatorWithPadding,\n",
        "    EarlyStoppingCallback\n",
        ")"
      ],
      "metadata": {
        "id": "gazxSVnn-QzF"
      },
      "execution_count": 54,
      "outputs": []
    },
    {
      "cell_type": "code",
      "source": [
        "def compute_metrics(eval_pred):\n",
        "    logits, labels = eval_pred\n",
        "    preds = np.argmax(logits, axis=-1)\n",
        "    return {\n",
        "        'accuracy': accuracy_score(labels, preds),\n",
        "        **{f'{lab}_f1': score\n",
        "           for lab, score in\n",
        "           zip(label_names,\n",
        "               __import__('sklearn.metrics').metrics.f1_score(\n",
        "                   labels, preds, average=None\n",
        "               ))\n",
        "        }\n",
        "    }"
      ],
      "metadata": {
        "id": "Rx1OpLfCxD28"
      },
      "execution_count": 55,
      "outputs": []
    },
    {
      "cell_type": "code",
      "source": [
        "le = LabelEncoder()\n",
        "df_train = pd.read_csv('train.csv')\n",
        "df_val = pd.read_csv('val.csv')\n",
        "df_test = pd.read_csv('test.csv')\n",
        "\n",
        "df_train['Label'] = le.fit_transform(df_train['Label'])\n",
        "# now transform val & test\n",
        "df_val  ['Label'] = le.transform(df_val['Label'])\n",
        "df_test ['Label'] = le.transform(df_test['Label'])\n",
        "label_names = le.classes_\n",
        "# Dataset class to feed into AraBert\n",
        "class ReviewDataset(Dataset):\n",
        "    def __init__(self, texts, labels, tokenizer, max_len=128):\n",
        "        self.texts = texts\n",
        "        self.labels = labels\n",
        "        self.tokenizer = tokenizer\n",
        "        self.max_len = max_len\n",
        "\n",
        "    def __len__(self):\n",
        "        return len(self.texts)\n",
        "\n",
        "    def __getitem__(self, idx):\n",
        "        enc = self.tokenizer(\n",
        "            self.texts[idx],\n",
        "            truncation=True,\n",
        "            max_length=self.max_len,\n",
        "            return_tensors='pt'\n",
        "        )\n",
        "        item = {k: v.squeeze(0) for k, v in enc.items()}\n",
        "        item['labels'] = torch.tensor(self.labels[idx], dtype=torch.long)\n",
        "        return item\n",
        "\n",
        "# AraBERT preprocessing\n",
        "from arabert.preprocess import ArabertPreprocessor\n",
        "prep = ArabertPreprocessor('aubmindlab/bert-large-arabertv2')\n",
        "for df_ in (df_train, df_val, df_test):\n",
        "    df_['review'] = df_['review'].apply(prep.preprocess)\n",
        "\n",
        "# create dataset and get tokenizer ( pretrained )\n",
        "MODEL_NAME = 'aubmindlab/bert-large-arabertv2'\n",
        "tokenizer = AutoTokenizer.from_pretrained(MODEL_NAME)\n",
        "\n",
        "train_ds = ReviewDataset(\n",
        "    df_train['review'].tolist(),\n",
        "    df_train['Label'].tolist(),\n",
        "    tokenizer\n",
        ")\n",
        "val_ds = ReviewDataset(\n",
        "    df_val['review'].tolist(),\n",
        "    df_val['Label'].tolist(),\n",
        "    tokenizer\n",
        ")\n",
        "test_ds = ReviewDataset(\n",
        "    df_test['review'].tolist(),\n",
        "    df_test['Label'].tolist(),\n",
        "    tokenizer\n",
        ")\n",
        "\n",
        "data_collator = DataCollatorWithPadding(tokenizer=tokenizer)\n",
        "\n",
        "# build the MLM\n",
        "model = AutoModelForSequenceClassification.from_pretrained(\n",
        "    MODEL_NAME,\n",
        "    num_labels=num_labels\n",
        ")\n",
        "\n",
        "# training arguments\n",
        "training_args = TrainingArguments(\n",
        "    output_dir='./bert_reviews',\n",
        "    overwrite_output_dir=True,\n",
        "\n",
        "    # enable training & evaluation\n",
        "    do_train=True,\n",
        "    do_eval=True,\n",
        "\n",
        "    # run eval and saving at the end of each epoch\n",
        "    eval_strategy='epoch',\n",
        "    save_strategy='epoch',\n",
        "    save_total_limit=1,        # keep only the best/last checkpoint\n",
        "\n",
        "    # core hyperparameters\n",
        "    learning_rate=1e-5,\n",
        "    per_device_train_batch_size=16,\n",
        "    per_device_eval_batch_size=32,\n",
        "    num_train_epochs=10,\n",
        "    weight_decay=0.01,\n",
        "\n",
        "    # log every 100 steps\n",
        "    logging_strategy='steps',\n",
        "    logging_steps=100,\n",
        "\n",
        "    # pick up the best model automatically\n",
        "    load_best_model_at_end=True,\n",
        "    metric_for_best_model='accuracy',\n",
        "    greater_is_better=True,\n",
        ")\n",
        "# 8) TRAINER\n",
        "trainer = Trainer(\n",
        "    model=model,\n",
        "    args=training_args,\n",
        "    train_dataset=train_ds,\n",
        "    eval_dataset=val_ds,\n",
        "    tokenizer=tokenizer,\n",
        "    data_collator=data_collator,        # ← pad to max length in each batch\n",
        "    compute_metrics=compute_metrics,\n",
        "    callbacks=[EarlyStoppingCallback(early_stopping_patience=3)]\n",
        ")\n",
        "\n",
        "# 9) RUN TRAINING\n",
        "trainer.train()\n",
        "\n",
        "# 10) EVALUATION\n",
        "metrics = trainer.evaluate()\n",
        "print(metrics)"
      ],
      "metadata": {
        "colab": {
          "base_uri": "https://localhost:8080/",
          "height": 470
        },
        "id": "d6yLQBymC9oN",
        "outputId": "69213da8-134f-4bf3-b11b-9a3722fef965"
      },
      "execution_count": 59,
      "outputs": [
        {
          "output_type": "stream",
          "name": "stderr",
          "text": [
            "[2025-05-12 19:32:08,125 - farasapy_logger - WARNING]: Be careful with large lines as they may break on interactive mode. You may switch to Standalone mode for such cases.\n",
            "Some weights of BertForSequenceClassification were not initialized from the model checkpoint at aubmindlab/bert-large-arabertv2 and are newly initialized: ['classifier.bias', 'classifier.weight']\n",
            "You should probably TRAIN this model on a down-stream task to be able to use it for predictions and inference.\n",
            "<ipython-input-59-b3550855a6ff>:98: FutureWarning: `tokenizer` is deprecated and will be removed in version 5.0.0 for `Trainer.__init__`. Use `processing_class` instead.\n",
            "  trainer = Trainer(\n"
          ]
        },
        {
          "output_type": "display_data",
          "data": {
            "text/plain": [
              "<IPython.core.display.HTML object>"
            ],
            "text/html": [
              "\n",
              "    <div>\n",
              "      \n",
              "      <progress value='992' max='1240' style='width:300px; height:20px; vertical-align: middle;'></progress>\n",
              "      [ 992/1240 04:49 < 01:12, 3.41 it/s, Epoch 8/10]\n",
              "    </div>\n",
              "    <table border=\"1\" class=\"dataframe\">\n",
              "  <thead>\n",
              " <tr style=\"text-align: left;\">\n",
              "      <th>Epoch</th>\n",
              "      <th>Training Loss</th>\n",
              "      <th>Validation Loss</th>\n",
              "      <th>Accuracy</th>\n",
              "      <th>Bug Report F1</th>\n",
              "      <th>Improvement Request F1</th>\n",
              "      <th>Others F1</th>\n",
              "      <th>Rating F1</th>\n",
              "    </tr>\n",
              "  </thead>\n",
              "  <tbody>\n",
              "    <tr>\n",
              "      <td>1</td>\n",
              "      <td>1.176000</td>\n",
              "      <td>0.964054</td>\n",
              "      <td>0.620690</td>\n",
              "      <td>0.707965</td>\n",
              "      <td>0.000000</td>\n",
              "      <td>0.040816</td>\n",
              "      <td>0.733696</td>\n",
              "    </tr>\n",
              "    <tr>\n",
              "      <td>2</td>\n",
              "      <td>0.901600</td>\n",
              "      <td>0.711625</td>\n",
              "      <td>0.758621</td>\n",
              "      <td>0.798030</td>\n",
              "      <td>0.595238</td>\n",
              "      <td>0.563380</td>\n",
              "      <td>0.816568</td>\n",
              "    </tr>\n",
              "    <tr>\n",
              "      <td>3</td>\n",
              "      <td>0.655200</td>\n",
              "      <td>0.669422</td>\n",
              "      <td>0.744253</td>\n",
              "      <td>0.748768</td>\n",
              "      <td>0.652632</td>\n",
              "      <td>0.593407</td>\n",
              "      <td>0.814332</td>\n",
              "    </tr>\n",
              "    <tr>\n",
              "      <td>4</td>\n",
              "      <td>0.539500</td>\n",
              "      <td>0.658771</td>\n",
              "      <td>0.761494</td>\n",
              "      <td>0.779661</td>\n",
              "      <td>0.716981</td>\n",
              "      <td>0.588235</td>\n",
              "      <td>0.823151</td>\n",
              "    </tr>\n",
              "    <tr>\n",
              "      <td>5</td>\n",
              "      <td>0.328500</td>\n",
              "      <td>0.700922</td>\n",
              "      <td>0.790230</td>\n",
              "      <td>0.788889</td>\n",
              "      <td>0.763636</td>\n",
              "      <td>0.632653</td>\n",
              "      <td>0.850649</td>\n",
              "    </tr>\n",
              "    <tr>\n",
              "      <td>6</td>\n",
              "      <td>0.256300</td>\n",
              "      <td>0.731623</td>\n",
              "      <td>0.784483</td>\n",
              "      <td>0.791444</td>\n",
              "      <td>0.720000</td>\n",
              "      <td>0.652174</td>\n",
              "      <td>0.839117</td>\n",
              "    </tr>\n",
              "    <tr>\n",
              "      <td>7</td>\n",
              "      <td>0.248300</td>\n",
              "      <td>0.766653</td>\n",
              "      <td>0.784483</td>\n",
              "      <td>0.779661</td>\n",
              "      <td>0.756757</td>\n",
              "      <td>0.638298</td>\n",
              "      <td>0.840764</td>\n",
              "    </tr>\n",
              "    <tr>\n",
              "      <td>8</td>\n",
              "      <td>0.183200</td>\n",
              "      <td>0.796866</td>\n",
              "      <td>0.784483</td>\n",
              "      <td>0.784530</td>\n",
              "      <td>0.763636</td>\n",
              "      <td>0.645833</td>\n",
              "      <td>0.834951</td>\n",
              "    </tr>\n",
              "  </tbody>\n",
              "</table><p>"
            ]
          },
          "metadata": {}
        },
        {
          "output_type": "display_data",
          "data": {
            "text/plain": [
              "<IPython.core.display.HTML object>"
            ],
            "text/html": [
              "\n",
              "    <div>\n",
              "      \n",
              "      <progress value='11' max='11' style='width:300px; height:20px; vertical-align: middle;'></progress>\n",
              "      [11/11 00:01]\n",
              "    </div>\n",
              "    "
            ]
          },
          "metadata": {}
        },
        {
          "output_type": "stream",
          "name": "stdout",
          "text": [
            "{'eval_loss': 0.7009221911430359, 'eval_accuracy': 0.7902298850574713, 'eval_bug_report_f1': 0.7888888888888889, 'eval_improvement_request_f1': 0.7636363636363637, 'eval_others_f1': 0.6326530612244898, 'eval_rating_f1': 0.8506493506493507, 'eval_runtime': 1.3635, 'eval_samples_per_second': 255.223, 'eval_steps_per_second': 8.067, 'epoch': 8.0}\n"
          ]
        }
      ]
    },
    {
      "cell_type": "code",
      "source": [
        "preds_output = trainer.predict(test_ds)\n",
        "preds = np.argmax(preds_output.predictions, axis=-1)\n",
        "print(classification_report(df_test['Label'], preds, target_names=[str(l) for l in label_names]))"
      ],
      "metadata": {
        "id": "kV2hp2PKxlYB",
        "colab": {
          "base_uri": "https://localhost:8080/",
          "height": 208
        },
        "outputId": "e85e7d8e-136f-4152-b048-890e1304240d"
      },
      "execution_count": 60,
      "outputs": [
        {
          "output_type": "display_data",
          "data": {
            "text/plain": [
              "<IPython.core.display.HTML object>"
            ],
            "text/html": []
          },
          "metadata": {}
        },
        {
          "output_type": "stream",
          "name": "stdout",
          "text": [
            "                     precision    recall  f1-score   support\n",
            "\n",
            "         bug_report       0.83      0.75      0.79       151\n",
            "improvement_request       0.60      0.73      0.66        88\n",
            "             others       0.66      0.65      0.66        81\n",
            "             rating       0.81      0.80      0.80       260\n",
            "\n",
            "           accuracy                           0.76       580\n",
            "          macro avg       0.73      0.73      0.73       580\n",
            "       weighted avg       0.76      0.76      0.76       580\n",
            "\n"
          ]
        }
      ]
    },
    {
      "cell_type": "markdown",
      "source": [
        "#With Augmentation"
      ],
      "metadata": {
        "id": "NOJ59kv7w9dn"
      }
    },
    {
      "cell_type": "code",
      "source": [
        "le = LabelEncoder()\n",
        "df_train = pd.read_csv('train_augmented.csv')\n",
        "df_val = pd.read_csv('val.csv')\n",
        "df_test = pd.read_csv('test.csv')\n",
        "\n",
        "df_train['Label'] = le.fit_transform(df_train['Label'])\n",
        "# now transform val & test\n",
        "df_val  ['Label'] = le.transform(df_val['Label'])\n",
        "df_test ['Label'] = le.transform(df_test['Label'])\n",
        "label_names = le.classes_\n",
        "# Dataset class to feed into AraBert\n",
        "class ReviewDataset(Dataset):\n",
        "    def __init__(self, texts, labels, tokenizer, max_len=128):\n",
        "        self.texts = texts\n",
        "        self.labels = labels\n",
        "        self.tokenizer = tokenizer\n",
        "        self.max_len = max_len\n",
        "\n",
        "    def __len__(self):\n",
        "        return len(self.texts)\n",
        "\n",
        "    def __getitem__(self, idx):\n",
        "        enc = self.tokenizer(\n",
        "            self.texts[idx],\n",
        "            truncation=True,\n",
        "            max_length=self.max_len,\n",
        "            return_tensors='pt'\n",
        "        )\n",
        "        item = {k: v.squeeze(0) for k, v in enc.items()}\n",
        "        item['labels'] = torch.tensor(self.labels[idx], dtype=torch.long)\n",
        "        return item\n",
        "\n",
        "# AraBERT preprocessing\n",
        "from arabert.preprocess import ArabertPreprocessor\n",
        "prep = ArabertPreprocessor('aubmindlab/bert-large-arabertv2')\n",
        "for df_ in (df_train, df_val, df_test):\n",
        "    df_['review'] = df_['review'].apply(prep.preprocess)\n",
        "\n",
        "# create dataset and get tokenizer ( pretrained )\n",
        "MODEL_NAME = 'aubmindlab/bert-large-arabertv2'\n",
        "tokenizer = AutoTokenizer.from_pretrained(MODEL_NAME)\n",
        "\n",
        "train_ds = ReviewDataset(\n",
        "    df_train['review'].tolist(),\n",
        "    df_train['Label'].tolist(),\n",
        "    tokenizer\n",
        ")\n",
        "val_ds = ReviewDataset(\n",
        "    df_val['review'].tolist(),\n",
        "    df_val['Label'].tolist(),\n",
        "    tokenizer\n",
        ")\n",
        "test_ds = ReviewDataset(\n",
        "    df_test['review'].tolist(),\n",
        "    df_test['Label'].tolist(),\n",
        "    tokenizer\n",
        ")\n",
        "\n",
        "data_collator = DataCollatorWithPadding(tokenizer=tokenizer)\n",
        "\n",
        "# build the MLM\n",
        "model = AutoModelForSequenceClassification.from_pretrained(\n",
        "    MODEL_NAME,\n",
        "    num_labels=num_labels\n",
        ")\n",
        "\n",
        "# training arguments\n",
        "training_args = TrainingArguments(\n",
        "    output_dir='./bert_reviews',\n",
        "    overwrite_output_dir=True,\n",
        "\n",
        "    # enable training & evaluation\n",
        "    do_train=True,\n",
        "    do_eval=True,\n",
        "\n",
        "    # run eval and saving at the end of each epoch\n",
        "    eval_strategy='epoch',\n",
        "    save_strategy='epoch',\n",
        "    save_total_limit=1,        # keep only the best/last checkpoint\n",
        "\n",
        "    # core hyperparameters\n",
        "    learning_rate=1e-5,\n",
        "    per_device_train_batch_size=16,\n",
        "    per_device_eval_batch_size=32,\n",
        "    num_train_epochs=10,\n",
        "    weight_decay=0.01,\n",
        "\n",
        "    # log every 100 steps\n",
        "    logging_strategy='steps',\n",
        "    logging_steps=100,\n",
        "\n",
        "    # pick up the best model automatically\n",
        "    load_best_model_at_end=True,\n",
        "    metric_for_best_model='accuracy',\n",
        "    greater_is_better=True,\n",
        ")\n",
        "# 8) TRAINER\n",
        "trainer = Trainer(\n",
        "    model=model,\n",
        "    args=training_args,\n",
        "    train_dataset=train_ds,\n",
        "    eval_dataset=val_ds,\n",
        "    tokenizer=tokenizer,\n",
        "    data_collator=data_collator,        # padding to max length in each batch\n",
        "    compute_metrics=compute_metrics,\n",
        "    callbacks=[EarlyStoppingCallback(early_stopping_patience=3)]\n",
        ")\n",
        "\n",
        "# 9) RUN TRAINING\n",
        "trainer.train()\n",
        "\n",
        "# 10) EVALUATION\n",
        "metrics = trainer.evaluate()\n",
        "print(metrics)"
      ],
      "metadata": {
        "id": "CNxBoC6Zw86p",
        "colab": {
          "base_uri": "https://localhost:8080/",
          "height": 408
        },
        "outputId": "c7feac41-b7e0-4700-8934-bba5784eafc9"
      },
      "execution_count": 61,
      "outputs": [
        {
          "output_type": "stream",
          "name": "stderr",
          "text": [
            "[2025-05-12 19:38:33,028 - farasapy_logger - WARNING]: Be careful with large lines as they may break on interactive mode. You may switch to Standalone mode for such cases.\n",
            "Some weights of BertForSequenceClassification were not initialized from the model checkpoint at aubmindlab/bert-large-arabertv2 and are newly initialized: ['classifier.bias', 'classifier.weight']\n",
            "You should probably TRAIN this model on a down-stream task to be able to use it for predictions and inference.\n",
            "<ipython-input-61-68117a8ca626>:98: FutureWarning: `tokenizer` is deprecated and will be removed in version 5.0.0 for `Trainer.__init__`. Use `processing_class` instead.\n",
            "  trainer = Trainer(\n"
          ]
        },
        {
          "output_type": "display_data",
          "data": {
            "text/plain": [
              "<IPython.core.display.HTML object>"
            ],
            "text/html": [
              "\n",
              "    <div>\n",
              "      \n",
              "      <progress value='1800' max='3000' style='width:300px; height:20px; vertical-align: middle;'></progress>\n",
              "      [1800/3000 05:53 < 03:55, 5.09 it/s, Epoch 6/10]\n",
              "    </div>\n",
              "    <table border=\"1\" class=\"dataframe\">\n",
              "  <thead>\n",
              " <tr style=\"text-align: left;\">\n",
              "      <th>Epoch</th>\n",
              "      <th>Training Loss</th>\n",
              "      <th>Validation Loss</th>\n",
              "      <th>Accuracy</th>\n",
              "      <th>Bug Report F1</th>\n",
              "      <th>Improvement Request F1</th>\n",
              "      <th>Others F1</th>\n",
              "      <th>Rating F1</th>\n",
              "    </tr>\n",
              "  </thead>\n",
              "  <tbody>\n",
              "    <tr>\n",
              "      <td>1</td>\n",
              "      <td>0.407600</td>\n",
              "      <td>0.894795</td>\n",
              "      <td>0.681034</td>\n",
              "      <td>0.775510</td>\n",
              "      <td>0.307692</td>\n",
              "      <td>0.411765</td>\n",
              "      <td>0.762712</td>\n",
              "    </tr>\n",
              "    <tr>\n",
              "      <td>2</td>\n",
              "      <td>0.248900</td>\n",
              "      <td>0.778468</td>\n",
              "      <td>0.752874</td>\n",
              "      <td>0.769231</td>\n",
              "      <td>0.666667</td>\n",
              "      <td>0.626506</td>\n",
              "      <td>0.815068</td>\n",
              "    </tr>\n",
              "    <tr>\n",
              "      <td>3</td>\n",
              "      <td>0.217600</td>\n",
              "      <td>0.731596</td>\n",
              "      <td>0.798851</td>\n",
              "      <td>0.797688</td>\n",
              "      <td>0.779661</td>\n",
              "      <td>0.666667</td>\n",
              "      <td>0.847896</td>\n",
              "    </tr>\n",
              "    <tr>\n",
              "      <td>4</td>\n",
              "      <td>0.144900</td>\n",
              "      <td>0.784157</td>\n",
              "      <td>0.790230</td>\n",
              "      <td>0.777778</td>\n",
              "      <td>0.727273</td>\n",
              "      <td>0.651163</td>\n",
              "      <td>0.856250</td>\n",
              "    </tr>\n",
              "    <tr>\n",
              "      <td>5</td>\n",
              "      <td>0.096000</td>\n",
              "      <td>0.957699</td>\n",
              "      <td>0.781609</td>\n",
              "      <td>0.784530</td>\n",
              "      <td>0.728972</td>\n",
              "      <td>0.672897</td>\n",
              "      <td>0.837209</td>\n",
              "    </tr>\n",
              "    <tr>\n",
              "      <td>6</td>\n",
              "      <td>0.074400</td>\n",
              "      <td>1.001565</td>\n",
              "      <td>0.784483</td>\n",
              "      <td>0.780749</td>\n",
              "      <td>0.725490</td>\n",
              "      <td>0.637363</td>\n",
              "      <td>0.848101</td>\n",
              "    </tr>\n",
              "  </tbody>\n",
              "</table><p>"
            ]
          },
          "metadata": {}
        },
        {
          "output_type": "display_data",
          "data": {
            "text/plain": [
              "<IPython.core.display.HTML object>"
            ],
            "text/html": [
              "\n",
              "    <div>\n",
              "      \n",
              "      <progress value='11' max='11' style='width:300px; height:20px; vertical-align: middle;'></progress>\n",
              "      [11/11 00:01]\n",
              "    </div>\n",
              "    "
            ]
          },
          "metadata": {}
        },
        {
          "output_type": "stream",
          "name": "stdout",
          "text": [
            "{'eval_loss': 0.7315958738327026, 'eval_accuracy': 0.7988505747126436, 'eval_bug_report_f1': 0.7976878612716763, 'eval_improvement_request_f1': 0.7796610169491526, 'eval_others_f1': 0.6666666666666666, 'eval_rating_f1': 0.8478964401294499, 'eval_runtime': 1.3884, 'eval_samples_per_second': 250.655, 'eval_steps_per_second': 7.923, 'epoch': 6.0}\n"
          ]
        }
      ]
    },
    {
      "cell_type": "code",
      "source": [
        "preds_output = trainer.predict(test_ds)\n",
        "preds = np.argmax(preds_output.predictions, axis=-1)\n",
        "print(classification_report(df_test['Label'], preds, target_names=[str(l) for l in label_names]))"
      ],
      "metadata": {
        "colab": {
          "base_uri": "https://localhost:8080/",
          "height": 208
        },
        "id": "MNujmWaZzqnw",
        "outputId": "f926b134-c105-4f4b-f402-48bd57361afd"
      },
      "execution_count": 62,
      "outputs": [
        {
          "output_type": "display_data",
          "data": {
            "text/plain": [
              "<IPython.core.display.HTML object>"
            ],
            "text/html": []
          },
          "metadata": {}
        },
        {
          "output_type": "stream",
          "name": "stdout",
          "text": [
            "                     precision    recall  f1-score   support\n",
            "\n",
            "         bug_report       0.81      0.72      0.76       151\n",
            "improvement_request       0.57      0.73      0.64        88\n",
            "             others       0.62      0.69      0.65        81\n",
            "             rating       0.83      0.78      0.81       260\n",
            "\n",
            "           accuracy                           0.74       580\n",
            "          macro avg       0.71      0.73      0.71       580\n",
            "       weighted avg       0.76      0.74      0.75       580\n",
            "\n"
          ]
        }
      ]
    },
    {
      "cell_type": "markdown",
      "source": [
        "Classification analysis and possible improvements."
      ],
      "metadata": {
        "id": "Vo3MKwTlC_XV"
      }
    },
    {
      "cell_type": "markdown",
      "source": [
        "MLM performance is better than RNN scratch by a big gap which tells is how its pretrained weights can help us in making it domain specific.\n",
        "\n",
        "more epochs to train more with a bigger dataset"
      ],
      "metadata": {
        "id": "AkD82NW1MCMc"
      }
    },
    {
      "cell_type": "markdown",
      "source": [
        "#Part-E [15 points]: Multilabel App Review Classification: Finetune an MLM"
      ],
      "metadata": {
        "id": "j73dzo7BDAtG"
      }
    },
    {
      "cell_type": "markdown",
      "source": [
        "Fine-tune a Bert-type model like Arabert or Marbert"
      ],
      "metadata": {
        "id": "X_TlbGZ9DC9K"
      }
    },
    {
      "cell_type": "code",
      "source": [
        "df_train = pd.read_csv('train_multi.csv')\n",
        "df_val = pd.read_csv('val_multi.csv')\n",
        "df_test = pd.read_csv('test_multi.csv')\n",
        "\n",
        "\n",
        "TEXT_COL = \"review\"\n",
        "LABEL_COLS = ['bug_report','improvement_request','rating','others']\n",
        "num_labels = len(LABEL_COLS)\n",
        "\n",
        "# ensure label columns are ints 0/1\n",
        "df_train[LABEL_COLS] = df_train[LABEL_COLS].astype(int)\n",
        "df_val[LABEL_COLS]   = df_val[LABEL_COLS].astype(int)\n",
        "df_test[LABEL_COLS]  = df_test[LABEL_COLS].astype(int)\n",
        "\n",
        "\n",
        "# AraBERT preprocessing\n",
        "from arabert.preprocess import ArabertPreprocessor\n",
        "prep = ArabertPreprocessor('aubmindlab/bert-large-arabertv2')\n",
        "for df_ in (df_train, df_val, df_test):\n",
        "    df_['review'] = df_['review'].apply(prep.preprocess)\n",
        "\n",
        "MODEL_NAME = 'aubmindlab/bert-large-arabertv2'\n",
        "tokenizer = AutoTokenizer.from_pretrained(MODEL_NAME)\n",
        "\n",
        "class ReviewDataset(Dataset):\n",
        "    def __init__(self, texts, labels, tokenizer):\n",
        "        self.texts     = texts\n",
        "        self.labels    = labels\n",
        "        self.tokenizer = tokenizer\n",
        "\n",
        "    def __len__(self):\n",
        "        return len(self.texts)\n",
        "\n",
        "    def __getitem__(self, idx):\n",
        "        # tokenize the text\n",
        "        encoding = self.tokenizer(\n",
        "            self.texts[idx],\n",
        "            truncation=True,\n",
        "            padding=False,\n",
        "            return_tensors=\"pt\"\n",
        "        )\n",
        "        # convert label row to float\n",
        "        label_tensor = torch.tensor(self.labels[idx], dtype=torch.float)\n",
        "        # HuggingFace Trainer will pick up encoding[\"labels\"]\n",
        "        encoding[\"labels\"] = label_tensor\n",
        "        # remove the extra batch dim\n",
        "        return {k: v.squeeze(0) for k, v in encoding.items()}\n",
        "\n",
        "train_ds = ReviewDataset(df_train[TEXT_COL].tolist(),\n",
        "                         df_train[LABEL_COLS].values,\n",
        "                         tokenizer)\n",
        "val_ds   = ReviewDataset(df_val[TEXT_COL].tolist(),\n",
        "                         df_val[LABEL_COLS].values,\n",
        "                         tokenizer)\n",
        "test_ds  = ReviewDataset(test_df[TEXT_COL].tolist(),\n",
        "                         df_test[LABEL_COLS].values,\n",
        "                         tokenizer)\n",
        "\n",
        "data_collator = DataCollatorWithPadding(tokenizer)\n",
        "\n",
        "# model (multilabel)\n",
        "model = AutoModelForSequenceClassification.from_pretrained(\n",
        "    MODEL_NAME,\n",
        "    num_labels=num_labels,\n",
        "    problem_type=\"multi_label_classification\"  # triggers BCEWithLogitsLoss\n",
        ")\n",
        "\n",
        "training_args = TrainingArguments(\n",
        "    output_dir=\"./bert_multilabel\",\n",
        "    overwrite_output_dir=True,\n",
        "    do_train=True,\n",
        "    do_eval=True,\n",
        "    eval_strategy=\"epoch\",\n",
        "    save_strategy=\"epoch\",\n",
        "    save_total_limit=1,\n",
        "    per_device_train_batch_size=16,\n",
        "    per_device_eval_batch_size=32,\n",
        "    learning_rate=1e-5,\n",
        "    weight_decay=0.01,\n",
        "    num_train_epochs=10,\n",
        "    logging_strategy=\"steps\",\n",
        "    logging_steps=100,\n",
        "    load_best_model_at_end=True,\n",
        "    metric_for_best_model=\"micro_f1\",\n",
        "    greater_is_better=True,\n",
        ")\n",
        "\n",
        "# metric\n",
        "def compute_metrics(eval_pred):\n",
        "    logits, labels = eval_pred\n",
        "    probs = torch.sigmoid(torch.tensor(logits)).numpy()\n",
        "    preds = (probs >= 0.5).astype(int)\n",
        "    labels = labels.astype(int)\n",
        "\n",
        "    micro_f1 = f1_score(labels, preds, average=\"micro\")\n",
        "    macro_f1 = f1_score(labels, preds, average=\"macro\")\n",
        "    subset_acc = accuracy_score(labels, preds)\n",
        "\n",
        "    return {\n",
        "        \"micro_f1\": micro_f1,\n",
        "        \"macro_f1\": macro_f1,\n",
        "        \"subset_accuracy\": subset_acc\n",
        "    }\n",
        "\n",
        "trainer = Trainer(\n",
        "    model=model,\n",
        "    args=training_args,\n",
        "    train_dataset=train_ds,\n",
        "    eval_dataset=val_ds,\n",
        "    tokenizer=tokenizer,\n",
        "    data_collator=data_collator,\n",
        "    compute_metrics=compute_metrics,\n",
        "    callbacks=[EarlyStoppingCallback(early_stopping_patience=3)]\n",
        ")\n",
        "\n",
        "# train and evaluate\n",
        "trainer.train()\n",
        "print(trainer.evaluate())"
      ],
      "metadata": {
        "colab": {
          "base_uri": "https://localhost:8080/",
          "height": 533
        },
        "id": "fyg5XzoMDAU8",
        "outputId": "bcc3c4a9-4976-49eb-a71e-f683b4f5168a"
      },
      "execution_count": 63,
      "outputs": [
        {
          "output_type": "stream",
          "name": "stderr",
          "text": [
            "[2025-05-12 19:45:20,963 - farasapy_logger - WARNING]: Be careful with large lines as they may break on interactive mode. You may switch to Standalone mode for such cases.\n",
            "Some weights of BertForSequenceClassification were not initialized from the model checkpoint at aubmindlab/bert-large-arabertv2 and are newly initialized: ['classifier.bias', 'classifier.weight']\n",
            "You should probably TRAIN this model on a down-stream task to be able to use it for predictions and inference.\n",
            "<ipython-input-63-c813f3b5ce40>:105: FutureWarning: `tokenizer` is deprecated and will be removed in version 5.0.0 for `Trainer.__init__`. Use `processing_class` instead.\n",
            "  trainer = Trainer(\n"
          ]
        },
        {
          "output_type": "display_data",
          "data": {
            "text/plain": [
              "<IPython.core.display.HTML object>"
            ],
            "text/html": [
              "\n",
              "    <div>\n",
              "      \n",
              "      <progress value='1240' max='1240' style='width:300px; height:20px; vertical-align: middle;'></progress>\n",
              "      [1240/1240 06:20, Epoch 10/10]\n",
              "    </div>\n",
              "    <table border=\"1\" class=\"dataframe\">\n",
              "  <thead>\n",
              " <tr style=\"text-align: left;\">\n",
              "      <th>Epoch</th>\n",
              "      <th>Training Loss</th>\n",
              "      <th>Validation Loss</th>\n",
              "      <th>Micro F1</th>\n",
              "      <th>Macro F1</th>\n",
              "      <th>Subset Accuracy</th>\n",
              "    </tr>\n",
              "  </thead>\n",
              "  <tbody>\n",
              "    <tr>\n",
              "      <td>1</td>\n",
              "      <td>0.646400</td>\n",
              "      <td>0.595324</td>\n",
              "      <td>0.528942</td>\n",
              "      <td>0.288400</td>\n",
              "      <td>0.247126</td>\n",
              "    </tr>\n",
              "    <tr>\n",
              "      <td>2</td>\n",
              "      <td>0.576200</td>\n",
              "      <td>0.478233</td>\n",
              "      <td>0.718831</td>\n",
              "      <td>0.619109</td>\n",
              "      <td>0.385057</td>\n",
              "    </tr>\n",
              "    <tr>\n",
              "      <td>3</td>\n",
              "      <td>0.483100</td>\n",
              "      <td>0.426118</td>\n",
              "      <td>0.771930</td>\n",
              "      <td>0.708885</td>\n",
              "      <td>0.456897</td>\n",
              "    </tr>\n",
              "    <tr>\n",
              "      <td>4</td>\n",
              "      <td>0.424100</td>\n",
              "      <td>0.392089</td>\n",
              "      <td>0.798956</td>\n",
              "      <td>0.750658</td>\n",
              "      <td>0.528736</td>\n",
              "    </tr>\n",
              "    <tr>\n",
              "      <td>5</td>\n",
              "      <td>0.334200</td>\n",
              "      <td>0.394859</td>\n",
              "      <td>0.795455</td>\n",
              "      <td>0.745633</td>\n",
              "      <td>0.511494</td>\n",
              "    </tr>\n",
              "    <tr>\n",
              "      <td>6</td>\n",
              "      <td>0.314500</td>\n",
              "      <td>0.385544</td>\n",
              "      <td>0.793431</td>\n",
              "      <td>0.742146</td>\n",
              "      <td>0.494253</td>\n",
              "    </tr>\n",
              "    <tr>\n",
              "      <td>7</td>\n",
              "      <td>0.303500</td>\n",
              "      <td>0.381774</td>\n",
              "      <td>0.802065</td>\n",
              "      <td>0.764621</td>\n",
              "      <td>0.520115</td>\n",
              "    </tr>\n",
              "    <tr>\n",
              "      <td>8</td>\n",
              "      <td>0.284300</td>\n",
              "      <td>0.380439</td>\n",
              "      <td>0.812606</td>\n",
              "      <td>0.775293</td>\n",
              "      <td>0.548851</td>\n",
              "    </tr>\n",
              "    <tr>\n",
              "      <td>9</td>\n",
              "      <td>0.254500</td>\n",
              "      <td>0.379431</td>\n",
              "      <td>0.803122</td>\n",
              "      <td>0.761885</td>\n",
              "      <td>0.531609</td>\n",
              "    </tr>\n",
              "    <tr>\n",
              "      <td>10</td>\n",
              "      <td>0.249800</td>\n",
              "      <td>0.379706</td>\n",
              "      <td>0.802768</td>\n",
              "      <td>0.760336</td>\n",
              "      <td>0.525862</td>\n",
              "    </tr>\n",
              "  </tbody>\n",
              "</table><p>"
            ]
          },
          "metadata": {}
        },
        {
          "output_type": "display_data",
          "data": {
            "text/plain": [
              "<IPython.core.display.HTML object>"
            ],
            "text/html": [
              "\n",
              "    <div>\n",
              "      \n",
              "      <progress value='11' max='11' style='width:300px; height:20px; vertical-align: middle;'></progress>\n",
              "      [11/11 00:01]\n",
              "    </div>\n",
              "    "
            ]
          },
          "metadata": {}
        },
        {
          "output_type": "stream",
          "name": "stdout",
          "text": [
            "{'eval_loss': 0.38043883442878723, 'eval_micro_f1': 0.8126064735945485, 'eval_macro_f1': 0.7752926158862644, 'eval_subset_accuracy': 0.5488505747126436, 'eval_runtime': 1.5855, 'eval_samples_per_second': 219.491, 'eval_steps_per_second': 6.938, 'epoch': 10.0}\n"
          ]
        }
      ]
    },
    {
      "cell_type": "code",
      "source": [
        "preds_output = trainer.predict(test_ds)\n",
        "logits = preds_output.predictions\n",
        "probs = torch.sigmoid(torch.tensor(logits)).numpy()\n",
        "\n",
        "preds = (probs >= 0.5).astype(int)\n",
        "true = df_test[LABEL_COLS].values.astype(int)\n",
        "print(classification_report(\n",
        "    true,\n",
        "    preds,\n",
        "    target_names=LABEL_COLS,\n",
        "    zero_division=0  # avoids warnings if any class has no positives\n",
        "))"
      ],
      "metadata": {
        "colab": {
          "base_uri": "https://localhost:8080/",
          "height": 225
        },
        "id": "9VmnGLwx1SE6",
        "outputId": "650790d0-6d1d-43a1-d498-1d47e50c093a"
      },
      "execution_count": 64,
      "outputs": [
        {
          "output_type": "display_data",
          "data": {
            "text/plain": [
              "<IPython.core.display.HTML object>"
            ],
            "text/html": []
          },
          "metadata": {}
        },
        {
          "output_type": "stream",
          "name": "stdout",
          "text": [
            "                     precision    recall  f1-score   support\n",
            "\n",
            "         bug_report       0.81      0.77      0.79       239\n",
            "improvement_request       0.76      0.72      0.74       238\n",
            "             rating       0.90      0.84      0.87       384\n",
            "             others       0.67      0.65      0.66       159\n",
            "\n",
            "          micro avg       0.81      0.77      0.79      1020\n",
            "          macro avg       0.79      0.75      0.77      1020\n",
            "       weighted avg       0.81      0.77      0.79      1020\n",
            "        samples avg       0.85      0.82      0.80      1020\n",
            "\n"
          ]
        }
      ]
    },
    {
      "cell_type": "markdown",
      "source": [
        "#With Augmentation"
      ],
      "metadata": {
        "id": "vAKf3G212X1u"
      }
    },
    {
      "cell_type": "code",
      "source": [
        "import pandas as pd\n",
        "import numpy as np\n",
        "import torch\n",
        "from torch.utils.data import Dataset\n",
        "from sklearn.model_selection import train_test_split\n",
        "from sklearn.metrics import f1_score, accuracy_score\n",
        "\n",
        "from transformers import (\n",
        "    AutoTokenizer,\n",
        "    AutoModelForSequenceClassification,\n",
        "    Trainer,\n",
        "    TrainingArguments,\n",
        "    DataCollatorWithPadding\n",
        ")\n",
        "\n",
        "df_train = pd.read_csv('eda_full_augmented_train_multi.csv')\n",
        "df_val = pd.read_csv('val_multi.csv')\n",
        "df_test = pd.read_csv('test_multi.csv')\n",
        "\n",
        "\n",
        "TEXT_COL = \"review\"\n",
        "LABEL_COLS = ['bug_report','improvement_request','rating','others']\n",
        "num_labels = len(LABEL_COLS)\n",
        "\n",
        "# ensure label columns are ints 0/1\n",
        "df_train[LABEL_COLS] = df_train[LABEL_COLS].astype(int)\n",
        "df_val[LABEL_COLS]   = df_val[LABEL_COLS].astype(int)\n",
        "df_test[LABEL_COLS]  = df_test[LABEL_COLS].astype(int)\n",
        "\n",
        "\n",
        "# AraBERT preprocessing\n",
        "from arabert.preprocess import ArabertPreprocessor\n",
        "prep = ArabertPreprocessor('aubmindlab/bert-large-arabertv2')\n",
        "for df_ in (df_train, df_val, df_test):\n",
        "    df_['review'] = df_['review'].apply(prep.preprocess)\n",
        "\n",
        "MODEL_NAME = 'aubmindlab/bert-large-arabertv2'\n",
        "tokenizer = AutoTokenizer.from_pretrained(MODEL_NAME)\n",
        "\n",
        "class ReviewDataset(Dataset):\n",
        "    def __init__(self, texts, labels, tokenizer):\n",
        "        self.texts     = texts\n",
        "        self.labels    = labels\n",
        "        self.tokenizer = tokenizer\n",
        "\n",
        "    def __len__(self):\n",
        "        return len(self.texts)\n",
        "\n",
        "    def __getitem__(self, idx):\n",
        "        # tokenize the text\n",
        "        encoding = self.tokenizer(\n",
        "            self.texts[idx],\n",
        "            truncation=True,\n",
        "            padding=False,\n",
        "            return_tensors=\"pt\"\n",
        "        )\n",
        "        # convert label row to float\n",
        "        label_tensor = torch.tensor(self.labels[idx], dtype=torch.float)\n",
        "        # HuggingFace Trainer will pick up encoding[\"labels\"]\n",
        "        encoding[\"labels\"] = label_tensor\n",
        "        # remove the extra batch dim\n",
        "        return {k: v.squeeze(0) for k, v in encoding.items()}\n",
        "\n",
        "train_ds = ReviewDataset(df_train[TEXT_COL].tolist(),\n",
        "                         df_train[LABEL_COLS].values,\n",
        "                         tokenizer)\n",
        "val_ds   = ReviewDataset(df_val[TEXT_COL].tolist(),\n",
        "                         df_val[LABEL_COLS].values,\n",
        "                         tokenizer)\n",
        "test_ds  = ReviewDataset(test_df[TEXT_COL].tolist(),\n",
        "                         df_test[LABEL_COLS].values,\n",
        "                         tokenizer)\n",
        "\n",
        "data_collator = DataCollatorWithPadding(tokenizer)\n",
        "\n",
        "# model (multilabel)\n",
        "model = AutoModelForSequenceClassification.from_pretrained(\n",
        "    MODEL_NAME,\n",
        "    num_labels=num_labels,\n",
        "    problem_type=\"multi_label_classification\"  # triggers BCEWithLogitsLoss\n",
        ")\n",
        "\n",
        "training_args = TrainingArguments(\n",
        "    output_dir=\"./bert_multilabel\",\n",
        "    overwrite_output_dir=True,\n",
        "    do_train=True,\n",
        "    do_eval=True,\n",
        "    eval_strategy=\"epoch\",\n",
        "    save_strategy=\"epoch\",\n",
        "    save_total_limit=1,\n",
        "    per_device_train_batch_size=16,\n",
        "    per_device_eval_batch_size=32,\n",
        "    learning_rate=1e-5,\n",
        "    num_train_epochs=10,\n",
        "    logging_strategy=\"steps\",\n",
        "    logging_steps=100,\n",
        "    load_best_model_at_end=True,\n",
        "    metric_for_best_model=\"micro_f1\",\n",
        "    greater_is_better=True,\n",
        ")\n",
        "\n",
        "# metric\n",
        "def compute_metrics(eval_pred):\n",
        "    logits, labels = eval_pred\n",
        "    probs = torch.sigmoid(torch.tensor(logits)).numpy()\n",
        "    preds = (probs >= 0.5).astype(int)\n",
        "    labels = labels.astype(int)\n",
        "\n",
        "    micro_f1 = f1_score(labels, preds, average=\"micro\")\n",
        "    macro_f1 = f1_score(labels, preds, average=\"macro\")\n",
        "    subset_acc = accuracy_score(labels, preds)\n",
        "\n",
        "    return {\n",
        "        \"micro_f1\": micro_f1,\n",
        "        \"macro_f1\": macro_f1,\n",
        "        \"subset_accuracy\": subset_acc\n",
        "    }\n",
        "\n",
        "trainer = Trainer(\n",
        "    model=model,\n",
        "    args=training_args,\n",
        "    train_dataset=train_ds,\n",
        "    eval_dataset=val_ds,\n",
        "    tokenizer=tokenizer,\n",
        "    data_collator=data_collator,\n",
        "    compute_metrics=compute_metrics\n",
        ")\n",
        "\n",
        "# train and evaluate\n",
        "trainer.train()\n",
        "print(trainer.evaluate())"
      ],
      "metadata": {
        "colab": {
          "base_uri": "https://localhost:8080/",
          "height": 533
        },
        "id": "JyNbDRFp2Zwg",
        "outputId": "46e374c4-d843-4457-bb65-940c22b9948f"
      },
      "execution_count": 67,
      "outputs": [
        {
          "output_type": "stream",
          "name": "stderr",
          "text": [
            "[2025-05-12 20:04:39,981 - farasapy_logger - WARNING]: Be careful with large lines as they may break on interactive mode. You may switch to Standalone mode for such cases.\n",
            "Some weights of BertForSequenceClassification were not initialized from the model checkpoint at aubmindlab/bert-large-arabertv2 and are newly initialized: ['classifier.bias', 'classifier.weight']\n",
            "You should probably TRAIN this model on a down-stream task to be able to use it for predictions and inference.\n",
            "<ipython-input-67-5ec64b8e449f>:119: FutureWarning: `tokenizer` is deprecated and will be removed in version 5.0.0 for `Trainer.__init__`. Use `processing_class` instead.\n",
            "  trainer = Trainer(\n"
          ]
        },
        {
          "output_type": "display_data",
          "data": {
            "text/plain": [
              "<IPython.core.display.HTML object>"
            ],
            "text/html": [
              "\n",
              "    <div>\n",
              "      \n",
              "      <progress value='2200' max='2200' style='width:300px; height:20px; vertical-align: middle;'></progress>\n",
              "      [2200/2200 09:47, Epoch 10/10]\n",
              "    </div>\n",
              "    <table border=\"1\" class=\"dataframe\">\n",
              "  <thead>\n",
              " <tr style=\"text-align: left;\">\n",
              "      <th>Epoch</th>\n",
              "      <th>Training Loss</th>\n",
              "      <th>Validation Loss</th>\n",
              "      <th>Micro F1</th>\n",
              "      <th>Macro F1</th>\n",
              "      <th>Subset Accuracy</th>\n",
              "    </tr>\n",
              "  </thead>\n",
              "  <tbody>\n",
              "    <tr>\n",
              "      <td>1</td>\n",
              "      <td>0.658800</td>\n",
              "      <td>0.619923</td>\n",
              "      <td>0.600897</td>\n",
              "      <td>0.441042</td>\n",
              "      <td>0.252874</td>\n",
              "    </tr>\n",
              "    <tr>\n",
              "      <td>2</td>\n",
              "      <td>0.581300</td>\n",
              "      <td>0.470442</td>\n",
              "      <td>0.751084</td>\n",
              "      <td>0.685317</td>\n",
              "      <td>0.433908</td>\n",
              "    </tr>\n",
              "    <tr>\n",
              "      <td>3</td>\n",
              "      <td>0.438700</td>\n",
              "      <td>0.401987</td>\n",
              "      <td>0.796327</td>\n",
              "      <td>0.759447</td>\n",
              "      <td>0.488506</td>\n",
              "    </tr>\n",
              "    <tr>\n",
              "      <td>4</td>\n",
              "      <td>0.366900</td>\n",
              "      <td>0.377513</td>\n",
              "      <td>0.792164</td>\n",
              "      <td>0.752110</td>\n",
              "      <td>0.500000</td>\n",
              "    </tr>\n",
              "    <tr>\n",
              "      <td>5</td>\n",
              "      <td>0.290300</td>\n",
              "      <td>0.382280</td>\n",
              "      <td>0.801674</td>\n",
              "      <td>0.772851</td>\n",
              "      <td>0.488506</td>\n",
              "    </tr>\n",
              "    <tr>\n",
              "      <td>6</td>\n",
              "      <td>0.246100</td>\n",
              "      <td>0.399673</td>\n",
              "      <td>0.795608</td>\n",
              "      <td>0.761638</td>\n",
              "      <td>0.485632</td>\n",
              "    </tr>\n",
              "    <tr>\n",
              "      <td>7</td>\n",
              "      <td>0.215800</td>\n",
              "      <td>0.410071</td>\n",
              "      <td>0.791561</td>\n",
              "      <td>0.751378</td>\n",
              "      <td>0.488506</td>\n",
              "    </tr>\n",
              "    <tr>\n",
              "      <td>8</td>\n",
              "      <td>0.196400</td>\n",
              "      <td>0.416586</td>\n",
              "      <td>0.797649</td>\n",
              "      <td>0.760712</td>\n",
              "      <td>0.494253</td>\n",
              "    </tr>\n",
              "    <tr>\n",
              "      <td>9</td>\n",
              "      <td>0.164300</td>\n",
              "      <td>0.420388</td>\n",
              "      <td>0.800333</td>\n",
              "      <td>0.766667</td>\n",
              "      <td>0.494253</td>\n",
              "    </tr>\n",
              "    <tr>\n",
              "      <td>10</td>\n",
              "      <td>0.156100</td>\n",
              "      <td>0.427995</td>\n",
              "      <td>0.804312</td>\n",
              "      <td>0.769655</td>\n",
              "      <td>0.500000</td>\n",
              "    </tr>\n",
              "  </tbody>\n",
              "</table><p>"
            ]
          },
          "metadata": {}
        },
        {
          "output_type": "display_data",
          "data": {
            "text/plain": [
              "<IPython.core.display.HTML object>"
            ],
            "text/html": [
              "\n",
              "    <div>\n",
              "      \n",
              "      <progress value='11' max='11' style='width:300px; height:20px; vertical-align: middle;'></progress>\n",
              "      [11/11 00:01]\n",
              "    </div>\n",
              "    "
            ]
          },
          "metadata": {}
        },
        {
          "output_type": "stream",
          "name": "stdout",
          "text": [
            "{'eval_loss': 0.4279947876930237, 'eval_micro_f1': 0.8043117744610282, 'eval_macro_f1': 0.7696554642244635, 'eval_subset_accuracy': 0.5, 'eval_runtime': 1.5838, 'eval_samples_per_second': 219.727, 'eval_steps_per_second': 6.945, 'epoch': 10.0}\n"
          ]
        }
      ]
    },
    {
      "cell_type": "code",
      "source": [
        "preds_output = trainer.predict(test_ds)\n",
        "logits = preds_output.predictions\n",
        "probs = torch.sigmoid(torch.tensor(logits)).numpy()\n",
        "\n",
        "preds = (probs >= 0.5).astype(int)\n",
        "true = df_test[LABEL_COLS].values.astype(int)\n",
        "print(classification_report(\n",
        "    true,\n",
        "    preds,\n",
        "    target_names=LABEL_COLS,\n",
        "    zero_division=0  # avoids warnings if any class has no positives\n",
        "))"
      ],
      "metadata": {
        "colab": {
          "base_uri": "https://localhost:8080/",
          "height": 225
        },
        "id": "0fZUE01q2k2f",
        "outputId": "541084fa-85d1-456e-a2d0-a7c31d22e9f4"
      },
      "execution_count": 68,
      "outputs": [
        {
          "output_type": "display_data",
          "data": {
            "text/plain": [
              "<IPython.core.display.HTML object>"
            ],
            "text/html": []
          },
          "metadata": {}
        },
        {
          "output_type": "stream",
          "name": "stdout",
          "text": [
            "                     precision    recall  f1-score   support\n",
            "\n",
            "         bug_report       0.77      0.83      0.80       239\n",
            "improvement_request       0.72      0.79      0.76       238\n",
            "             rating       0.88      0.87      0.87       384\n",
            "             others       0.63      0.65      0.64       159\n",
            "\n",
            "          micro avg       0.78      0.81      0.79      1020\n",
            "          macro avg       0.75      0.79      0.77      1020\n",
            "       weighted avg       0.78      0.81      0.79      1020\n",
            "        samples avg       0.83      0.85      0.80      1020\n",
            "\n"
          ]
        }
      ]
    },
    {
      "cell_type": "code",
      "source": [
        "train_texts = set(df_train['review'])\n",
        "overlap = train_texts.intersection(df_test['review'])\n",
        "print(\"Overlap between train & test:\", len(overlap))"
      ],
      "metadata": {
        "colab": {
          "base_uri": "https://localhost:8080/"
        },
        "id": "QndRaNq8I2fr",
        "outputId": "f14df584-e2a1-4580-c85c-bbcff5a6c405"
      },
      "execution_count": 69,
      "outputs": [
        {
          "output_type": "stream",
          "name": "stdout",
          "text": [
            "Overlap between train & test: 2\n"
          ]
        }
      ]
    },
    {
      "cell_type": "markdown",
      "source": [
        "Classification analysis and possible improvements."
      ],
      "metadata": {
        "id": "cmXKBqbhDEW5"
      }
    },
    {
      "cell_type": "markdown",
      "source": [
        "MLM did a great job exceeding 0.75 f1 score and improving by 0,08 compared to RNN as previously said.\n",
        "\n",
        "augmentation did not improve the performance that much"
      ],
      "metadata": {
        "id": "tKWiJUD0MfA6"
      }
    }
  ]
}